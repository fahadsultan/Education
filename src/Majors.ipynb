{
 "cells": [
  {
   "cell_type": "code",
   "execution_count": 2,
   "id": "f12fab8c",
   "metadata": {},
   "outputs": [],
   "source": [
    "import pandas as pd\n",
    "from matplotlib import pyplot as plt\n",
    "from scipy.stats import pearsonr, spearmanr\n",
    "\n",
    "%matplotlib inline"
   ]
  },
  {
   "cell_type": "code",
   "execution_count": 240,
   "id": "8e641638",
   "metadata": {},
   "outputs": [
    {
     "name": "stderr",
     "output_type": "stream",
     "text": [
      "/Users/fahadsultan/opt/anaconda3/lib/python3.9/site-packages/scipy/stats/stats.py:4023: PearsonRConstantInputWarning: An input array is constant; the correlation coefficient is not defined.\n",
      "  warnings.warn(PearsonRConstantInputWarning())\n",
      "/Users/fahadsultan/opt/anaconda3/lib/python3.9/site-packages/scipy/stats/stats.py:4484: SpearmanRConstantInputWarning: An input array is constant; the correlation coefficient is not defined.\n",
      "  warnings.warn(SpearmanRConstantInputWarning())\n"
     ]
    }
   ],
   "source": [
    "data = pd.read_csv('Data_5-30-2022.csv')\n",
    "data.index = data['Institution Name']\n",
    "\n",
    "data2020 = data[[col for col in data.columns if '2020' in col]]\n",
    "\n",
    "data2020.columns = [ col.replace(\"Grand total (C2020_A \", \"\")\\\n",
    "                        .replace(\"  Bachelor's degree)\",  \"\")\\\n",
    "                        .replace(\" First major  \",        \"\")  for col in data2020.columns]\n",
    "\n",
    "#normalize by total graduates\n",
    "data2020 = data2020.apply(lambda x: round((x/x['Grand total'])*100, 2),axis=1)\n",
    "\n",
    "majors = data2020.columns\n",
    "\n",
    "rankings = pd.read_excel('US Higher Education_ Value vs. Vulnerability.xlsx', skiprows=5)\n",
    "rankings = rankings[rankings[\"Ranking List\"]==\"USN National College Ranking\"]\n",
    "rankings = rankings[[\"Institution Name\", \"Rank\"]]\n",
    "\n",
    "pearsons = []\n",
    "spearmans = []\n",
    "\n",
    "for i, major in enumerate(majors): \n",
    "\n",
    "    cs = [col for col in data2020.columns if col==major]\n",
    "    csdata = data2020[cs].dropna()\n",
    "    csdata = csdata[csdata[cs]>0]\n",
    "    merged = pd.merge(rankings, csdata, left_on=\"Institution Name\", right_index=True)\n",
    "\n",
    "    furman = merged[merged['Institution Name']=='Furman University']\n",
    "    \n",
    "    major = cs[0]\n",
    "    filtered = merged.dropna()\n",
    "    \n",
    "    if len(filtered)>1:\n",
    "        results = pearsonr(filtered[\"Rank\"], filtered[major])\n",
    "        pearsons.append((major, results[0], results[1]));\n",
    "        \n",
    "        results = spearmanr(filtered[\"Rank\"], filtered[major])\n",
    "        spearmans.append((major, results[0], results[1]));\n",
    "        \n",
    "        plt.figure()\n",
    "        top = filtered.iloc[filtered[major].argmax()]\n",
    "        plt.title(\"Top: %s (Rank: %s)\" % (top['Institution Name'], top['Rank']));\n",
    "\n",
    "        plt.scatter(filtered[\"Rank\"], filtered[cs]);\n",
    "        plt.scatter(furman[\"Rank\"], furman[cs]);\n",
    "\n",
    "        plt.xlabel(\"Rank\");\n",
    "        plt.ylabel(\"%s\\nGraduates\" % cs[0]);\n",
    "        plt.legend(['Others', 'Furman']);\n",
    "        plt.savefig('out/%s' % major.replace(\"/\", \"_\"))\n",
    "        plt.close()"
   ]
  },
  {
   "cell_type": "code",
   "execution_count": 241,
   "id": "5098cafb",
   "metadata": {},
   "outputs": [],
   "source": [
    "corrs_df = pd.DataFrame(pearsons)\n",
    "corrs_df.columns = ['major', 'r', 'pval']\n",
    "\n",
    "final_results = corrs_df[corrs_df['pval']<(0.001/len(corrs_df))].sort_values('r')"
   ]
  },
  {
   "cell_type": "code",
   "execution_count": 242,
   "id": "5184c826",
   "metadata": {},
   "outputs": [
    {
     "data": {
      "text/html": [
       "<div>\n",
       "<style scoped>\n",
       "    .dataframe tbody tr th:only-of-type {\n",
       "        vertical-align: middle;\n",
       "    }\n",
       "\n",
       "    .dataframe tbody tr th {\n",
       "        vertical-align: top;\n",
       "    }\n",
       "\n",
       "    .dataframe thead th {\n",
       "        text-align: right;\n",
       "    }\n",
       "</style>\n",
       "<table border=\"1\" class=\"dataframe\">\n",
       "  <thead>\n",
       "    <tr style=\"text-align: right;\">\n",
       "      <th></th>\n",
       "      <th>major</th>\n",
       "      <th>r</th>\n",
       "      <th>pval</th>\n",
       "    </tr>\n",
       "  </thead>\n",
       "  <tbody>\n",
       "    <tr>\n",
       "      <th>25</th>\n",
       "      <td>Social Sciences</td>\n",
       "      <td>-0.684243</td>\n",
       "      <td>1.098429e-19</td>\n",
       "    </tr>\n",
       "    <tr>\n",
       "      <th>6</th>\n",
       "      <td>Computer and Information Sciences and Support ...</td>\n",
       "      <td>-0.511734</td>\n",
       "      <td>2.715509e-09</td>\n",
       "    </tr>\n",
       "    <tr>\n",
       "      <th>4</th>\n",
       "      <td>Area  Ethnic  Cultural  Gender  and Group Studies</td>\n",
       "      <td>-0.491227</td>\n",
       "      <td>7.653240e-07</td>\n",
       "    </tr>\n",
       "    <tr>\n",
       "      <th>16</th>\n",
       "      <td>Mathematics and Statistics</td>\n",
       "      <td>-0.461217</td>\n",
       "      <td>2.955916e-08</td>\n",
       "    </tr>\n",
       "    <tr>\n",
       "      <th>10</th>\n",
       "      <td>Foreign Languages  Literatures  and Linguistics</td>\n",
       "      <td>-0.391167</td>\n",
       "      <td>9.153340e-06</td>\n",
       "    </tr>\n",
       "    <tr>\n",
       "      <th>28</th>\n",
       "      <td>Business  Management  Marketing  and Related S...</td>\n",
       "      <td>0.453038</td>\n",
       "      <td>5.771853e-06</td>\n",
       "    </tr>\n",
       "    <tr>\n",
       "      <th>7</th>\n",
       "      <td>Education</td>\n",
       "      <td>0.471917</td>\n",
       "      <td>7.615692e-06</td>\n",
       "    </tr>\n",
       "  </tbody>\n",
       "</table>\n",
       "</div>"
      ],
      "text/plain": [
       "                                                major         r          pval\n",
       "25                                    Social Sciences -0.684243  1.098429e-19\n",
       "6   Computer and Information Sciences and Support ... -0.511734  2.715509e-09\n",
       "4   Area  Ethnic  Cultural  Gender  and Group Studies -0.491227  7.653240e-07\n",
       "16                         Mathematics and Statistics -0.461217  2.955916e-08\n",
       "10    Foreign Languages  Literatures  and Linguistics -0.391167  9.153340e-06\n",
       "28  Business  Management  Marketing  and Related S...  0.453038  5.771853e-06\n",
       "7                                           Education  0.471917  7.615692e-06"
      ]
     },
     "execution_count": 242,
     "metadata": {},
     "output_type": "execute_result"
    }
   ],
   "source": [
    "final_results"
   ]
  },
  {
   "cell_type": "code",
   "execution_count": 243,
   "id": "8bcb0570",
   "metadata": {},
   "outputs": [],
   "source": [
    "corrs_df = pd.DataFrame(spearmans)\n",
    "corrs_df.columns = ['major', 'r', 'pval']\n",
    "\n",
    "final_results = corrs_df[corrs_df['pval']<(0.001/len(corrs_df))].sort_values('r')"
   ]
  },
  {
   "cell_type": "code",
   "execution_count": 244,
   "id": "fbb75b76",
   "metadata": {},
   "outputs": [
    {
     "data": {
      "text/html": [
       "<div>\n",
       "<style scoped>\n",
       "    .dataframe tbody tr th:only-of-type {\n",
       "        vertical-align: middle;\n",
       "    }\n",
       "\n",
       "    .dataframe tbody tr th {\n",
       "        vertical-align: top;\n",
       "    }\n",
       "\n",
       "    .dataframe thead th {\n",
       "        text-align: right;\n",
       "    }\n",
       "</style>\n",
       "<table border=\"1\" class=\"dataframe\">\n",
       "  <thead>\n",
       "    <tr style=\"text-align: right;\">\n",
       "      <th></th>\n",
       "      <th>major</th>\n",
       "      <th>r</th>\n",
       "      <th>pval</th>\n",
       "    </tr>\n",
       "  </thead>\n",
       "  <tbody>\n",
       "    <tr>\n",
       "      <th>25</th>\n",
       "      <td>Social Sciences</td>\n",
       "      <td>-0.673612</td>\n",
       "      <td>6.444726e-19</td>\n",
       "    </tr>\n",
       "    <tr>\n",
       "      <th>6</th>\n",
       "      <td>Computer and Information Sciences and Support ...</td>\n",
       "      <td>-0.513773</td>\n",
       "      <td>2.291601e-09</td>\n",
       "    </tr>\n",
       "    <tr>\n",
       "      <th>4</th>\n",
       "      <td>Area  Ethnic  Cultural  Gender  and Group Studies</td>\n",
       "      <td>-0.474136</td>\n",
       "      <td>2.059487e-06</td>\n",
       "    </tr>\n",
       "    <tr>\n",
       "      <th>10</th>\n",
       "      <td>Foreign Languages  Literatures  and Linguistics</td>\n",
       "      <td>-0.445872</td>\n",
       "      <td>2.972523e-07</td>\n",
       "    </tr>\n",
       "    <tr>\n",
       "      <th>16</th>\n",
       "      <td>Mathematics and Statistics</td>\n",
       "      <td>-0.436306</td>\n",
       "      <td>1.895011e-07</td>\n",
       "    </tr>\n",
       "    <tr>\n",
       "      <th>19</th>\n",
       "      <td>Philosophy and Religious Studies</td>\n",
       "      <td>-0.427576</td>\n",
       "      <td>5.925857e-07</td>\n",
       "    </tr>\n",
       "    <tr>\n",
       "      <th>21</th>\n",
       "      <td>Physical Sciences</td>\n",
       "      <td>-0.374855</td>\n",
       "      <td>1.027809e-05</td>\n",
       "    </tr>\n",
       "    <tr>\n",
       "      <th>7</th>\n",
       "      <td>Education</td>\n",
       "      <td>0.486384</td>\n",
       "      <td>3.607043e-06</td>\n",
       "    </tr>\n",
       "  </tbody>\n",
       "</table>\n",
       "</div>"
      ],
      "text/plain": [
       "                                                major         r          pval\n",
       "25                                    Social Sciences -0.673612  6.444726e-19\n",
       "6   Computer and Information Sciences and Support ... -0.513773  2.291601e-09\n",
       "4   Area  Ethnic  Cultural  Gender  and Group Studies -0.474136  2.059487e-06\n",
       "10    Foreign Languages  Literatures  and Linguistics -0.445872  2.972523e-07\n",
       "16                         Mathematics and Statistics -0.436306  1.895011e-07\n",
       "19                   Philosophy and Religious Studies -0.427576  5.925857e-07\n",
       "21                                  Physical Sciences -0.374855  1.027809e-05\n",
       "7                                           Education  0.486384  3.607043e-06"
      ]
     },
     "execution_count": 244,
     "metadata": {},
     "output_type": "execute_result"
    }
   ],
   "source": [
    "final_results"
   ]
  },
  {
   "cell_type": "markdown",
   "id": "7c57b764",
   "metadata": {},
   "source": [
    "# Major Distributions"
   ]
  },
  {
   "cell_type": "code",
   "execution_count": 363,
   "id": "fda4eb53",
   "metadata": {},
   "outputs": [],
   "source": [
    "top50 = rankings[rankings['Rank']<=100].sort_values('Rank')"
   ]
  },
  {
   "cell_type": "code",
   "execution_count": 365,
   "id": "b7e9c0f8",
   "metadata": {},
   "outputs": [],
   "source": [
    "data2020 = data2020.fillna(0)"
   ]
  },
  {
   "cell_type": "code",
   "execution_count": 366,
   "id": "77fc04ae",
   "metadata": {},
   "outputs": [
    {
     "name": "stdout",
     "output_type": "stream",
     "text": [
      "Middlebury College\n",
      "Washington and Lee University\n",
      "Smith College\n",
      "Wesleyan University\n",
      "University of Richmond\n",
      "Bryn Mawr College\n",
      "Sewanee - The University of the South\n",
      "Bard College\n",
      "St. John's College - MD\n",
      "Willamette University\n",
      "St. John's College - NM\n",
      "Lewis & Clark College\n",
      "University of Puget Sound\n"
     ]
    }
   ],
   "source": [
    "for idx, row in top50.iterrows():\n",
    "    name, rank = row['Institution Name'], row['Rank']\n",
    "    if name not in data2020.index:\n",
    "        print(name)\n",
    "        continue\n",
    "    majors = data2020.loc[name]\n",
    "    if type(data2020.loc[name])!=pd.Series:\n",
    "        majors = majors.iloc[0]\n",
    "    if 'Grand total' in majors.index:\n",
    "        majors = majors.drop('Grand total')\n",
    "#     majors = majors.dropna()\n",
    "#     majors = majors.sort_values()\n",
    "    majors = majors.loc[ordered[::-1]]\n",
    "    plt.figure(figsize=(15, 10))\n",
    "    barlist = list(plt.barh(majors.index, majors.values))\n",
    "    [x.set_color('g') for x in barlist[:-12]]\n",
    "    [x.set_color('orange') for x in barlist[-12:-8]]\n",
    "    [x.set_color('b') for x in barlist[-8:-5]]\n",
    "    [x.set_color('r') for x in barlist[-5:]]\n",
    "    barlist[-1].set_color('black');\n",
    "    plt.xlim(0, 30);\n",
    "    plt.xticks(fontsize=15);\n",
    "    plt.yticks(fontsize=15);\n",
    "    plt.title(name);\n",
    "    plt.tight_layout()\n",
    "    plt.grid(axis='x')\n",
    "    plt.savefig('out/majors_distribution/%s_%s.png' % (rank, name));\n",
    "    plt.close()\n",
    "#     break"
   ]
  },
  {
   "cell_type": "code",
   "execution_count": 331,
   "id": "2a16348d",
   "metadata": {},
   "outputs": [],
   "source": [
    "ordered = [\n",
    "'Social Sciences',\n",
    "'Biological and Biomedical Sciences',\n",
    "'Health Professions and Related Programs',\n",
    "'Physical Sciences',\n",
    "'Psychology',\n",
    "'Computer and Information Sciences and Support Services',\n",
    "'Mathematics and Statistics',\n",
    "'Engineering',\n",
    "'Business  Management  Marketing  and Related Support Services',\n",
    "'Communication  Journalism  and Related Programs',\n",
    "'Education',\n",
    "'History',\n",
    "'English Language and Literature/Letters',\n",
    "'Foreign Languages  Literatures  and Linguistics',\n",
    "'Area  Ethnic  Cultural  Gender  and Group Studies',\n",
    "'Philosophy and Religious Studies', \n",
    "'Visual and Performing Arts',\n",
    "'Theology and Religious Vocations', \n",
    "'Liberal Arts and Sciences  General Studies and Humanities',\n",
    "'Parks  Recreation  Leisure  Fitness  and Kinesiology',\n",
    "'Homeland Security  Law Enforcement  Firefighting and Related Protective Services',\n",
    "'Multi/Interdisciplinary Studies',\n",
    "'Public Administration and Social Service Professions',\n",
    "'Natural Resources and Conservation',\n",
    "'Architecture and Related Services',\n",
    "'Agricultural/Animal/Plant/Veterinary Science and Related Fields',\n",
    "'Family and Consumer Sciences/Human Sciences',\n",
    "'Engineering/Engineering-related Technologies/Technicians',\n",
    "'Communications Technologies/Technicians and Support Services',\n",
    "'Transportation and Materials Moving',\n",
    "'Legal Professions and Studies',\n",
    "'Military Technologies and Applied Sciences',\n",
    "'Culinary  Entertainment  and Personal Services',\n",
    "'Precision Production',\n",
    "'Mechanic and Repair Technologies/Technicians',\n",
    "'Library Science',\n",
    "'Science Technologies/Technicians',\n",
    "'Construction Trades']"
   ]
  },
  {
   "cell_type": "code",
   "execution_count": 333,
   "id": "2ad9564d",
   "metadata": {},
   "outputs": [],
   "source": [
    "majors = data2020.loc[name]"
   ]
  },
  {
   "cell_type": "markdown",
   "id": "81b82044",
   "metadata": {},
   "source": [
    "# With Scoreboard Data"
   ]
  },
  {
   "cell_type": "code",
   "execution_count": 3,
   "id": "088f7bd9",
   "metadata": {},
   "outputs": [
    {
     "name": "stderr",
     "output_type": "stream",
     "text": [
      "/Users/fahadsultan/opt/anaconda3/lib/python3.9/site-packages/IPython/core/interactiveshell.py:3444: DtypeWarning: Columns (6,9,441,442,443,444,445,446,447,448,449,450,451,452,453,454,455,456,457,458,459,460,461,462,463,464,465,466,467,468,469,470,471,472,473,474,475,476,477,478,479,480,481,482,483,484,485,486,487,488,489,490,491,492,493,494,495,496,497,498,499,500,501,502,503,504,505,506,507,508,509,510,511,512,513,514,515,516,517,518,519,520,521,522,523,524,525,526,527,528,529,530,531,532,533,534,535,536,537,538,539,540,541,542,543,544,545,546,547,548,549,550,551,552,553,554,555,556,557,558,559,560,561,562,563,564,565,566,567,568,569,570,571,572,573,574,575,576,577,578,579,580,581,582,583,584,585,586,587,588,589,590,591,592,593,594,595,596,597,598,599,600,601,602,603,604,605,606,607,608,609,610,611,612,613,614,615,616,617,618,619,620,621,622,623,624,625,626,627,628,629,630,631,632,633,634,635,636,637,638,639,640,641,642,643,644,645,646,647,648,649,650,651,652,653,654,655,656,657,658,659,660,661,662,663,664,665,666,667,668,669,670,671,672,673,674,675,676,677,678,679,680,681,682,683,684,685,686,687,688,689,690,691,692,693,694,695,696,697,698,699,700,701,702,703,704,705,706,707,708,709,710,711,712,713,714,715,716,717,718,719,720,721,722,723,724,725,726,727,728,729,730,731,732,733,734,735,736,737,738,739,740,741,742,743,744,745,746,747,748,749,750,751,752,753,754,755,756,757,758,759,760,761,762,763,764,765,766,767,768,769,770,771,772,773,774,775,776,777,778,779,780,781,782,783,784,785,786,787,788,789,790,791,792,793,794,795,796,797,798,799,800,801,802,803,804,805,806,807,808,809,810,811,812,813,814,815,816,817,818,819,820,821,822,823,824,825,826,827,828,829,830,831,832,833,834,835,836,837,838,839,840,841,842,843,844,845,846,847,848,849,850,851,852,853,854,855,856,857,858,859,860,861,862,863,864,865,866,867,868,869,870,871,872,873,874,875,876,877,878,879,880,881,882,883,884,885,886,887,888,889,890,891,892,893,894,895,896,897,898,899,900,901,902,903,904,905,906,907,908,909,910,911,912,913,914,915,916,917,918,919,920,921,922,923,924,925,926,927,928,929,930,931,932,933,934,935,936,937,938,939,940,941,942,943,944,945,946,947,948,949,950,951,952,953,954,955,956,957,958,959,960,961,962,963,964,965,966,967,968,969,970,971,972,973,974,975,976,977,978,979,980,981,982,983,984,985,986,987,988,989,990,991,992,993,994,995,996,997,998,999,1000,1001,1002,1003,1004,1005,1006,1007,1008,1009,1010,1011,1012,1013,1014,1015,1016,1017,1018,1019,1020,1021,1022,1023,1024,1025,1026,1027,1028,1029,1030,1031,1032,1033,1034,1035,1036,1037,1038,1039,1040,1041,1042,1043,1044,1045,1046,1047,1048,1049,1050,1051,1052,1053,1054,1055,1056,1057,1058,1059,1060,1061,1062,1063,1064,1065,1066,1067,1068,1069,1070,1071,1072,1073,1074,1075,1076,1077,1078,1079,1080,1081,1082,1083,1084,1085,1086,1087,1088,1089,1090,1091,1092,1093,1094,1095,1096,1097,1098,1099,1100,1101,1102,1103,1104,1105,1106,1107,1108,1109,1110,1111,1112,1113,1114,1115,1116,1117,1118,1119,1120,1121,1122,1123,1124,1125,1126,1127,1128,1129,1130,1131,1132,1133,1134,1135,1136,1137,1138,1139,1140,1141,1142,1143,1144,1145,1146,1147,1148,1149,1150,1151,1152,1153,1154,1155,1156,1157,1158,1159,1160,1161,1162,1163,1164,1165,1166,1167,1168,1169,1170,1171,1172,1173,1174,1175,1176,1177,1178,1179,1180,1181,1182,1183,1184,1185,1186,1187,1188,1189,1190,1191,1192,1193,1194,1195,1196,1197,1198,1199,1200,1201,1202,1203,1204,1205,1206,1207,1208,1209,1210,1211,1212,1213,1214,1215,1216,1217,1218,1219,1220,1221,1222,1223,1224,1225,1226,1227,1228,1229,1230,1231,1232,1233,1234,1235,1236,1237,1238,1239,1240,1241,1242,1243,1244,1245,1246,1247,1248,1249,1250,1251,1252,1253,1254,1255,1256,1257,1258,1259,1260,1261,1262,1263,1264,1265,1266,1267,1268,1269,1270,1271,1272,1273,1274,1275,1276,1277,1278,1279,1280,1281,1282,1283,1284,1285,1286,1287,1288,1289,1290,1291,1292,1293,1294,1295,1296,1297,1298,1299,1300,1301,1302,1303,1304,1305,1306,1307,1308,1309,1310,1311,1312,1313,1314,1315,1316,1317,1318,1319,1320,1321,1322,1323,1324,1325,1326,1327,1328,1329,1330,1331,1332,1333,1334,1335,1336,1337,1338,1339,1340,1341,1342,1343,1344,1345,1346,1347,1348,1349,1350,1351,1352,1353,1354,1355,1356,1357,1358,1359,1360,1361,1362,1363,1364,1365,1366,1367,1368,1369,1370,1371,1372,1373,1374,1375,1376,1377,1378,1379,1380,1381,1382,1383,1384,1385,1386,1387,1388,1389,1390,1391,1392,1393,1394,1395,1396,1397,1398,1399,1400,1401,1402,1403,1404,1405,1406,1407,1408,1409,1410,1411,1412,1413,1414,1415,1416,1417,1418,1419,1420,1421,1422,1423,1424,1425,1426,1427,1428,1429,1430,1431,1432,1433,1434,1435,1436,1437,1438,1439,1440,1441,1442,1443,1444,1445,1446,1447,1448,1449,1450,1451,1452,1453,1454,1455,1456,1457,1458,1459,1460,1461,1462,1463,1464,1465,1466,1467,1468,1469,1470,1471,1472,1473,1474,1475,1476,1477,1478,1479,1480,1481,1482,1483,1484,1485,1486,1487,1488,1489,1490,1491,1492,1493,1494,1495,1496,1497,1498,1499,1500,1501,1502,1503,1504,1505,1506,1507,1508,1509,1510,1511,1512,1513,1514,1515,1516,1517,1518,1519,1520,1521,1522,1523,1524,1525,1526,1527,1528,1529,1530,1531,1532,1533,1534,1535,1536,1537,1538,1539,1540,1541,1542,1543,1544,1545,1546,1547,1548,1549,1550,1551,1552,1553,1554,1555,1556,1557,1558,1559,1560,1561,1562,1563,1564,1565,1566,1567,1568,1569,1570,1571,1572,1573,1574,1575,1576,1577,1578,1579,1580,1581,1582,1583,1584,1585,1586,1587,1588,1589,1590,1591,1592,1593,1594,1595,1596,1597,1598,1599,1600,1601,1602,1604,1605,1606,1608,1609,1610,1611,1612,1613,1614,1615,1616,1619,1620,1621,1622,1623,1624,1625,1626,1627,1628,1629,1636,1638,1640,1643,1644,1648,1653,1654,1655,1656,1657,1658,1659,1660,1661,1662,1664,1666,1669,1670,1674,1679,1680,1681,1682,1683,1684,1685,1686,1687,1688,1689,1690,1691,1692,1693,1695,1697,1700,1701,1702,1703,1704,1705,1706,1707,1708,1709,1710,1711,1712,1713,1714,1715,1716,1717,1718,1719,1720,1721,1722,1723,1724,1725,1726,1727,1728,1729,1743,1815,1816,1817,1818,1823,1824,1830,1831,1844,1845,1846,1879,1880,1881,1882,1883,1884,1885,1886,1887,1888,1889,1890,1891,1892,1893,1894,1895,1896,1897,1898,1908,1909,1910,1911,1912,1913,1957,1958,1959,1960,1961,1962,1963,1964,1965,1966,1967,1968,1969,1970,1971,1972,1973,1974,1975,1976,1983,1984,1988,1989,1991,1992,1993,1994,1995,1996,1997,1998,1999,2000,2001,2002,2003,2004,2005,2006,2007,2008,2009,2010,2011,2012,2013,2014,2015,2016,2017,2018,2019,2020,2021,2022,2023,2024,2025,2026,2027,2028,2029,2030,2031,2032,2033,2034,2035,2036,2037,2038,2039,2040,2044,2045,2046,2047,2048,2049,2050,2051,2052,2053,2054,2055,2056,2057,2058,2059,2060,2061,2062,2063,2064,2065,2066,2067,2068,2069,2070,2071,2072,2073,2074,2075,2076,2077,2078,2079,2080,2081,2082,2083,2084,2085,2086,2087,2088,2089,2090,2091,2092,2093,2094,2095,2096,2097,2098,2099,2100,2101,2102,2103,2104,2105,2106,2107,2108,2109,2110,2111,2112,2113,2114,2115,2116,2117,2118,2119,2120,2121,2122,2123,2124,2125,2126,2127,2128,2129,2130,2131,2132,2133,2134,2135,2136,2137,2138,2139,2140,2141,2142,2143,2144,2145,2146,2147,2148,2149,2150,2151,2152,2153,2154,2155,2156,2157,2158,2159,2160,2161,2162,2163,2164,2165,2166,2167,2168,2169,2170,2171,2172,2173,2174,2175,2176,2177,2178,2179,2180,2181,2182,2183,2184,2185,2186,2187,2188,2189,2190,2191,2192,2193,2194,2195,2196,2197,2198,2199,2200,2201,2202,2203,2204,2205,2206,2207,2208,2209,2210,2211,2212,2213,2214,2215,2216,2217,2218,2219,2220,2221,2222,2223,2224,2225,2226,2227,2228,2229,2230,2231,2232,2233,2234,2235,2236,2237,2238,2239,2240,2241,2242,2243,2244,2245,2246,2247,2248,2249,2250,2251,2252,2253,2254,2255,2256,2257,2258,2259,2260,2261,2262,2263,2264,2265,2266,2267,2268,2269,2270,2271,2272,2273,2274,2275,2276,2277,2278,2279,2280,2281,2282,2283,2284,2285,2286,2287,2288,2289,2290,2291,2292,2293,2294,2295,2296,2297,2298,2299,2300,2301,2302,2303,2304,2305,2306,2307,2308,2309,2310,2311,2312,2313,2314,2315,2316,2317,2318,2319,2320,2321,2322,2323,2324,2325,2326,2327,2328,2329,2330,2331,2332,2333,2334,2335,2336,2337,2338,2339,2340,2341,2342,2343,2344,2345,2346,2347,2348,2349,2350,2351,2352,2353,2354,2355,2356,2357,2358,2359,2360,2361,2362,2363,2364,2365,2366,2367,2368,2369,2370,2371,2372,2373,2374,2375,2376,2377,2378,2379,2380,2381,2382,2403,2404,2495,2496,2497,2498,2499,2500,2501,2502,2503,2504,2505,2506,2507,2508,2509,2510,2511,2512,2513,2514,2515,2516,2517,2518,2519,2520,2521,2522,2523,2524,2525,2526,2527,2528,2529,2530,2531,2532,2533,2534,2535,2536,2537,2538,2539,2540,2541,2542,2543,2544,2545,2546,2547,2548,2549,2550,2551,2552,2553,2554,2555,2556,2557,2558,2559,2560,2561,2562,2563,2564,2565,2566,2567,2568,2569,2570,2571,2572,2573,2574,2575,2576,2577,2578,2579,2580,2581,2582,2583,2584,2585,2586,2587,2588,2589,2590,2591,2592,2593,2594,2595,2596,2597,2598,2599,2600,2601,2602,2603,2604,2605,2606,2607,2608,2609,2610,2611,2612,2613,2614,2615,2616,2617,2618,2619,2620,2621,2622,2623,2624,2625,2626,2627,2628,2629,2630,2631,2632,2633,2634,2635,2636,2637,2638,2639,2640,2641,2642,2643,2644,2645,2646,2647,2648,2649,2650,2651,2652,2653,2654,2655,2656,2657,2658,2659,2660,2661,2662,2663,2664,2665,2666,2667,2668,2669,2670,2671,2672,2673,2674,2675,2676,2677,2678,2679,2680,2681,2682,2683,2684,2685,2686,2687,2688,2689,2690,2691,2692,2693,2694,2695,2696,2697,2698,2699,2700,2701,2702,2703,2704,2705,2706,2707,2708,2709,2710,2711,2712,2713,2714,2715,2716,2717,2718,2719,2720,2721,2722,2723,2724,2725,2726,2727,2728,2729,2730,2731,2732,2733,2734,2735,2736,2737,2738,2739,2740,2741,2742,2743,2744,2745,2746,2747,2748,2749,2750,2751,2752,2753,2754,2755,2756,2757,2758,2759,2760,2761,2762,2763,2764,2765,2766,2767,2768,2769,2770,2771,2772,2773,2774,2775,2776,2777,2778,2779,2780,2781,2782,2783,2784,2785,2786,2787,2788,2789,2790,2791,2792,2793,2794,2795,2796,2797,2798,2799,2800,2801,2802,2803,2804,2805,2806,2807,2808,2809,2810,2811,2812,2813,2814,2815,2816,2817,2818,2819,2820,2821,2822,2823,2824,2825,2826,2827,2828,2829,2830,2831,2832,2833,2834,2835,2836,2837,2838,2839,2840,2841,2842,2843,2844,2845,2846,2847,2848,2849,2850,2851,2852,2853,2854,2855,2856,2857,2858,2859,2860,2861,2862,2863,2864,2865,2866,2867,2868,2869,2870,2871,2872,2873,2874,2875,2876,2877,2878,2879,2880,2881,2882,2883,2884,2885,2886,2887,2888,2889,2890,2891,2892,2893,2894,2895,2896,2897,2898,2899,2900,2901,2902,2903,2904,2905,2906,2907,2908,2909,2910,2911,2912,2913,2914,2915,2916,2917,2918,2919,2920,2921,2922,2923,2924,2925,2926,2927,2928,2929,2930,2931,2932,2933,2934,2935,2936,2937,2938,2939,2940,2941,2942,2943,2944,2945,2946,2947,2948,2949,2950,2951,2952,2953,2958) have mixed types.Specify dtype option on import or set low_memory=False.\n",
      "  exec(code_obj, self.user_global_ns, self.user_ns)\n"
     ]
    }
   ],
   "source": [
    "data = pd.read_csv('../data/Most-Recent-Cohorts-Institution.csv')"
   ]
  },
  {
   "cell_type": "code",
   "execution_count": 8,
   "id": "727dcc9d",
   "metadata": {},
   "outputs": [],
   "source": [
    "liberal_arts = data[(data['PREDDEG']==3) & (data['CONTROL']==2)]"
   ]
  },
  {
   "cell_type": "code",
   "execution_count": 16,
   "id": "c3f3966d",
   "metadata": {},
   "outputs": [],
   "source": [
    "dept_cols   = [col for col in liberal_arts.columns if col.startswith('PCIP')]\n",
    "departments = liberal_arts[['INSTNM']+dept_cols]"
   ]
  },
  {
   "cell_type": "code",
   "execution_count": 12,
   "id": "dfc238cb",
   "metadata": {},
   "outputs": [],
   "source": [
    "rankings = pd.read_excel('../data/US Higher Education_ Value vs. Vulnerability.xlsx', skiprows=5)\n",
    "rankings = rankings[rankings[\"Ranking List\"]==\"USN National College Ranking\"]\n",
    "rankings = rankings[[\"Institution Name\", \"Rank\"]]"
   ]
  },
  {
   "cell_type": "code",
   "execution_count": 14,
   "id": "194f8443",
   "metadata": {},
   "outputs": [],
   "source": [
    "merged = pd.merge(departments, rankings, left_on='INSTNM', right_on='Institution Name')"
   ]
  },
  {
   "cell_type": "code",
   "execution_count": 21,
   "id": "f59cb764",
   "metadata": {},
   "outputs": [],
   "source": [
    "merged = merged.set_index('INSTNM')\n",
    "del merged['Institution Name']"
   ]
  },
  {
   "cell_type": "code",
   "execution_count": 31,
   "id": "08df5d22",
   "metadata": {},
   "outputs": [],
   "source": [
    "from sklearn.decomposition import PCA\n",
    "import seaborn as sns"
   ]
  },
  {
   "cell_type": "code",
   "execution_count": 50,
   "id": "20530b2c",
   "metadata": {},
   "outputs": [
    {
     "name": "stdout",
     "output_type": "stream",
     "text": [
      "[0.01767965 0.00891208]\n"
     ]
    },
    {
     "data": {
      "image/png": "[encoded data removed]",
      "text/plain": [
       "<Figure size 432x288 with 1 Axes>"
      ]
     },
     "metadata": {
      "needs_background": "light"
     },
     "output_type": "display_data"
    }
   ],
   "source": [
    "pca = PCA(n_components=2)\n",
    "result = pca.fit_transform(merged[dept_cols])\n",
    "\n",
    "result = pd.DataFrame(result)\n",
    "result['Rank'] = merged['Rank'].values\n",
    "sns.scatterplot(data=result, x=0, y=1, hue='Rank')\n",
    "plt.yscale('log')\n",
    "print(pca.explained_variance_)"
   ]
  },
  {
   "cell_type": "code",
   "execution_count": 51,
   "id": "5d220066",
   "metadata": {},
   "outputs": [],
   "source": [
    "from sklearn.linear_model import LinearRegression"
   ]
  },
  {
   "cell_type": "code",
   "execution_count": 52,
   "id": "b86c20a7",
   "metadata": {},
   "outputs": [
    {
     "data": {
      "text/plain": [
       "LinearRegression()"
      ]
     },
     "execution_count": 52,
     "metadata": {},
     "output_type": "execute_result"
    }
   ],
   "source": [
    "clf = LinearRegression()\n",
    "clf.fit(merged[dept_cols], merged['Rank'])"
   ]
  },
  {
   "cell_type": "code",
   "execution_count": 65,
   "id": "c525c048",
   "metadata": {},
   "outputs": [
    {
     "data": {
      "text/plain": [
       "array([-1.38022612e+04, -1.45476487e+04, -1.42090688e+04, -1.49942116e+04,\n",
       "       -1.44815631e+04, -1.56432709e+04, -1.47752159e+04,  5.17502485e-10,\n",
       "       -1.43900236e+04, -1.45262623e+04, -1.55886312e+04, -1.47974463e+04,\n",
       "       -1.44363474e+04, -1.50463728e+04, -1.45255670e+04, -1.45338309e+04,\n",
       "       -6.54836185e-11, -1.44254994e+04, -1.47910740e+04, -1.45519152e-11,\n",
       "       -1.45130494e+04, -1.44035814e+04, -1.42053886e+04, -1.44476932e+04,\n",
       "       -1.46170456e+04, -9.09494702e-12, -1.42597403e+04, -1.43906511e+04,\n",
       "       -1.41384546e+04, -1.46472249e+04,  0.00000000e+00,  0.00000000e+00,\n",
       "        0.00000000e+00, -1.31406296e+04, -1.44508238e+04, -1.46171444e+04,\n",
       "       -1.44252943e+04, -1.44288800e+04])"
      ]
     },
     "execution_count": 65,
     "metadata": {},
     "output_type": "execute_result"
    }
   ],
   "source": [
    "clf.coef_"
   ]
  },
  {
   "cell_type": "code",
   "execution_count": 61,
   "id": "62f0bd20",
   "metadata": {},
   "outputs": [
    {
     "data": {
      "text/plain": [
       "Index(['PCIP10', 'PCIP15', 'PCIP22', 'PCIP05', 'PCIP16', 'PCIP27', 'PCIP11',\n",
       "       'PCIP45', 'PCIP51', 'PCIP40', 'PCIP03', 'PCIP24', 'PCIP14', 'PCIP23',\n",
       "       'PCIP30', 'PCIP09', 'PCIP50', 'PCIP39', 'PCIP19', 'PCIP54', 'PCIP26',\n",
       "       'PCIP52', 'PCIP31', 'PCIP43', 'PCIP13', 'PCIP42', 'PCIP04', 'PCIP38',\n",
       "       'PCIP44', 'PCIP01', 'PCIP49', 'PCIP25', 'PCIP29', 'PCIP41', 'PCIP46',\n",
       "       'PCIP47', 'PCIP48', 'PCIP12'],\n",
       "      dtype='object')"
      ]
     },
     "execution_count": 61,
     "metadata": {},
     "output_type": "execute_result"
    }
   ],
   "source": [
    "merged[dept_cols].columns[clf.coef_.argsort()]"
   ]
  },
  {
   "cell_type": "code",
   "execution_count": 70,
   "id": "17373b42",
   "metadata": {},
   "outputs": [],
   "source": [
    "from scipy.spatial.distance import pdist\n",
    "from scipy.spatial.distance import squareform"
   ]
  },
  {
   "cell_type": "code",
   "execution_count": 72,
   "id": "dcd3a6a3",
   "metadata": {},
   "outputs": [],
   "source": [
    "result = pd.DataFrame(squareform(pdist(merged[dept_cols])))"
   ]
  },
  {
   "cell_type": "code",
   "execution_count": 73,
   "id": "7a31e979",
   "metadata": {},
   "outputs": [],
   "source": [
    "result.columns = merged.index\n",
    "result.index = merged.index"
   ]
  },
  {
   "cell_type": "code",
   "execution_count": 77,
   "id": "55a69bbc",
   "metadata": {},
   "outputs": [
    {
     "data": {
      "text/plain": [
       "INSTNM\n",
       "Furman University            0.000000\n",
       "Gustavus Adolphus College    0.140416\n",
       "Wheaton College              0.146428\n",
       "Wheaton College              0.146428\n",
       "Austin College               0.156720\n",
       "Saint Mary's College         0.158674\n",
       "Saint Anselm College         0.159468\n",
       "College of Saint Benedict    0.163825\n",
       "Coe College                  0.176037\n",
       "Denison University           0.176815\n",
       "University of Puget Sound    0.177356\n",
       "Luther College               0.177562\n",
       "DePauw University            0.179409\n",
       "Berea College                0.182151\n",
       "Ripon College                0.184693\n",
       "Goucher College              0.185973\n",
       "Albion College               0.188070\n",
       "Saint Vincent College        0.191359\n",
       "Hope College                 0.192290\n",
       "Randolph College             0.193131\n",
       "Name: Furman University, dtype: float64"
      ]
     },
     "execution_count": 77,
     "metadata": {},
     "output_type": "execute_result"
    }
   ],
   "source": [
    "result.loc['Furman University'].sort_values()[:20]"
   ]
  },
  {
   "cell_type": "code",
   "execution_count": 78,
   "id": "c06d4a21",
   "metadata": {},
   "outputs": [],
   "source": [
    "from sklearn.manifold import TSNE"
   ]
  },
  {
   "cell_type": "code",
   "execution_count": 85,
   "id": "7fc521ee",
   "metadata": {},
   "outputs": [],
   "source": [
    "tsne = TSNE()\n",
    "reduced = pd.DataFrame(tsne.fit_transform(merged[dept_cols]))\n",
    "reduced['Rank'] = merged['Rank'].values\n",
    "reduced.index = merged.index"
   ]
  },
  {
   "cell_type": "code",
   "execution_count": 86,
   "id": "3a79374d",
   "metadata": {},
   "outputs": [
    {
     "data": {
      "text/plain": [
       "<matplotlib.collections.PathCollection at 0x7f8ce51cebb0>"
      ]
     },
     "execution_count": 86,
     "metadata": {},
     "output_type": "execute_result"
    },
    {
     "data": {
      "image/png": "[encoded data removed]",
      "text/plain": [
       "<Figure size 432x288 with 1 Axes>"
      ]
     },
     "metadata": {
      "needs_background": "light"
     },
     "output_type": "display_data"
    }
   ],
   "source": [
    "sns.scatterplot(data=reduced, x=0, y=1, hue='Rank')\n",
    "\n",
    "furman = reduced.loc['Furman University']\n",
    "plt.scatter(furman[0], furman[1], color='black', s=100)"
   ]
  }
 ],
 "metadata": {
  "kernelspec": {
   "display_name": "Python 3 (ipykernel)",
   "language": "python",
   "name": "python3"
  },
  "language_info": {
   "codemirror_mode": {
    "name": "ipython",
    "version": 3
   },
   "file_extension": ".py",
   "mimetype": "text/x-python",
   "name": "python",
   "nbconvert_exporter": "python",
   "pygments_lexer": "ipython3",
   "version": "3.9.7"
  }
 },
 "nbformat": 4,
 "nbformat_minor": 5
}
