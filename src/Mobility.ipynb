{
 "cells": [
  {
   "cell_type": "code",
   "execution_count": 2,
   "id": "25facc2b",
   "metadata": {},
   "outputs": [],
   "source": [
    "import pandas as pd\n",
    "from matplotlib import pyplot as plt\n",
    "%matplotlib inline"
   ]
  },
  {
   "cell_type": "code",
   "execution_count": 4,
   "id": "9de7816f",
   "metadata": {},
   "outputs": [],
   "source": [
    "data = pd.read_csv('../data/mrc_table2.csv')\n",
    "\n",
    "ranking = pd.read_excel('../data/US Higher Education_ Value vs. Vulnerability.xlsx', skiprows=5)\n",
    "ranking = ranking[ranking['Ranking List']=='USN National College Ranking']\n",
    "ranking = ranking[['Institution Name', 'Rank']]\n",
    "\n",
    "merged = pd.merge(data, ranking, left_on='name', right_on='Institution Name')\n",
    "\n",
    "cols = list(merged.dtypes[merged.dtypes!='object'].index)\n",
    "furman = merged[merged['Institution Name']=='Furman University']\n",
    "for col in cols:\n",
    "    if col in ['Rank', 'Institution Name', 'name']:\n",
    "        continue\n",
    "    plt.scatter(merged['Rank'], merged[col])\n",
    "    \n",
    "    top = merged.loc[merged[col].argmax()]\n",
    "    plt.title('Top %s (rank: %s)' % (top['Institution Name'], top['Rank']))\n",
    "    plt.scatter(furman['Rank'], furman[col])\n",
    "    plt.xlabel('Rank')\n",
    "    plt.ylabel(col)\n",
    "    plt.legend(['Other', 'Furman'], loc='upper right')\n",
    "    plt.savefig('../out/mobility/%s' % col)\n",
    "    plt.close()"
   ]
  },
  {
   "cell_type": "code",
   "execution_count": 42,
   "id": "9d06cece",
   "metadata": {},
   "outputs": [],
   "source": [
    "data = pd.read_csv('../data/mrc_table1.csv')\n",
    "\n",
    "ranking = pd.read_excel('../data/US Higher Education_ Value vs. Vulnerability.xlsx', skiprows=5)\n",
    "\n",
    "ranking.head()\n",
    "ranking = ranking[ranking['Ranking List']=='USN National College Ranking']\n",
    "ranking = ranking[['Institution Name', 'Rank']]\n",
    "\n",
    "merged = pd.merge(data, ranking, left_on='name', right_on='Institution Name')\n",
    "\n",
    "cols = list(merged.dtypes[merged.dtypes!='object'].index)\n",
    "furman = merged[merged['Institution Name']=='Furman University']\n",
    "for col in cols:\n",
    "    if col in ['Rank', 'Institution Name', 'name']:\n",
    "        continue\n",
    "    plt.scatter(merged['Rank'], merged[col])\n",
    "    \n",
    "    top = merged.loc[merged[col].argmax()]\n",
    "    plt.title('Top %s (rank: %s)' % (top['Institution Name'], top['Rank']))\n",
    "    plt.scatter(furman['Rank'], furman[col])\n",
    "    plt.xlabel('Rank')\n",
    "    plt.ylabel(col)\n",
    "    plt.legend(['Other', 'Furman'], loc='upper right')\n",
    "    plt.savefig('../out/mobility_preferred/%s' % col)\n",
    "    plt.close()"
   ]
  },
  {
   "cell_type": "code",
   "execution_count": null,
   "id": "bac0f7dd",
   "metadata": {},
   "outputs": [],
   "source": []
  }
 ],
 "metadata": {
  "kernelspec": {
   "display_name": "Python 3 (ipykernel)",
   "language": "python",
   "name": "python3"
  },
  "language_info": {
   "codemirror_mode": {
    "name": "ipython",
    "version": 3
   },
   "file_extension": ".py",
   "mimetype": "text/x-python",
   "name": "python",
   "nbconvert_exporter": "python",
   "pygments_lexer": "ipython3",
   "version": "3.9.7"
  }
 },
 "nbformat": 4,
 "nbformat_minor": 5
}
