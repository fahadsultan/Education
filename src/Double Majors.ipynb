{
 "cells": [
  {
   "cell_type": "code",
   "execution_count": 1,
   "id": "a72a6f12",
   "metadata": {},
   "outputs": [],
   "source": [
    "import pandas as pd\n",
    "from matplotlib import pyplot as plt\n",
    "from glob import glob\n",
    "from scipy.stats import mannwhitneyu, ttest_ind\n",
    "from tqdm import tqdm\n",
    "import numpy as np \n",
    "import math\n",
    "%matplotlib inline"
   ]
  },
  {
   "cell_type": "code",
   "execution_count": 16,
   "id": "8d10f3ab",
   "metadata": {},
   "outputs": [],
   "source": [
    "def load_ipeds_unis(fname='../data/IPEDS/hd2020.csv', encoding='cp1252'):\n",
    "    return pd.read_csv(fname, encoding=encoding)\n",
    "\n",
    "def filter_only_rs_and_las(unis):\n",
    "    unis = unis[unis['C18BASIC'].apply(lambda x: x in [15, 16, 17, 21, 22])]\n",
    "    unis['Y']  = unis['C18BASIC'].apply(lambda x: 'liberal_arts' if x in [21, 22] else 'research')\n",
    "    return unis\n",
    "\n",
    "def preprocess_names(unis):\n",
    "    ## Preprocessing meta-data files\n",
    "    ### Updating names to match in rankings  \n",
    "    unis.loc[unis['IALIAS']=='Virginia Tech', 'INSTNM'] = 'Virginia Tech'\n",
    "    unis.loc[unis['INSTNM']=='University of Illinois Urbana-Champaign', 'INSTNM'] = 'University of Illinois at Urbana-Champaign'\n",
    "    unis.loc[(unis['INSTNM']==\"St. John's College\") & (unis['STABBR']=='MD'), 'INSTNM'] = \"St. John's College - MD\"\n",
    "    unis.loc[(unis['INSTNM']==\"St. John's College\") & (unis['STABBR']=='NM'), 'INSTNM'] = \"St. John's College - NM\"\n",
    "    unis.loc[unis['INSTNM']==\"William & Mary\", 'INSTNM'] = \"College of William and Mary\"\n",
    "    unis.loc[(unis['INSTNM']==\"Brigham Young University\") & (unis['CITY']=='Provo'), 'INSTNM'] = \"Brigham Young University-Provo\"\n",
    "    unis.loc[(unis['INSTNM']==\"The University of the South\") & (unis['CITY']=='Sewanee'), 'INSTNM'] = \"Sewanee - The University of the South\"\n",
    "    return unis\n",
    "\n",
    "def fetch_rankings(fname='../data/US Higher Education_ Value vs. Vulnerability.xlsx', skiprows=5,\\\n",
    "                   usecols=['Institution Name', 'Full Time Enrollment', 'Ranking List', 'Rank'], top=-1):\n",
    "    \n",
    "    rankings = pd.read_excel(fname,skiprows=skiprows, usecols=usecols)\n",
    "    \n",
    "    if top > -1:\n",
    "        rankings = rankings[rankings['Rank']<=top]\n",
    "        \n",
    "    return rankings"
   ]
  },
  {
   "cell_type": "code",
   "execution_count": 17,
   "id": "5c665927",
   "metadata": {},
   "outputs": [
    {
     "name": "stderr",
     "output_type": "stream",
     "text": [
      "/var/folders/wr/7qh9khyj6jn43plznhyqlm5h0000gn/T/ipykernel_97693/1318604980.py:6: SettingWithCopyWarning: \n",
      "A value is trying to be set on a copy of a slice from a DataFrame.\n",
      "Try using .loc[row_indexer,col_indexer] = value instead\n",
      "\n",
      "See the caveats in the documentation: https://pandas.pydata.org/pandas-docs/stable/user_guide/indexing.html#returning-a-view-versus-a-copy\n",
      "  unis['Y']  = unis['C18BASIC'].apply(lambda x: 'liberal_arts' if x in [21, 22] else 'research')\n"
     ]
    },
    {
     "name": "stdout",
     "output_type": "stream",
     "text": [
      "Missing unis: set() \n"
     ]
    }
   ],
   "source": [
    "unis     = load_ipeds_unis()\n",
    "unis     = filter_only_rs_and_las(unis)\n",
    "unis     = preprocess_names(unis)\n",
    "\n",
    "rankings = fetch_rankings(top=100)\n",
    "\n",
    "merged   = pd.merge(unis, rankings, left_on='INSTNM', right_on='Institution Name')\n",
    "\n",
    "print(\"Missing unis: %s \" % set(rankings['Institution Name']).difference(merged['INSTNM']))"
   ]
  },
  {
   "cell_type": "code",
   "execution_count": 31,
   "id": "da64870f",
   "metadata": {},
   "outputs": [],
   "source": [
    "unis2 = merged[['UNITID', 'INSTNM', 'Y', 'HBCU']]"
   ]
  },
  {
   "cell_type": "code",
   "execution_count": 80,
   "id": "0afa8b7a",
   "metadata": {},
   "outputs": [
    {
     "name": "stdout",
     "output_type": "stream",
     "text": [
      "0/21 - ../data/IPEDS/C2009_A/c2009_a_rv.csv\n",
      "1/21 - ../data/IPEDS/C2007_A/c2007_a_rv.csv\n",
      "2/21 - ../data/IPEDS/C2017_A/c2017_a_rv.csv\n",
      "3/21 - ../data/IPEDS/C2013_A/c2013_a_rv.csv\n",
      "4/21 - ../data/IPEDS/C2019_A/c2019_a_rv.csv\n",
      "5/21 - ../data/IPEDS/C2004_A/c2004_a_rv.csv\n",
      "6/21 - ../data/IPEDS/C2014_A/c2014_a_rv.csv\n",
      "7/21 - ../data/IPEDS/C2010_A/c2010_a_rv.csv\n",
      "8/21 - ../data/IPEDS/C2005_A/c2005_a_rv.csv\n",
      "9/21 - ../data/IPEDS/C2015_A/c2015_a_rv.csv\n",
      "10/21 - ../data/IPEDS/C2011_A/c2011_a_rv.csv\n",
      "11/21 - ../data/IPEDS/C2008_A/c2008_a_rv.csv\n",
      "12/21 - ../data/IPEDS/C2006_A/c2006_a_rv.csv\n",
      "13/21 - ../data/IPEDS/C2016_A/c2016_a_rv.csv\n",
      "14/21 - ../data/IPEDS/C2018_A/c2018_a_rv.csv\n",
      "15/21 - ../data/IPEDS/C2012_A/c2012_a_rv.csv\n",
      "16/21 - ../data/IPEDS/c2000_a.csv\n",
      "17/21 - ../data/IPEDS/c2002_a.csv\n",
      "18/21 - ../data/IPEDS/c2020_a.csv\n",
      "19/21 - ../data/IPEDS/c2003_a.csv\n",
      "20/21 - ../data/IPEDS/c2001_a.csv\n"
     ]
    }
   ],
   "source": [
    "results = {}\n",
    "fnames = glob('../data/IPEDS/*_A/*_rv.csv')+glob('../data/IPEDS/*_a.csv')\n",
    "for i, fname in enumerate(fnames): \n",
    "    print(\"%s/%s - %s\" % (i, len(fnames), fname))\n",
    "    year = int(fname.split('/')[-1].split('_')[0][1:])\n",
    "    \n",
    "    if year in [2000, 2001]:\n",
    "        continue\n",
    "    \n",
    "    data = pd.read_csv(fname)\n",
    "    data.columns = [col.upper() for col in data.columns]\n",
    "    data['CIPCODE_CAT'] = data['CIPCODE'].apply(math.floor)\n",
    "    merged = pd.merge(data, unis2, on='UNITID')\n",
    "    \n",
    "    counts = merged.groupby(['Y', 'CIPCODE_CAT']).apply(lambda x: pd.Series(x['MAJORNUM'].value_counts())).reset_index()\n",
    "    a = counts.pivot(index=['CIPCODE_CAT'], columns=['Y','level_2'], values='MAJORNUM').fillna(0)\n",
    "    la_ratios = a['liberal_arts'][2]/a['liberal_arts'][1]\n",
    "    r_ratios = a['research'][2]/a['research'][1]\n",
    "    ratios = pd.concat([la_ratios, r_ratios], axis=1)\n",
    "    ratios.columns = ['la_ratio', 'r_ratio']\n",
    "    results[year] = ratios"
   ]
  },
  {
   "cell_type": "code",
   "execution_count": 83,
   "id": "61da7b80",
   "metadata": {},
   "outputs": [],
   "source": [
    "years_sorted = sorted(list(results.keys()))"
   ]
  },
  {
   "cell_type": "code",
   "execution_count": 90,
   "id": "18110e25",
   "metadata": {},
   "outputs": [
    {
     "data": {
      "text/plain": [
       "[<matplotlib.lines.Line2D at 0x7f872a2fbc10>]"
      ]
     },
     "execution_count": 90,
     "metadata": {},
     "output_type": "execute_result"
    },
    {
     "data": {
      "image/png": "[encoded data removed]",
      "text/plain": [
       "<Figure size 432x288 with 1 Axes>"
      ]
     },
     "metadata": {
      "needs_background": "light"
     },
     "output_type": "display_data"
    }
   ],
   "source": [
    "la_results = pd.Series([results[year]['la_ratio'].loc[11] for year in years_sorted], index=years_sorted)\n",
    "r_results  = pd.Series([results[year]['r_ratio'].loc[11] for year in years_sorted], index=years_sorted)\n",
    "plt.plot(la_results)\n",
    "plt.plot(r_results)"
   ]
  },
  {
   "cell_type": "code",
   "execution_count": 25,
   "id": "a44b6891",
   "metadata": {},
   "outputs": [],
   "source": [
    "majornum_counts = data.groupby('CIPCODE_CAT').apply(lambda x: x.value_counts('MAJORNUM'))"
   ]
  },
  {
   "cell_type": "code",
   "execution_count": 27,
   "id": "318c28a9",
   "metadata": {},
   "outputs": [],
   "source": [
    "majornum_counts['ratio'] = majornum_counts[2]/majornum_counts[1] "
   ]
  }
 ],
 "metadata": {
  "kernelspec": {
   "display_name": "Python 3 (ipykernel)",
   "language": "python",
   "name": "python3"
  },
  "language_info": {
   "codemirror_mode": {
    "name": "ipython",
    "version": 3
   },
   "file_extension": ".py",
   "mimetype": "text/x-python",
   "name": "python",
   "nbconvert_exporter": "python",
   "pygments_lexer": "ipython3",
   "version": "3.9.7"
  }
 },
 "nbformat": 4,
 "nbformat_minor": 5
}
