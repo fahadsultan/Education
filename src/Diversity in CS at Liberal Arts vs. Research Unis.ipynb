{
 "cells": [
  {
   "cell_type": "markdown",
   "id": "b7eefcd2",
   "metadata": {},
   "source": [
    "### TODO: \n",
    "\n",
    "- [x] Get classification from IPEDS as well, instead of using Scott Galloway's data\n",
    "- [x] Get data for all years\n",
    "- [x] Make plots, compute statistics for all minorities\n",
    "- [ ] Make sure your filtered institutes are good and not leaving out any obvious ones. Maybe pick top 100 research unis and liberal art colleges\n",
    "- [ ] Check for social mobility, and other outcome variables, specifically of minorities"
   ]
  },
  {
   "cell_type": "code",
   "execution_count": 1,
   "id": "3dd724a0",
   "metadata": {},
   "outputs": [],
   "source": [
    "import pandas as pd\n",
    "from matplotlib import pyplot as plt\n",
    "from glob import glob\n",
    "from scipy.stats import mannwhitneyu, ttest_ind\n",
    "from tqdm import tqdm\n",
    "import numpy as np \n",
    "%matplotlib inline"
   ]
  },
  {
   "cell_type": "code",
   "execution_count": 2,
   "id": "c7de119a",
   "metadata": {},
   "outputs": [],
   "source": [
    "def load_ipeds_unis(fname='../data/IPEDS/hd2020.csv', encoding='cp1252'):\n",
    "    return pd.read_csv(fname, encoding=encoding)\n",
    "\n",
    "def filter_only_rs_and_las(unis):\n",
    "    unis = unis[unis['C18BASIC'].apply(lambda x: x in [15, 16, 17, 21, 22])]\n",
    "    unis['Y']  = unis['C18BASIC'].apply(lambda x: 'liberal_arts' if x in [21, 22] else 'research')\n",
    "    return unis\n",
    "\n",
    "def preprocess_names(unis):\n",
    "    ## Preprocessing meta-data files\n",
    "    ### Updating names to match in rankings  \n",
    "    unis.loc[unis['IALIAS']=='Virginia Tech', 'INSTNM'] = 'Virginia Tech'\n",
    "    unis.loc[unis['INSTNM']=='University of Illinois Urbana-Champaign', 'INSTNM'] = 'University of Illinois at Urbana-Champaign'\n",
    "    unis.loc[(unis['INSTNM']==\"St. John's College\") & (unis['STABBR']=='MD'), 'INSTNM'] = \"St. John's College - MD\"\n",
    "    unis.loc[(unis['INSTNM']==\"St. John's College\") & (unis['STABBR']=='NM'), 'INSTNM'] = \"St. John's College - NM\"\n",
    "    unis.loc[unis['INSTNM']==\"William & Mary\", 'INSTNM'] = \"College of William and Mary\"\n",
    "    unis.loc[(unis['INSTNM']==\"Brigham Young University\") & (unis['CITY']=='Provo'), 'INSTNM'] = \"Brigham Young University-Provo\"\n",
    "    unis.loc[(unis['INSTNM']==\"The University of the South\") & (unis['CITY']=='Sewanee'), 'INSTNM'] = \"Sewanee - The University of the South\"\n",
    "    return unis\n",
    "\n",
    "def fetch_rankings(fname='../data/US Higher Education_ Value vs. Vulnerability.xlsx', skiprows=5,\\\n",
    "                   usecols=['Institution Name', 'Full Time Enrollment', 'Ranking List', 'Rank'], top=-1):\n",
    "    \n",
    "    rankings = pd.read_excel(fname,skiprows=skiprows, usecols=usecols)\n",
    "    \n",
    "    if top > -1:\n",
    "        rankings = rankings[rankings['Rank']<=top]\n",
    "        \n",
    "    return rankings"
   ]
  },
  {
   "cell_type": "code",
   "execution_count": 3,
   "id": "4b2dec1b",
   "metadata": {},
   "outputs": [
    {
     "name": "stderr",
     "output_type": "stream",
     "text": [
      "/var/folders/l9/y8y3rmys2sl93tzzph3dl7jw0000gr/T/ipykernel_15351/1318604980.py:6: SettingWithCopyWarning: \n",
      "A value is trying to be set on a copy of a slice from a DataFrame.\n",
      "Try using .loc[row_indexer,col_indexer] = value instead\n",
      "\n",
      "See the caveats in the documentation: https://pandas.pydata.org/pandas-docs/stable/user_guide/indexing.html#returning-a-view-versus-a-copy\n",
      "  unis['Y']  = unis['C18BASIC'].apply(lambda x: 'liberal_arts' if x in [21, 22] else 'research')\n"
     ]
    },
    {
     "name": "stdout",
     "output_type": "stream",
     "text": [
      "Missing unis: set() \n"
     ]
    }
   ],
   "source": [
    "unis     = load_ipeds_unis()\n",
    "unis     = filter_only_rs_and_las(unis)\n",
    "unis     = preprocess_names(unis)\n",
    "\n",
    "rankings = fetch_rankings(top=100)\n",
    "\n",
    "merged   = pd.merge(unis, rankings, left_on='INSTNM', right_on='Institution Name')\n",
    "\n",
    "print(\"Missing unis: %s \" % set(rankings['Institution Name']).difference(merged['INSTNM']))"
   ]
  },
  {
   "cell_type": "code",
   "execution_count": 27,
   "id": "b5a2b757",
   "metadata": {},
   "outputs": [],
   "source": [
    "unis2 = merged[['UNITID', 'INSTNM', 'Y', 'HBCU']]"
   ]
  },
  {
   "cell_type": "code",
   "execution_count": 20,
   "id": "dc5e07c2",
   "metadata": {},
   "outputs": [
    {
     "name": "stdout",
     "output_type": "stream",
     "text": [
      "Y     liberal_arts  research\n",
      "HBCU                        \n",
      "1               45        11\n",
      "2              483       401\n"
     ]
    }
   ],
   "source": [
    "print(unis.groupby('HBCU').apply(lambda x: x['Y'].value_counts()))"
   ]
  },
  {
   "cell_type": "code",
   "execution_count": 8,
   "id": "9b843f32",
   "metadata": {},
   "outputs": [],
   "source": [
    "# fnames = glob('../data/IPEDS/*_A/*_rv.csv')\n",
    "# unitids = None\n",
    "# for fname in fnames:\n",
    "#     year = int(fname.split('/')[-1][1:-9])\n",
    "#     data = pd.read_csv(fname, index_col=0)\n",
    "#     cs = data[data['CIPCODE']==11.0701]\n",
    "#     unitids = data.index if unitids is None else unitids.intersection(data.index)"
   ]
  },
  {
   "cell_type": "code",
   "execution_count": 25,
   "id": "a61c5d20",
   "metadata": {},
   "outputs": [
    {
     "name": "stdout",
     "output_type": "stream",
     "text": [
      "0/21 - ../data/IPEDS/C2009_A/c2009_a_rv.csv\n",
      "1/21 - ../data/IPEDS/C2007_A/c2007_a_rv.csv\n",
      "2/21 - ../data/IPEDS/C2017_A/c2017_a_rv.csv\n",
      "3/21 - ../data/IPEDS/C2013_A/c2013_a_rv.csv\n",
      "4/21 - ../data/IPEDS/C2019_A/c2019_a_rv.csv\n",
      "5/21 - ../data/IPEDS/C2004_A/c2004_a_rv.csv\n",
      "6/21 - ../data/IPEDS/C2014_A/c2014_a_rv.csv\n",
      "7/21 - ../data/IPEDS/C2010_A/c2010_a_rv.csv\n",
      "8/21 - ../data/IPEDS/C2005_A/c2005_a_rv.csv\n",
      "9/21 - ../data/IPEDS/C2015_A/c2015_a_rv.csv\n",
      "10/21 - ../data/IPEDS/C2011_A/c2011_a_rv.csv\n",
      "11/21 - ../data/IPEDS/C2008_A/c2008_a_rv.csv\n",
      "12/21 - ../data/IPEDS/C2006_A/c2006_a_rv.csv\n",
      "13/21 - ../data/IPEDS/C2016_A/c2016_a_rv.csv\n",
      "14/21 - ../data/IPEDS/C2018_A/c2018_a_rv.csv\n",
      "15/21 - ../data/IPEDS/C2012_A/c2012_a_rv.csv\n"
     ]
    },
    {
     "name": "stderr",
     "output_type": "stream",
     "text": [
      "/Users/fahadsultan/opt/anaconda3/lib/python3.9/site-packages/IPython/core/interactiveshell.py:3444: DtypeWarning: Columns (4) have mixed types.Specify dtype option on import or set low_memory=False.\n",
      "  exec(code_obj, self.user_global_ns, self.user_ns)\n"
     ]
    },
    {
     "name": "stdout",
     "output_type": "stream",
     "text": [
      "16/21 - ../data/IPEDS/c2000_a.csv\n",
      "17/21 - ../data/IPEDS/c2002_a.csv\n",
      "18/21 - ../data/IPEDS/c2020_a.csv\n",
      "19/21 - ../data/IPEDS/c2003_a.csv\n",
      "20/21 - ../data/IPEDS/c2001_a.csv\n"
     ]
    }
   ],
   "source": [
    "women = (\"women\", \"CTOTALW\", \"CRACE16\")\n",
    "black = (\"black\", \"CBKAAT\", \"CRACE18\")\n",
    "hispanic = (\"hispanic\", \"CHISPT\", \"CRACE21\")\n",
    "natives = (\"natives\", \"CAIANT\", \"CRACE19\")\n",
    "\n",
    "results = {}\n",
    "\n",
    "fnames = glob('../data/IPEDS/*_A/*_rv.csv')+glob('../data/IPEDS/*_a.csv')\n",
    "\n",
    "for i, fname in enumerate(fnames):\n",
    "    print(\"%s/%s - %s\" % (i, len(fnames), fname))\n",
    "    year = int(fname.split('/')[-1].split('_')[0][1:])\n",
    "    if year in [2000, 2001]:\n",
    "        continue\n",
    "\n",
    "    data = pd.read_csv(fname, index_col=0)\n",
    "    data.columns = [col.upper() for col in data.columns]\n",
    "    data = data[data['AWLEVEL']==5]\n",
    "    cs = data[data['CIPCODE']==11.0701]\n",
    "    #cs = data[data['CIPCODE'].apply(lambda x: (x>=11) & (x<12))]\n",
    "    cs.columns = [col.strip() for col in cs.columns]\n",
    "    cs = cs.groupby(cs.index).sum()\n",
    "    cs_cols = list(cs.columns)\n",
    "    year_result = pd.DataFrame()\n",
    "    for (label, var, var_alt) in [women, black, hispanic, natives]:\n",
    "        if var in cs_cols:\n",
    "            year_result[\"%s_%s\" % (label, year)] = cs[var]/cs['CTOTALT']\n",
    "        elif 'CRACE24' in cs_cols:\n",
    "            #print(\"With CRACE26 - %s\" % fname)\n",
    "            year_result[\"%s_%s\" % (label, year)] = cs[var_alt]/cs['CRACE24']\n",
    "        else:\n",
    "            #print(\"Without CRACE24 - %s\" % fname)\n",
    "            year_result[\"%s_%s\" % (label, year)] = cs[var_alt]/(cs['CRACE15']+cs['CRACE16'])\n",
    "\n",
    "    results[year] = year_result"
   ]
  },
  {
   "cell_type": "markdown",
   "id": "3a78c7a9",
   "metadata": {},
   "source": [
    "## 1. Plotting 1 - Only retaining institutes for which we have data in every year"
   ]
  },
  {
   "cell_type": "code",
   "execution_count": 37,
   "id": "e41b3473",
   "metadata": {},
   "outputs": [
    {
     "data": {
      "image/png": "[encoded data removed]",
      "text/plain": [
       "<Figure size 1440x360 with 4 Axes>"
      ]
     },
     "metadata": {
      "needs_background": "light"
     },
     "output_type": "display_data"
    }
   ],
   "source": [
    "years = list(results.keys())\n",
    "commonids = set(results[years[0]].index)\n",
    "for year in years[1:]:\n",
    "    commonids = commonids.intersection(set(results[year].index))\n",
    "    \n",
    "all_years = pd.concat([results[year].loc[commonids] for year in years], axis=1)\n",
    "merged = pd.merge(unis2, all_years, left_on='UNITID', right_index=True)\n",
    "\n",
    "fig, axs = plt.subplots(1, 4, figsize=(20, 5))\n",
    "\n",
    "# axs = [x for ax in axs for x in ax]\n",
    "\n",
    "for i, (label, var, var_alt) in enumerate([women, black, hispanic, natives]):\n",
    "    \n",
    "    years_sorted = sorted([col for col in merged.columns if label in col])\n",
    "    \n",
    "    '''Filter for non-HBCUs and mixed gender schools'''\n",
    "    filtered = merged[merged['HBCU']==2]\n",
    "    filtered = filtered[filtered.apply(lambda x: np.all(x[years_sorted]==1)==False, axis=1)]\n",
    "    \n",
    "    means = filtered.groupby('Y').mean()[years_sorted]\n",
    "    sems  = filtered.groupby('Y').sem()[years_sorted]\n",
    "\n",
    "#     plt.errorbar(x=years_sorted, y=means.loc['research'], yerr=sems.loc['research'])\n",
    "#     plt.errorbar(x=years_sorted, y=means.loc['liberal_arts'], yerr=sems.loc['liberal_arts'])\n",
    "#     plt.legend(['Research', 'Liberal Arts'])\n",
    "#     plt.xticks(rotation=90);\n",
    "#     plt.title(label)\n",
    "#     plt.figure();\n",
    "\n",
    "    axs[i].errorbar(x=years_sorted, y=means.loc['research'], yerr=sems.loc['research'])\n",
    "    axs[i].errorbar(x=years_sorted, y=means.loc['liberal_arts'], yerr=sems.loc['liberal_arts'])\n",
    "    axs[i].legend(['Research', 'Liberal Arts'])\n",
    "    axs[i].tick_params(labelrotation=90)\n",
    "    axs[i].set_title(label)"
   ]
  },
  {
   "cell_type": "markdown",
   "id": "7d3f854e",
   "metadata": {},
   "source": [
    "## 2. Plotting 2 - Ignoring the fact that some institutes may have data for year1 but not year2"
   ]
  },
  {
   "cell_type": "code",
   "execution_count": 38,
   "id": "16d070e6",
   "metadata": {},
   "outputs": [
    {
     "data": {
      "image/png": "[encoded data removed]",
      "text/plain": [
       "<Figure size 432x288 with 1 Axes>"
      ]
     },
     "metadata": {
      "needs_background": "light"
     },
     "output_type": "display_data"
    },
    {
     "data": {
      "image/png": "[encoded data removed]",
      "text/plain": [
       "<Figure size 432x288 with 1 Axes>"
      ]
     },
     "metadata": {
      "needs_background": "light"
     },
     "output_type": "display_data"
    },
    {
     "data": {
      "image/png": "[encoded data removed]",
      "text/plain": [
       "<Figure size 432x288 with 1 Axes>"
      ]
     },
     "metadata": {
      "needs_background": "light"
     },
     "output_type": "display_data"
    },
    {
     "data": {
      "image/png": "[encoded data removed]",
      "text/plain": [
       "<Figure size 432x288 with 1 Axes>"
      ]
     },
     "metadata": {
      "needs_background": "light"
     },
     "output_type": "display_data"
    },
    {
     "data": {
      "text/plain": [
       "<Figure size 432x288 with 0 Axes>"
      ]
     },
     "metadata": {},
     "output_type": "display_data"
    }
   ],
   "source": [
    "for (label, var, var_alt) in [women, black, hispanic, natives]:\n",
    "    \n",
    "    means = pd.DataFrame()\n",
    "    sems  = pd.DataFrame()\n",
    "    \n",
    "    for year in results.keys():\n",
    "        merged = pd.merge(unis2, results[year], left_on='UNITID', right_index=True)\n",
    "        years_sorted = sorted([col for col in merged.columns if label in col])\n",
    "        '''Filter for non-HBCUs and mixed gender schools'''\n",
    "        filtered = merged[merged['HBCU']==2]\n",
    "        filtered = filtered[filtered.apply(lambda x: np.all(x[years_sorted]==1)==False, axis=1)]\n",
    "\n",
    "        means[years_sorted] = filtered.groupby('Y').mean()[years_sorted]\n",
    "        sems[years_sorted]  = filtered.groupby('Y').sem()[years_sorted]\n",
    "\n",
    "    means = means.transpose().sort_index()\n",
    "    sems  = sems.transpose().sort_index()\n",
    "\n",
    "    plt.errorbar(x=means.index, y=means['research'], yerr=sems['research'])\n",
    "    plt.errorbar(x=means.index, y=means['liberal_arts'], yerr=sems['liberal_arts'])\n",
    "    plt.xticks(rotation=90);\n",
    "    plt.figure();"
   ]
  },
  {
   "cell_type": "markdown",
   "id": "cb154551",
   "metadata": {},
   "source": [
    "## 3. Missing institutions"
   ]
  },
  {
   "cell_type": "code",
   "execution_count": 41,
   "id": "51e0185f",
   "metadata": {},
   "outputs": [
    {
     "data": {
      "text/html": [
       "<div>\n",
       "<style scoped>\n",
       "    .dataframe tbody tr th:only-of-type {\n",
       "        vertical-align: middle;\n",
       "    }\n",
       "\n",
       "    .dataframe tbody tr th {\n",
       "        vertical-align: top;\n",
       "    }\n",
       "\n",
       "    .dataframe thead th {\n",
       "        text-align: right;\n",
       "    }\n",
       "</style>\n",
       "<table border=\"1\" class=\"dataframe\">\n",
       "  <thead>\n",
       "    <tr style=\"text-align: right;\">\n",
       "      <th></th>\n",
       "      <th>Full Time Enrollment</th>\n",
       "      <th>Ranking List</th>\n",
       "      <th>Rank</th>\n",
       "    </tr>\n",
       "    <tr>\n",
       "      <th>Institution Name</th>\n",
       "      <th></th>\n",
       "      <th></th>\n",
       "      <th></th>\n",
       "    </tr>\n",
       "  </thead>\n",
       "  <tbody>\n",
       "    <tr>\n",
       "      <th>Princeton University</th>\n",
       "      <td>8267.0</td>\n",
       "      <td>USN National University Ranking</td>\n",
       "      <td>1.0</td>\n",
       "    </tr>\n",
       "    <tr>\n",
       "      <th>Yale University</th>\n",
       "      <td>13303.0</td>\n",
       "      <td>USN National University Ranking</td>\n",
       "      <td>3.0</td>\n",
       "    </tr>\n",
       "    <tr>\n",
       "      <th>Wellesley College</th>\n",
       "      <td>2391.0</td>\n",
       "      <td>USN National College Ranking</td>\n",
       "      <td>3.0</td>\n",
       "    </tr>\n",
       "    <tr>\n",
       "      <th>Swarthmore College</th>\n",
       "      <td>1554.0</td>\n",
       "      <td>USN National College Ranking</td>\n",
       "      <td>3.0</td>\n",
       "    </tr>\n",
       "    <tr>\n",
       "      <th>Columbia University in the City of New York</th>\n",
       "      <td>26072.0</td>\n",
       "      <td>USN National University Ranking</td>\n",
       "      <td>3.0</td>\n",
       "    </tr>\n",
       "    <tr>\n",
       "      <th>University of Pennsylvania</th>\n",
       "      <td>21960.0</td>\n",
       "      <td>USN National University Ranking</td>\n",
       "      <td>6.0</td>\n",
       "    </tr>\n",
       "    <tr>\n",
       "      <th>Stanford University</th>\n",
       "      <td>16332.0</td>\n",
       "      <td>USN National University Ranking</td>\n",
       "      <td>6.0</td>\n",
       "    </tr>\n",
       "    <tr>\n",
       "      <th>Johns Hopkins University</th>\n",
       "      <td>14600.0</td>\n",
       "      <td>USN National University Ranking</td>\n",
       "      <td>10.0</td>\n",
       "    </tr>\n",
       "    <tr>\n",
       "      <th>Duke University</th>\n",
       "      <td>15700.0</td>\n",
       "      <td>USN National University Ranking</td>\n",
       "      <td>10.0</td>\n",
       "    </tr>\n",
       "    <tr>\n",
       "      <th>Haverford College</th>\n",
       "      <td>1308.0</td>\n",
       "      <td>USN National College Ranking</td>\n",
       "      <td>11.0</td>\n",
       "    </tr>\n",
       "  </tbody>\n",
       "</table>\n",
       "</div>"
      ],
      "text/plain": [
       "                                             Full Time Enrollment  \\\n",
       "Institution Name                                                    \n",
       "Princeton University                                       8267.0   \n",
       "Yale University                                           13303.0   \n",
       "Wellesley College                                          2391.0   \n",
       "Swarthmore College                                         1554.0   \n",
       "Columbia University in the City of New York               26072.0   \n",
       "University of Pennsylvania                                21960.0   \n",
       "Stanford University                                       16332.0   \n",
       "Johns Hopkins University                                  14600.0   \n",
       "Duke University                                           15700.0   \n",
       "Haverford College                                          1308.0   \n",
       "\n",
       "                                                                Ranking List  \\\n",
       "Institution Name                                                               \n",
       "Princeton University                         USN National University Ranking   \n",
       "Yale University                              USN National University Ranking   \n",
       "Wellesley College                               USN National College Ranking   \n",
       "Swarthmore College                              USN National College Ranking   \n",
       "Columbia University in the City of New York  USN National University Ranking   \n",
       "University of Pennsylvania                   USN National University Ranking   \n",
       "Stanford University                          USN National University Ranking   \n",
       "Johns Hopkins University                     USN National University Ranking   \n",
       "Duke University                              USN National University Ranking   \n",
       "Haverford College                               USN National College Ranking   \n",
       "\n",
       "                                             Rank  \n",
       "Institution Name                                   \n",
       "Princeton University                          1.0  \n",
       "Yale University                               3.0  \n",
       "Wellesley College                             3.0  \n",
       "Swarthmore College                            3.0  \n",
       "Columbia University in the City of New York   3.0  \n",
       "University of Pennsylvania                    6.0  \n",
       "Stanford University                           6.0  \n",
       "Johns Hopkins University                     10.0  \n",
       "Duke University                              10.0  \n",
       "Haverford College                            11.0  "
      ]
     },
     "execution_count": 41,
     "metadata": {},
     "output_type": "execute_result"
    },
    {
     "data": {
      "image/png": "[encoded data removed]",
      "text/plain": [
       "<Figure size 432x288 with 1 Axes>"
      ]
     },
     "metadata": {
      "needs_background": "light"
     },
     "output_type": "display_data"
    }
   ],
   "source": [
    "# a = dfs['women']\n",
    "merged = pd.merge(rankings, merged, left_on='Institution Name', right_on='INSTNM')\n",
    "missing = set(rankings['Institution Name']).difference(merged['INSTNM'])\n",
    "missing_df = rankings.set_index('Institution Name').loc[missing].sort_values('Rank')\n",
    "rankings['Rank'].hist()\n",
    "missing_df['Rank'].hist()\n",
    "\n",
    "missing_df[:10]"
   ]
  },
  {
   "cell_type": "code",
   "execution_count": 621,
   "id": "8d87c6db",
   "metadata": {},
   "outputs": [],
   "source": [
    "missing_unis = unis[unis['INSTNM'].apply(lambda x: x in missing)]\n",
    "missing_unis = missing_unis[['UNITID', 'INSTNM']]\n",
    "\n",
    "counts  = pd.DataFrame()\n",
    "counts2 = pd.DataFrame()"
   ]
  },
  {
   "cell_type": "code",
   "execution_count": 632,
   "id": "c1133b5b",
   "metadata": {},
   "outputs": [
    {
     "data": {
      "text/plain": [
       "{2003, 2020}"
      ]
     },
     "execution_count": 632,
     "metadata": {},
     "output_type": "execute_result"
    }
   ],
   "source": [
    "set(years_sorted).difference(counts.columns)"
   ]
  },
  {
   "cell_type": "code",
   "execution_count": 644,
   "id": "155aad1e",
   "metadata": {},
   "outputs": [
    {
     "data": {
      "text/plain": [
       "2003"
      ]
     },
     "execution_count": 644,
     "metadata": {},
     "output_type": "execute_result"
    }
   ],
   "source": [
    "counts[year] = data.loc[missing_unis['UNITID'], 'CIPCODE'].apply(lambda x: x==11.0701).groupby('UNITID').sum()"
   ]
  },
  {
   "cell_type": "code",
   "execution_count": 648,
   "id": "6b33c31c",
   "metadata": {},
   "outputs": [
    {
     "name": "stdout",
     "output_type": "stream",
     "text": [
      "0/21 - ../data/IPEDS/C2009_A/c2009_a_rv.csv\n",
      "1/21 - ../data/IPEDS/C2007_A/c2007_a_rv.csv\n",
      "2/21 - ../data/IPEDS/C2017_A/c2017_a_rv.csv\n",
      "3/21 - ../data/IPEDS/C2013_A/c2013_a_rv.csv\n",
      "4/21 - ../data/IPEDS/C2019_A/c2019_a_rv.csv\n",
      "5/21 - ../data/IPEDS/C2004_A/c2004_a_rv.csv\n",
      "6/21 - ../data/IPEDS/C2014_A/c2014_a_rv.csv\n",
      "7/21 - ../data/IPEDS/C2010_A/c2010_a_rv.csv\n",
      "8/21 - ../data/IPEDS/C2005_A/c2005_a_rv.csv\n",
      "9/21 - ../data/IPEDS/C2015_A/c2015_a_rv.csv\n",
      "10/21 - ../data/IPEDS/C2011_A/c2011_a_rv.csv\n",
      "11/21 - ../data/IPEDS/C2008_A/c2008_a_rv.csv\n",
      "12/21 - ../data/IPEDS/C2006_A/c2006_a_rv.csv\n",
      "13/21 - ../data/IPEDS/C2016_A/c2016_a_rv.csv\n",
      "14/21 - ../data/IPEDS/C2018_A/c2018_a_rv.csv\n",
      "15/21 - ../data/IPEDS/C2012_A/c2012_a_rv.csv\n"
     ]
    },
    {
     "name": "stderr",
     "output_type": "stream",
     "text": [
      "/Users/fahadsultan/opt/anaconda3/lib/python3.9/site-packages/IPython/core/interactiveshell.py:3444: DtypeWarning: Columns (4) have mixed types.Specify dtype option on import or set low_memory=False.\n",
      "  exec(code_obj, self.user_global_ns, self.user_ns)\n"
     ]
    },
    {
     "name": "stdout",
     "output_type": "stream",
     "text": [
      "16/21 - ../data/IPEDS/c2000_a.csv\n",
      "17/21 - ../data/IPEDS/c2002_a.csv\n",
      "18/21 - ../data/IPEDS/c2020_a.csv\n",
      "19/21 - ../data/IPEDS/c2003_a.csv\n",
      "20/21 - ../data/IPEDS/c2001_a.csv\n"
     ]
    }
   ],
   "source": [
    "fnames = glob('../data/IPEDS/*_A/*_rv.csv')+glob('../data/IPEDS/*_a.csv')\n",
    "for i, fname in enumerate(fnames):\n",
    "    print(\"%s/%s - %s\" % (i, len(fnames), fname))\n",
    "    year = int(fname.split('/')[-1].split('_')[0][1:])\n",
    "    if year in [2000, 2001, 2020]:\n",
    "        continue\n",
    "    data = pd.read_csv(fname, index_col=0)\n",
    "    data.index.name = data.index.name.upper()\n",
    "    data.columns = [col.upper() for col in data.columns]\n",
    "    counts[year] = data.loc[missing_unis['UNITID'], 'CIPCODE'].apply(lambda x: x==11.0701).groupby('UNITID').sum()\n",
    "    counts2[year] = data.loc[missing_unis['UNITID'], 'CIPCODE'].apply(lambda x: (x>=11) & (x<12)).groupby('UNITID').sum()"
   ]
  },
  {
   "cell_type": "code",
   "execution_count": 657,
   "id": "18d69e5c",
   "metadata": {},
   "outputs": [
    {
     "data": {
      "text/plain": [
       "(63, 66)"
      ]
     },
     "execution_count": 657,
     "metadata": {},
     "output_type": "execute_result"
    }
   ],
   "source": [
    "counts2.apply(lambda x: np.any(x==0), axis=1).sum(), len(counts2)"
   ]
  },
  {
   "cell_type": "code",
   "execution_count": 658,
   "id": "05d2321e",
   "metadata": {},
   "outputs": [
    {
     "data": {
      "text/plain": [
       "(66, 66)"
      ]
     },
     "execution_count": 658,
     "metadata": {},
     "output_type": "execute_result"
    }
   ],
   "source": [
    "counts.apply(lambda x: np.any(x==0), axis=1).sum(), len(counts)"
   ]
  },
  {
   "cell_type": "code",
   "execution_count": 662,
   "id": "e6fa3d19",
   "metadata": {},
   "outputs": [
    {
     "data": {
      "text/plain": [
       "2412    198385\n",
       "Name: UNITID, dtype: int64"
      ]
     },
     "execution_count": 662,
     "metadata": {},
     "output_type": "execute_result"
    }
   ],
   "source": [
    "unis.loc[unis['INSTNM']=='Davidson College', 'UNITID']"
   ]
  },
  {
   "cell_type": "code",
   "execution_count": 663,
   "id": "ba6d6221",
   "metadata": {},
   "outputs": [
    {
     "data": {
      "text/plain": [
       "2009    0\n",
       "2007    0\n",
       "2017    0\n",
       "2013    0\n",
       "2019    0\n",
       "2004    0\n",
       "2014    0\n",
       "2010    0\n",
       "2005    0\n",
       "2015    0\n",
       "2011    0\n",
       "2008    0\n",
       "2006    0\n",
       "2016    0\n",
       "2018    0\n",
       "2012    0\n",
       "2002    0\n",
       "2003    0\n",
       "Name: 198385, dtype: int64"
      ]
     },
     "execution_count": 663,
     "metadata": {},
     "output_type": "execute_result"
    }
   ],
   "source": [
    "counts.loc[198385]"
   ]
  },
  {
   "cell_type": "code",
   "execution_count": 664,
   "id": "080cc461",
   "metadata": {},
   "outputs": [
    {
     "data": {
      "text/plain": [
       "2009    0\n",
       "2007    0\n",
       "2017    2\n",
       "2013    0\n",
       "2019    2\n",
       "2004    0\n",
       "2014    0\n",
       "2010    0\n",
       "2005    0\n",
       "2015    0\n",
       "2011    0\n",
       "2008    0\n",
       "2006    0\n",
       "2016    0\n",
       "2018    2\n",
       "2012    0\n",
       "2002    0\n",
       "2003    0\n",
       "Name: 198385, dtype: int64"
      ]
     },
     "execution_count": 664,
     "metadata": {},
     "output_type": "execute_result"
    }
   ],
   "source": [
    "counts2.loc[198385]"
   ]
  },
  {
   "cell_type": "code",
   "execution_count": 620,
   "id": "02e78173",
   "metadata": {},
   "outputs": [
    {
     "data": {
      "text/plain": [
       "UNITID\n",
       "107080    2\n",
       "112260    2\n",
       "120254    2\n",
       "121150    1\n",
       "121257    0\n",
       "         ..\n",
       "232672    3\n",
       "233301    0\n",
       "233718    2\n",
       "237057    0\n",
       "239017    0\n",
       "Name: CIPCODE, Length: 66, dtype: int64"
      ]
     },
     "execution_count": 620,
     "metadata": {},
     "output_type": "execute_result"
    }
   ],
   "source": []
  },
  {
   "cell_type": "code",
   "execution_count": 618,
   "id": "19e9058f",
   "metadata": {},
   "outputs": [
    {
     "data": {
      "text/html": [
       "<div>\n",
       "<style scoped>\n",
       "    .dataframe tbody tr th:only-of-type {\n",
       "        vertical-align: middle;\n",
       "    }\n",
       "\n",
       "    .dataframe tbody tr th {\n",
       "        vertical-align: top;\n",
       "    }\n",
       "\n",
       "    .dataframe thead th {\n",
       "        text-align: right;\n",
       "    }\n",
       "</style>\n",
       "<table border=\"1\" class=\"dataframe\">\n",
       "  <thead>\n",
       "    <tr style=\"text-align: right;\">\n",
       "      <th></th>\n",
       "      <th>CIPCODE</th>\n",
       "      <th>MAJORNUM</th>\n",
       "      <th>AWLEVEL</th>\n",
       "      <th>XCNRALM</th>\n",
       "      <th>CNRALM</th>\n",
       "      <th>XCNRALW</th>\n",
       "      <th>CNRALW</th>\n",
       "      <th>XCRACE03</th>\n",
       "      <th>CRACE03</th>\n",
       "      <th>XCRACE04</th>\n",
       "      <th>...</th>\n",
       "      <th>XDVCHSM</th>\n",
       "      <th>DVCHSM</th>\n",
       "      <th>XDVCHSW</th>\n",
       "      <th>DVCHSW</th>\n",
       "      <th>XDVCWHT</th>\n",
       "      <th>DVCWHT</th>\n",
       "      <th>XDVCWHM</th>\n",
       "      <th>DVCWHM</th>\n",
       "      <th>XDVCWHW</th>\n",
       "      <th>DVCWHW</th>\n",
       "    </tr>\n",
       "    <tr>\n",
       "      <th>UNITID</th>\n",
       "      <th></th>\n",
       "      <th></th>\n",
       "      <th></th>\n",
       "      <th></th>\n",
       "      <th></th>\n",
       "      <th></th>\n",
       "      <th></th>\n",
       "      <th></th>\n",
       "      <th></th>\n",
       "      <th></th>\n",
       "      <th></th>\n",
       "      <th></th>\n",
       "      <th></th>\n",
       "      <th></th>\n",
       "      <th></th>\n",
       "      <th></th>\n",
       "      <th></th>\n",
       "      <th></th>\n",
       "      <th></th>\n",
       "      <th></th>\n",
       "      <th></th>\n",
       "    </tr>\n",
       "  </thead>\n",
       "  <tbody>\n",
       "    <tr>\n",
       "      <th>107080</th>\n",
       "      <td>3.0103</td>\n",
       "      <td>1</td>\n",
       "      <td>5</td>\n",
       "      <td>Z</td>\n",
       "      <td>0</td>\n",
       "      <td>Z</td>\n",
       "      <td>0</td>\n",
       "      <td>Z</td>\n",
       "      <td>0.0</td>\n",
       "      <td>Z</td>\n",
       "      <td>...</td>\n",
       "      <td>Z</td>\n",
       "      <td>0</td>\n",
       "      <td>Z</td>\n",
       "      <td>0</td>\n",
       "      <td>R</td>\n",
       "      <td>5</td>\n",
       "      <td>R</td>\n",
       "      <td>1</td>\n",
       "      <td>R</td>\n",
       "      <td>4</td>\n",
       "    </tr>\n",
       "    <tr>\n",
       "      <th>107080</th>\n",
       "      <td>11.0701</td>\n",
       "      <td>1</td>\n",
       "      <td>5</td>\n",
       "      <td>R</td>\n",
       "      <td>1</td>\n",
       "      <td>Z</td>\n",
       "      <td>0</td>\n",
       "      <td>Z</td>\n",
       "      <td>0.0</td>\n",
       "      <td>Z</td>\n",
       "      <td>...</td>\n",
       "      <td>Z</td>\n",
       "      <td>0</td>\n",
       "      <td>Z</td>\n",
       "      <td>0</td>\n",
       "      <td>R</td>\n",
       "      <td>7</td>\n",
       "      <td>R</td>\n",
       "      <td>7</td>\n",
       "      <td>Z</td>\n",
       "      <td>0</td>\n",
       "    </tr>\n",
       "    <tr>\n",
       "      <th>107080</th>\n",
       "      <td>11.0701</td>\n",
       "      <td>2</td>\n",
       "      <td>5</td>\n",
       "      <td>Z</td>\n",
       "      <td>0</td>\n",
       "      <td>Z</td>\n",
       "      <td>0</td>\n",
       "      <td>Z</td>\n",
       "      <td>0.0</td>\n",
       "      <td>Z</td>\n",
       "      <td>...</td>\n",
       "      <td>Z</td>\n",
       "      <td>0</td>\n",
       "      <td>Z</td>\n",
       "      <td>0</td>\n",
       "      <td>R</td>\n",
       "      <td>1</td>\n",
       "      <td>R</td>\n",
       "      <td>1</td>\n",
       "      <td>Z</td>\n",
       "      <td>0</td>\n",
       "    </tr>\n",
       "    <tr>\n",
       "      <th>107080</th>\n",
       "      <td>13.1202</td>\n",
       "      <td>1</td>\n",
       "      <td>5</td>\n",
       "      <td>Z</td>\n",
       "      <td>0</td>\n",
       "      <td>Z</td>\n",
       "      <td>0</td>\n",
       "      <td>Z</td>\n",
       "      <td>0.0</td>\n",
       "      <td>Z</td>\n",
       "      <td>...</td>\n",
       "      <td>Z</td>\n",
       "      <td>0</td>\n",
       "      <td>Z</td>\n",
       "      <td>0</td>\n",
       "      <td>R</td>\n",
       "      <td>2</td>\n",
       "      <td>Z</td>\n",
       "      <td>0</td>\n",
       "      <td>R</td>\n",
       "      <td>2</td>\n",
       "    </tr>\n",
       "    <tr>\n",
       "      <th>107080</th>\n",
       "      <td>16.0501</td>\n",
       "      <td>1</td>\n",
       "      <td>5</td>\n",
       "      <td>R</td>\n",
       "      <td>0</td>\n",
       "      <td>Z</td>\n",
       "      <td>0</td>\n",
       "      <td>Z</td>\n",
       "      <td>0.0</td>\n",
       "      <td>Z</td>\n",
       "      <td>...</td>\n",
       "      <td>Z</td>\n",
       "      <td>0</td>\n",
       "      <td>Z</td>\n",
       "      <td>0</td>\n",
       "      <td>Z</td>\n",
       "      <td>0</td>\n",
       "      <td>Z</td>\n",
       "      <td>0</td>\n",
       "      <td>Z</td>\n",
       "      <td>0</td>\n",
       "    </tr>\n",
       "    <tr>\n",
       "      <th>...</th>\n",
       "      <td>...</td>\n",
       "      <td>...</td>\n",
       "      <td>...</td>\n",
       "      <td>...</td>\n",
       "      <td>...</td>\n",
       "      <td>...</td>\n",
       "      <td>...</td>\n",
       "      <td>...</td>\n",
       "      <td>...</td>\n",
       "      <td>...</td>\n",
       "      <td>...</td>\n",
       "      <td>...</td>\n",
       "      <td>...</td>\n",
       "      <td>...</td>\n",
       "      <td>...</td>\n",
       "      <td>...</td>\n",
       "      <td>...</td>\n",
       "      <td>...</td>\n",
       "      <td>...</td>\n",
       "      <td>...</td>\n",
       "      <td>...</td>\n",
       "    </tr>\n",
       "    <tr>\n",
       "      <th>239017</th>\n",
       "      <td>50.0904</td>\n",
       "      <td>2</td>\n",
       "      <td>5</td>\n",
       "      <td>Z</td>\n",
       "      <td>0</td>\n",
       "      <td>Z</td>\n",
       "      <td>0</td>\n",
       "      <td>Z</td>\n",
       "      <td>0.0</td>\n",
       "      <td>Z</td>\n",
       "      <td>...</td>\n",
       "      <td>Z</td>\n",
       "      <td>0</td>\n",
       "      <td>Z</td>\n",
       "      <td>0</td>\n",
       "      <td>Z</td>\n",
       "      <td>0</td>\n",
       "      <td>Z</td>\n",
       "      <td>0</td>\n",
       "      <td>Z</td>\n",
       "      <td>0</td>\n",
       "    </tr>\n",
       "    <tr>\n",
       "      <th>239017</th>\n",
       "      <td>54.0101</td>\n",
       "      <td>1</td>\n",
       "      <td>5</td>\n",
       "      <td>Z</td>\n",
       "      <td>0</td>\n",
       "      <td>Z</td>\n",
       "      <td>0</td>\n",
       "      <td>Z</td>\n",
       "      <td>0.0</td>\n",
       "      <td>Z</td>\n",
       "      <td>...</td>\n",
       "      <td>Z</td>\n",
       "      <td>0</td>\n",
       "      <td>Z</td>\n",
       "      <td>0</td>\n",
       "      <td>R</td>\n",
       "      <td>12</td>\n",
       "      <td>R</td>\n",
       "      <td>7</td>\n",
       "      <td>R</td>\n",
       "      <td>5</td>\n",
       "    </tr>\n",
       "    <tr>\n",
       "      <th>239017</th>\n",
       "      <td>54.0101</td>\n",
       "      <td>2</td>\n",
       "      <td>5</td>\n",
       "      <td>Z</td>\n",
       "      <td>0</td>\n",
       "      <td>Z</td>\n",
       "      <td>0</td>\n",
       "      <td>Z</td>\n",
       "      <td>0.0</td>\n",
       "      <td>Z</td>\n",
       "      <td>...</td>\n",
       "      <td>Z</td>\n",
       "      <td>0</td>\n",
       "      <td>Z</td>\n",
       "      <td>0</td>\n",
       "      <td>Z</td>\n",
       "      <td>0</td>\n",
       "      <td>Z</td>\n",
       "      <td>0</td>\n",
       "      <td>Z</td>\n",
       "      <td>0</td>\n",
       "    </tr>\n",
       "    <tr>\n",
       "      <th>239017</th>\n",
       "      <td>99.0000</td>\n",
       "      <td>1</td>\n",
       "      <td>5</td>\n",
       "      <td>R</td>\n",
       "      <td>7</td>\n",
       "      <td>R</td>\n",
       "      <td>6</td>\n",
       "      <td>R</td>\n",
       "      <td>1.0</td>\n",
       "      <td>R</td>\n",
       "      <td>...</td>\n",
       "      <td>R</td>\n",
       "      <td>1</td>\n",
       "      <td>Z</td>\n",
       "      <td>0</td>\n",
       "      <td>R</td>\n",
       "      <td>256</td>\n",
       "      <td>R</td>\n",
       "      <td>106</td>\n",
       "      <td>R</td>\n",
       "      <td>150</td>\n",
       "    </tr>\n",
       "    <tr>\n",
       "      <th>239017</th>\n",
       "      <td>99.0000</td>\n",
       "      <td>2</td>\n",
       "      <td>5</td>\n",
       "      <td>R</td>\n",
       "      <td>3</td>\n",
       "      <td>R</td>\n",
       "      <td>1</td>\n",
       "      <td>Z</td>\n",
       "      <td>0.0</td>\n",
       "      <td>Z</td>\n",
       "      <td>...</td>\n",
       "      <td>R</td>\n",
       "      <td>1</td>\n",
       "      <td>Z</td>\n",
       "      <td>0</td>\n",
       "      <td>R</td>\n",
       "      <td>59</td>\n",
       "      <td>R</td>\n",
       "      <td>14</td>\n",
       "      <td>R</td>\n",
       "      <td>45</td>\n",
       "    </tr>\n",
       "  </tbody>\n",
       "</table>\n",
       "<p>5149 rows × 123 columns</p>\n",
       "</div>"
      ],
      "text/plain": [
       "        CIPCODE  MAJORNUM  AWLEVEL XCNRALM  CNRALM XCNRALW  CNRALW XCRACE03  \\\n",
       "UNITID                                                                        \n",
       "107080   3.0103         1        5       Z       0       Z       0        Z   \n",
       "107080  11.0701         1        5       R       1       Z       0        Z   \n",
       "107080  11.0701         2        5       Z       0       Z       0        Z   \n",
       "107080  13.1202         1        5       Z       0       Z       0        Z   \n",
       "107080  16.0501         1        5       R       0       Z       0        Z   \n",
       "...         ...       ...      ...     ...     ...     ...     ...      ...   \n",
       "239017  50.0904         2        5       Z       0       Z       0        Z   \n",
       "239017  54.0101         1        5       Z       0       Z       0        Z   \n",
       "239017  54.0101         2        5       Z       0       Z       0        Z   \n",
       "239017  99.0000         1        5       R       7       R       6        R   \n",
       "239017  99.0000         2        5       R       3       R       1        Z   \n",
       "\n",
       "        CRACE03 XCRACE04  ...  XDVCHSM DVCHSM  XDVCHSW DVCHSW  XDVCWHT DVCWHT  \\\n",
       "UNITID                    ...                                                   \n",
       "107080      0.0        Z  ...        Z      0        Z      0        R      5   \n",
       "107080      0.0        Z  ...        Z      0        Z      0        R      7   \n",
       "107080      0.0        Z  ...        Z      0        Z      0        R      1   \n",
       "107080      0.0        Z  ...        Z      0        Z      0        R      2   \n",
       "107080      0.0        Z  ...        Z      0        Z      0        Z      0   \n",
       "...         ...      ...  ...      ...    ...      ...    ...      ...    ...   \n",
       "239017      0.0        Z  ...        Z      0        Z      0        Z      0   \n",
       "239017      0.0        Z  ...        Z      0        Z      0        R     12   \n",
       "239017      0.0        Z  ...        Z      0        Z      0        Z      0   \n",
       "239017      1.0        R  ...        R      1        Z      0        R    256   \n",
       "239017      0.0        Z  ...        R      1        Z      0        R     59   \n",
       "\n",
       "        XDVCWHM DVCWHM  XDVCWHW DVCWHW    \n",
       "UNITID                                    \n",
       "107080        R      1        R        4  \n",
       "107080        R      7        Z        0  \n",
       "107080        R      1        Z        0  \n",
       "107080        Z      0        R        2  \n",
       "107080        Z      0        Z        0  \n",
       "...         ...    ...      ...      ...  \n",
       "239017        Z      0        Z        0  \n",
       "239017        R      7        R        5  \n",
       "239017        Z      0        Z        0  \n",
       "239017        R    106        R      150  \n",
       "239017        R     14        R       45  \n",
       "\n",
       "[5149 rows x 123 columns]"
      ]
     },
     "execution_count": 618,
     "metadata": {},
     "output_type": "execute_result"
    }
   ],
   "source": [
    "a"
   ]
  },
  {
   "cell_type": "code",
   "execution_count": 619,
   "id": "17065bd0",
   "metadata": {},
   "outputs": [
    {
     "data": {
      "text/plain": [
       "UNITID\n",
       "107080    2\n",
       "112260    2\n",
       "120254    2\n",
       "121150    1\n",
       "121257    0\n",
       "         ..\n",
       "232672    3\n",
       "233301    0\n",
       "233718    2\n",
       "237057    0\n",
       "239017    0\n",
       "Name: CIPCODE, Length: 66, dtype: int64"
      ]
     },
     "execution_count": 619,
     "metadata": {},
     "output_type": "execute_result"
    }
   ],
   "source": [
    "a"
   ]
  },
  {
   "cell_type": "code",
   "execution_count": null,
   "id": "6f7a191f",
   "metadata": {},
   "outputs": [],
   "source": [
    "data.loc[missing_unis['UNITID']].groupby"
   ]
  },
  {
   "cell_type": "code",
   "execution_count": 577,
   "id": "ec886022",
   "metadata": {},
   "outputs": [],
   "source": []
  },
  {
   "cell_type": "code",
   "execution_count": null,
   "id": "444a24a6",
   "metadata": {},
   "outputs": [],
   "source": [
    "\n",
    "if var in cs_cols:\n",
    "    ratios[year] = cs[var]/cs['CTOTALT']\n",
    "elif 'CRACE24' in cs_cols:\n",
    "    #print(\"With CRACE26 - %s\" % fname)\n",
    "    ratios[year] = cs[var_alt]/cs['CRACE24']\n",
    "else:\n",
    "    #print(\"Without CRACE24 - %s\" % fname)\n",
    "    ratios[year] = cs[var_alt]/(cs['CRACE15']+cs['CRACE16'])\n"
   ]
  }
 ],
 "metadata": {
  "kernelspec": {
   "display_name": "Python 3 (ipykernel)",
   "language": "python",
   "name": "python3"
  },
  "language_info": {
   "codemirror_mode": {
    "name": "ipython",
    "version": 3
   },
   "file_extension": ".py",
   "mimetype": "text/x-python",
   "name": "python",
   "nbconvert_exporter": "python",
   "pygments_lexer": "ipython3",
   "version": "3.9.12"
  }
 },
 "nbformat": 4,
 "nbformat_minor": 5
}
