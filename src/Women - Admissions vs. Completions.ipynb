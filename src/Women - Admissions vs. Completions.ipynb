{
 "cells": [
  {
   "cell_type": "code",
   "execution_count": 58,
   "id": "bdc8c37b",
   "metadata": {},
   "outputs": [],
   "source": [
    "import pandas as pd\n",
    "from glob import glob\n",
    "from matplotlib import pyplot as plt\n",
    "%matplotlib inline"
   ]
  },
  {
   "cell_type": "markdown",
   "id": "5d85bbc2",
   "metadata": {},
   "source": [
    "## 1. Load Institutes"
   ]
  },
  {
   "cell_type": "code",
   "execution_count": 49,
   "id": "3a1258b6",
   "metadata": {},
   "outputs": [],
   "source": [
    "def load_ipeds_unis(fname='../data/IPEDS/hd2020.csv', encoding='cp1252'):\n",
    "    return pd.read_csv(fname, encoding=encoding)\n",
    "\n",
    "def filter_only_rs_and_las(unis):\n",
    "    unis = unis[unis['C18BASIC'].apply(lambda x: x in [15, 16, 17, 21, 22])]\n",
    "    unis['Y']  = unis['C18BASIC'].apply(lambda x: 'liberal_arts' if x in [21, 22] else 'research')\n",
    "    return unis\n",
    "\n",
    "def preprocess_names(unis):\n",
    "    ## Preprocessing meta-data files\n",
    "    ### Updating names to match in rankings  \n",
    "    unis.loc[unis['IALIAS']=='Virginia Tech', 'INSTNM'] = 'Virginia Tech'\n",
    "    unis.loc[unis['INSTNM']=='University of Illinois Urbana-Champaign', 'INSTNM'] = 'University of Illinois at Urbana-Champaign'\n",
    "    unis.loc[(unis['INSTNM']==\"St. John's College\") & (unis['STABBR']=='MD'), 'INSTNM'] = \"St. John's College - MD\"\n",
    "    unis.loc[(unis['INSTNM']==\"St. John's College\") & (unis['STABBR']=='NM'), 'INSTNM'] = \"St. John's College - NM\"\n",
    "    unis.loc[unis['INSTNM']==\"William & Mary\", 'INSTNM'] = \"College of William and Mary\"\n",
    "    unis.loc[(unis['INSTNM']==\"Brigham Young University\") & (unis['CITY']=='Provo'), 'INSTNM'] = \"Brigham Young University-Provo\"\n",
    "    unis.loc[(unis['INSTNM']==\"The University of the South\") & (unis['CITY']=='Sewanee'), 'INSTNM'] = \"Sewanee - The University of the South\"\n",
    "    return unis\n",
    "\n",
    "def fetch_rankings(fname='../data/US Higher Education_ Value vs. Vulnerability.xlsx', skiprows=5,\\\n",
    "                   usecols=['Institution Name', 'Full Time Enrollment', 'Ranking List', 'Rank'], top=-1):\n",
    "    \n",
    "    rankings = pd.read_excel(fname,skiprows=skiprows, usecols=usecols)\n",
    "    \n",
    "    if top > -1:\n",
    "        rankings = rankings[rankings['Rank']<=top]\n",
    "        \n",
    "    return rankings"
   ]
  },
  {
   "cell_type": "code",
   "execution_count": 50,
   "id": "11a2946d",
   "metadata": {},
   "outputs": [
    {
     "name": "stderr",
     "output_type": "stream",
     "text": [
      "/var/folders/l9/y8y3rmys2sl93tzzph3dl7jw0000gr/T/ipykernel_18132/1318604980.py:6: SettingWithCopyWarning: \n",
      "A value is trying to be set on a copy of a slice from a DataFrame.\n",
      "Try using .loc[row_indexer,col_indexer] = value instead\n",
      "\n",
      "See the caveats in the documentation: https://pandas.pydata.org/pandas-docs/stable/user_guide/indexing.html#returning-a-view-versus-a-copy\n",
      "  unis['Y']  = unis['C18BASIC'].apply(lambda x: 'liberal_arts' if x in [21, 22] else 'research')\n"
     ]
    },
    {
     "name": "stdout",
     "output_type": "stream",
     "text": [
      "Missing unis: set() \n"
     ]
    }
   ],
   "source": [
    "unis     = load_ipeds_unis()\n",
    "unis     = filter_only_rs_and_las(unis)\n",
    "unis     = preprocess_names(unis)\n",
    "\n",
    "rankings = fetch_rankings(top=100)\n",
    "\n",
    "merged   = pd.merge(unis, rankings, left_on='INSTNM', right_on='Institution Name')\n",
    "\n",
    "print(\"Missing unis: %s \" % set(rankings['Institution Name']).difference(merged['INSTNM']))"
   ]
  },
  {
   "cell_type": "code",
   "execution_count": 51,
   "id": "65b681b4",
   "metadata": {},
   "outputs": [],
   "source": [
    "insts = merged[['UNITID', 'INSTNM', 'Y', 'HBCU']]"
   ]
  },
  {
   "cell_type": "markdown",
   "id": "283d4980",
   "metadata": {},
   "source": [
    "## 2. Load completions data"
   ]
  },
  {
   "cell_type": "code",
   "execution_count": 239,
   "id": "ecd651c5",
   "metadata": {},
   "outputs": [
    {
     "name": "stdout",
     "output_type": "stream",
     "text": [
      "0/21 - ../data/IPEDS/C2009_A/c2009_a_rv.csv\n",
      "1/21 - ../data/IPEDS/C2007_A/c2007_a_rv.csv\n",
      "2/21 - ../data/IPEDS/C2017_A/c2017_a_rv.csv\n",
      "3/21 - ../data/IPEDS/C2013_A/c2013_a_rv.csv\n",
      "4/21 - ../data/IPEDS/C2019_A/c2019_a_rv.csv\n",
      "5/21 - ../data/IPEDS/C2004_A/c2004_a_rv.csv\n",
      "6/21 - ../data/IPEDS/C2014_A/c2014_a_rv.csv\n",
      "7/21 - ../data/IPEDS/C2010_A/c2010_a_rv.csv\n",
      "8/21 - ../data/IPEDS/C2005_A/c2005_a_rv.csv\n",
      "9/21 - ../data/IPEDS/C2015_A/c2015_a_rv.csv\n",
      "10/21 - ../data/IPEDS/C2011_A/c2011_a_rv.csv\n",
      "11/21 - ../data/IPEDS/C2008_A/c2008_a_rv.csv\n",
      "12/21 - ../data/IPEDS/C2006_A/c2006_a_rv.csv\n",
      "13/21 - ../data/IPEDS/C2016_A/c2016_a_rv.csv\n",
      "14/21 - ../data/IPEDS/C2018_A/c2018_a_rv.csv\n",
      "15/21 - ../data/IPEDS/C2012_A/c2012_a_rv.csv\n"
     ]
    },
    {
     "name": "stderr",
     "output_type": "stream",
     "text": [
      "/var/folders/l9/y8y3rmys2sl93tzzph3dl7jw0000gr/T/ipykernel_18132/3223581062.py:16: DtypeWarning: Columns (4) have mixed types. Specify dtype option on import or set low_memory=False.\n",
      "  data = pd.read_csv(fname, index_col=0)\n"
     ]
    },
    {
     "name": "stdout",
     "output_type": "stream",
     "text": [
      "16/21 - ../data/IPEDS/c2000_a.csv\n",
      "17/21 - ../data/IPEDS/c2002_a.csv\n",
      "18/21 - ../data/IPEDS/c2020_a.csv\n",
      "19/21 - ../data/IPEDS/c2003_a.csv\n",
      "20/21 - ../data/IPEDS/c2001_a.csv\n"
     ]
    }
   ],
   "source": [
    "women = (\"women\", \"CTOTALW\", \"CRACE16\")\n",
    "black = (\"black\", \"CBKAAT\", \"CRACE18\")\n",
    "hispanic = (\"hispanic\", \"CHISPT\", \"CRACE21\")\n",
    "natives = (\"natives\", \"CAIANT\", \"CRACE19\")\n",
    "\n",
    "results = {}\n",
    "\n",
    "fnames = glob('../data/IPEDS/*_A/*_rv.csv')+glob('../data/IPEDS/*_a.csv')\n",
    "\n",
    "for i, fname in enumerate(fnames):\n",
    "    print(\"%s/%s - %s\" % (i, len(fnames), fname))\n",
    "    year = int(fname.split('/')[-1].split('_')[0][1:])\n",
    "    if year in [2000, 2001]:\n",
    "        continue\n",
    "\n",
    "    data = pd.read_csv(fname, index_col=0)\n",
    "    data.columns = [col.upper() for col in data.columns]\n",
    "    data = data[data['AWLEVEL']==5]\n",
    "    cs = data[data['CIPCODE']==11.0701]\n",
    "    #cs = data[data['CIPCODE'].apply(lambda x: (x>=11) & (x<12))]\n",
    "    cs.columns = [col.strip() for col in cs.columns]\n",
    "    cs = cs.groupby(cs.index).sum()\n",
    "    cs_cols = list(cs.columns)\n",
    "    year_result = pd.DataFrame()\n",
    "    for (label, var, var_alt) in [women, black, hispanic, natives]:\n",
    "        if var in cs_cols:\n",
    "            year_result[\"%s_%s\" % (label, year)] = cs[var]#/cs['CTOTALT']\n",
    "        elif 'CRACE24' in cs_cols:\n",
    "            #print(\"With CRACE26 - %s\" % fname)\n",
    "            year_result[\"%s_%s\" % (label, year)] = cs[var_alt]#/cs['CRACE24']\n",
    "        else:\n",
    "            #print(\"Without CRACE24 - %s\" % fname)\n",
    "            year_result[\"%s_%s\" % (label, year)] = cs[var_alt]#/(cs['CRACE15']+cs['CRACE16'])\n",
    "\n",
    "    results[year] = year_result"
   ]
  },
  {
   "cell_type": "markdown",
   "id": "95d75d6b",
   "metadata": {},
   "source": [
    "## 2.1. Institutes that have data for all years"
   ]
  },
  {
   "cell_type": "code",
   "execution_count": 241,
   "id": "5e5d63c9",
   "metadata": {},
   "outputs": [
    {
     "name": "stderr",
     "output_type": "stream",
     "text": [
      "/var/folders/l9/y8y3rmys2sl93tzzph3dl7jw0000gr/T/ipykernel_18132/3210668323.py:6: FutureWarning: Passing a set as an indexer is deprecated and will raise in a future version. Use a list instead.\n",
      "  all_years = pd.concat([results[year].loc[commonids] for year in years], axis=1)\n",
      "/var/folders/l9/y8y3rmys2sl93tzzph3dl7jw0000gr/T/ipykernel_18132/3210668323.py:6: FutureWarning: Passing a set as an indexer is deprecated and will raise in a future version. Use a list instead.\n",
      "  all_years = pd.concat([results[year].loc[commonids] for year in years], axis=1)\n",
      "/var/folders/l9/y8y3rmys2sl93tzzph3dl7jw0000gr/T/ipykernel_18132/3210668323.py:6: FutureWarning: Passing a set as an indexer is deprecated and will raise in a future version. Use a list instead.\n",
      "  all_years = pd.concat([results[year].loc[commonids] for year in years], axis=1)\n",
      "/var/folders/l9/y8y3rmys2sl93tzzph3dl7jw0000gr/T/ipykernel_18132/3210668323.py:6: FutureWarning: Passing a set as an indexer is deprecated and will raise in a future version. Use a list instead.\n",
      "  all_years = pd.concat([results[year].loc[commonids] for year in years], axis=1)\n",
      "/var/folders/l9/y8y3rmys2sl93tzzph3dl7jw0000gr/T/ipykernel_18132/3210668323.py:6: FutureWarning: Passing a set as an indexer is deprecated and will raise in a future version. Use a list instead.\n",
      "  all_years = pd.concat([results[year].loc[commonids] for year in years], axis=1)\n",
      "/var/folders/l9/y8y3rmys2sl93tzzph3dl7jw0000gr/T/ipykernel_18132/3210668323.py:6: FutureWarning: Passing a set as an indexer is deprecated and will raise in a future version. Use a list instead.\n",
      "  all_years = pd.concat([results[year].loc[commonids] for year in years], axis=1)\n",
      "/var/folders/l9/y8y3rmys2sl93tzzph3dl7jw0000gr/T/ipykernel_18132/3210668323.py:6: FutureWarning: Passing a set as an indexer is deprecated and will raise in a future version. Use a list instead.\n",
      "  all_years = pd.concat([results[year].loc[commonids] for year in years], axis=1)\n",
      "/var/folders/l9/y8y3rmys2sl93tzzph3dl7jw0000gr/T/ipykernel_18132/3210668323.py:6: FutureWarning: Passing a set as an indexer is deprecated and will raise in a future version. Use a list instead.\n",
      "  all_years = pd.concat([results[year].loc[commonids] for year in years], axis=1)\n",
      "/var/folders/l9/y8y3rmys2sl93tzzph3dl7jw0000gr/T/ipykernel_18132/3210668323.py:6: FutureWarning: Passing a set as an indexer is deprecated and will raise in a future version. Use a list instead.\n",
      "  all_years = pd.concat([results[year].loc[commonids] for year in years], axis=1)\n",
      "/var/folders/l9/y8y3rmys2sl93tzzph3dl7jw0000gr/T/ipykernel_18132/3210668323.py:6: FutureWarning: Passing a set as an indexer is deprecated and will raise in a future version. Use a list instead.\n",
      "  all_years = pd.concat([results[year].loc[commonids] for year in years], axis=1)\n",
      "/var/folders/l9/y8y3rmys2sl93tzzph3dl7jw0000gr/T/ipykernel_18132/3210668323.py:6: FutureWarning: Passing a set as an indexer is deprecated and will raise in a future version. Use a list instead.\n",
      "  all_years = pd.concat([results[year].loc[commonids] for year in years], axis=1)\n",
      "/var/folders/l9/y8y3rmys2sl93tzzph3dl7jw0000gr/T/ipykernel_18132/3210668323.py:6: FutureWarning: Passing a set as an indexer is deprecated and will raise in a future version. Use a list instead.\n",
      "  all_years = pd.concat([results[year].loc[commonids] for year in years], axis=1)\n",
      "/var/folders/l9/y8y3rmys2sl93tzzph3dl7jw0000gr/T/ipykernel_18132/3210668323.py:6: FutureWarning: Passing a set as an indexer is deprecated and will raise in a future version. Use a list instead.\n",
      "  all_years = pd.concat([results[year].loc[commonids] for year in years], axis=1)\n",
      "/var/folders/l9/y8y3rmys2sl93tzzph3dl7jw0000gr/T/ipykernel_18132/3210668323.py:6: FutureWarning: Passing a set as an indexer is deprecated and will raise in a future version. Use a list instead.\n",
      "  all_years = pd.concat([results[year].loc[commonids] for year in years], axis=1)\n",
      "/var/folders/l9/y8y3rmys2sl93tzzph3dl7jw0000gr/T/ipykernel_18132/3210668323.py:6: FutureWarning: Passing a set as an indexer is deprecated and will raise in a future version. Use a list instead.\n",
      "  all_years = pd.concat([results[year].loc[commonids] for year in years], axis=1)\n",
      "/var/folders/l9/y8y3rmys2sl93tzzph3dl7jw0000gr/T/ipykernel_18132/3210668323.py:6: FutureWarning: Passing a set as an indexer is deprecated and will raise in a future version. Use a list instead.\n",
      "  all_years = pd.concat([results[year].loc[commonids] for year in years], axis=1)\n",
      "/var/folders/l9/y8y3rmys2sl93tzzph3dl7jw0000gr/T/ipykernel_18132/3210668323.py:6: FutureWarning: Passing a set as an indexer is deprecated and will raise in a future version. Use a list instead.\n",
      "  all_years = pd.concat([results[year].loc[commonids] for year in years], axis=1)\n",
      "/var/folders/l9/y8y3rmys2sl93tzzph3dl7jw0000gr/T/ipykernel_18132/3210668323.py:6: FutureWarning: Passing a set as an indexer is deprecated and will raise in a future version. Use a list instead.\n",
      "  all_years = pd.concat([results[year].loc[commonids] for year in years], axis=1)\n",
      "/var/folders/l9/y8y3rmys2sl93tzzph3dl7jw0000gr/T/ipykernel_18132/3210668323.py:6: FutureWarning: Passing a set as an indexer is deprecated and will raise in a future version. Use a list instead.\n",
      "  all_years = pd.concat([results[year].loc[commonids] for year in years], axis=1)\n"
     ]
    }
   ],
   "source": [
    "years = list(results.keys())\n",
    "commonids = set(results[years[0]].index)\n",
    "for year in years[1:]:\n",
    "    commonids = commonids.intersection(set(results[year].index))\n",
    "    \n",
    "all_years = pd.concat([results[year].loc[commonids] for year in years], axis=1)\n",
    "merged = pd.merge(insts, all_years, left_on='UNITID', right_index=True)"
   ]
  },
  {
   "cell_type": "code",
   "execution_count": 166,
   "id": "ef94a7e6",
   "metadata": {},
   "outputs": [],
   "source": [
    "wcompletions           = merged[[col for col in merged.columns if 'women' in col]]\n",
    "\n",
    "years                  = [int(col.split('_')[1]) for col in wcompletions.columns]\n",
    "\n",
    "wcompletions.columns   = years\n",
    "wcompletions.index     = merged['UNITID']\n",
    "# wcompletions['INSTNM'] = merged['INSTNM']\n",
    "# wcompletions['Y']      = merged['Y']\n",
    "\n",
    "wcompletions_flat = pd.DataFrame(pd.concat(wcompletions[col] for col in wcompletions.columns), columns=['wcompletions'])\n",
    "wcompletions_flat['grad_year'] = [year for year in wcompletions.columns for idx in wcompletions.index]"
   ]
  },
  {
   "cell_type": "markdown",
   "id": "a49f2e56",
   "metadata": {},
   "source": [
    "## 3. Load admissions data"
   ]
  },
  {
   "cell_type": "code",
   "execution_count": 167,
   "id": "f9198ef0",
   "metadata": {},
   "outputs": [],
   "source": [
    "fnames = glob('../data/admissions/*/*_rv.csv')+['../data/admissions/adm2020.csv']\n",
    "\n",
    "all_data = []\n",
    "for fname in fnames:\n",
    "    year = int(fname.split('/')[-1].split('_')[0].replace('.csv', '')[-4:])\n",
    "    data = pd.read_csv(fname, index_col=0, usecols=['UNITID', 'ADMSSNW'])\n",
    "    data = data.rename(columns={'ADMSSNW':year})\n",
    "    all_data.append(data)\n",
    "\n",
    "wadmissions = pd.concat(all_data, axis=1)\n",
    "\n",
    "wadmissions_flat = pd.DataFrame(pd.concat([wadmissions[col] for col in wadmissions.columns]), columns=['admissions'])\n",
    "wadmissions_flat['admit_year'] = [year for year in wadmissions.columns for idx in wadmissions.index]\n",
    "wadmissions_flat['admit_year+4'] = wadmissions_flat['admit_year']+4"
   ]
  },
  {
   "cell_type": "code",
   "execution_count": 168,
   "id": "3c9793a0",
   "metadata": {},
   "outputs": [],
   "source": [
    "adm_vs_grad = pd.merge(wadmissions_flat, wcompletions_flat, on='UNITID')"
   ]
  },
  {
   "cell_type": "code",
   "execution_count": 198,
   "id": "98e6386a",
   "metadata": {},
   "outputs": [],
   "source": [
    "adm_vs_grad = adm_vs_grad[adm_vs_grad['admit_year+4']==adm_vs_grad['grad_year']]"
   ]
  },
  {
   "cell_type": "code",
   "execution_count": 199,
   "id": "32609d23",
   "metadata": {},
   "outputs": [
    {
     "name": "stderr",
     "output_type": "stream",
     "text": [
      "/var/folders/l9/y8y3rmys2sl93tzzph3dl7jw0000gr/T/ipykernel_18132/924093328.py:1: SettingWithCopyWarning: \n",
      "A value is trying to be set on a copy of a slice from a DataFrame.\n",
      "Try using .loc[row_indexer,col_indexer] = value instead\n",
      "\n",
      "See the caveats in the documentation: https://pandas.pydata.org/pandas-docs/stable/user_guide/indexing.html#returning-a-view-versus-a-copy\n",
      "  adm_vs_grad['ratio'] = 100*(adm_vs_grad['wcompletions']/adm_vs_grad['admissions'])\n"
     ]
    }
   ],
   "source": [
    "adm_vs_grad['ratio'] = 100*(adm_vs_grad['wcompletions']/adm_vs_grad['admissions'])"
   ]
  },
  {
   "cell_type": "code",
   "execution_count": 200,
   "id": "6df9d3cb",
   "metadata": {},
   "outputs": [],
   "source": [
    "merged = pd.merge(adm_vs_grad, insts, left_index=True, right_on='UNITID')"
   ]
  },
  {
   "cell_type": "code",
   "execution_count": 201,
   "id": "9fe68862",
   "metadata": {},
   "outputs": [],
   "source": [
    "la = merged[merged['Y']=='liberal_arts']\n",
    "toplot_la = la.groupby('grad_year').apply(lambda x: pd.Series({'mean':x['ratio'].mean(), 'sem':x['ratio'].sem()}))\n",
    "\n",
    "rs = merged[merged['Y']=='research']\n",
    "toplot_rs = rs.groupby('grad_year').apply(lambda x: pd.Series({'mean':x['ratio'].mean(), 'sem':x['ratio'].sem()}))"
   ]
  },
  {
   "cell_type": "code",
   "execution_count": 215,
   "id": "8a773368",
   "metadata": {},
   "outputs": [
    {
     "data": {
      "image/png": "[encoded data removed]",
      "text/plain": [
       "<Figure size 432x288 with 1 Axes>"
      ]
     },
     "metadata": {
      "needs_background": "light"
     },
     "output_type": "display_data"
    }
   ],
   "source": [
    "plt.errorbar(toplot_la.index, toplot_la['mean'], yerr=toplot_la['sem']);\n",
    "plt.errorbar(toplot_rs.index, toplot_rs['mean'], yerr=toplot_rs['sem']);\n",
    "plt.xticks([2018, 2019, 2020]);"
   ]
  },
  {
   "cell_type": "code",
   "execution_count": 230,
   "id": "2525341e",
   "metadata": {},
   "outputs": [
    {
     "data": {
      "text/html": [
       "<div>\n",
       "<style scoped>\n",
       "    .dataframe tbody tr th:only-of-type {\n",
       "        vertical-align: middle;\n",
       "    }\n",
       "\n",
       "    .dataframe tbody tr th {\n",
       "        vertical-align: top;\n",
       "    }\n",
       "\n",
       "    .dataframe thead th {\n",
       "        text-align: right;\n",
       "    }\n",
       "</style>\n",
       "<table border=\"1\" class=\"dataframe\">\n",
       "  <thead>\n",
       "    <tr style=\"text-align: right;\">\n",
       "      <th></th>\n",
       "      <th>admissions</th>\n",
       "      <th>admit_year</th>\n",
       "      <th>admit_year+4</th>\n",
       "      <th>wcompletions</th>\n",
       "      <th>grad_year</th>\n",
       "      <th>ratio</th>\n",
       "    </tr>\n",
       "    <tr>\n",
       "      <th>UNITID</th>\n",
       "      <th></th>\n",
       "      <th></th>\n",
       "      <th></th>\n",
       "      <th></th>\n",
       "      <th></th>\n",
       "      <th></th>\n",
       "    </tr>\n",
       "  </thead>\n",
       "  <tbody>\n",
       "    <tr>\n",
       "      <th>115409</th>\n",
       "      <td>270.0</td>\n",
       "      <td>2016</td>\n",
       "      <td>2020</td>\n",
       "      <td>25</td>\n",
       "      <td>2020</td>\n",
       "      <td>9.259259</td>\n",
       "    </tr>\n",
       "    <tr>\n",
       "      <th>115409</th>\n",
       "      <td>262.0</td>\n",
       "      <td>2015</td>\n",
       "      <td>2019</td>\n",
       "      <td>20</td>\n",
       "      <td>2019</td>\n",
       "      <td>7.633588</td>\n",
       "    </tr>\n",
       "    <tr>\n",
       "      <th>115409</th>\n",
       "      <td>255.0</td>\n",
       "      <td>2014</td>\n",
       "      <td>2018</td>\n",
       "      <td>26</td>\n",
       "      <td>2018</td>\n",
       "      <td>10.196078</td>\n",
       "    </tr>\n",
       "    <tr>\n",
       "      <th>121345</th>\n",
       "      <td>379.0</td>\n",
       "      <td>2016</td>\n",
       "      <td>2020</td>\n",
       "      <td>7</td>\n",
       "      <td>2020</td>\n",
       "      <td>1.846966</td>\n",
       "    </tr>\n",
       "    <tr>\n",
       "      <th>121345</th>\n",
       "      <td>443.0</td>\n",
       "      <td>2015</td>\n",
       "      <td>2019</td>\n",
       "      <td>11</td>\n",
       "      <td>2019</td>\n",
       "      <td>2.483070</td>\n",
       "    </tr>\n",
       "    <tr>\n",
       "      <th>...</th>\n",
       "      <td>...</td>\n",
       "      <td>...</td>\n",
       "      <td>...</td>\n",
       "      <td>...</td>\n",
       "      <td>...</td>\n",
       "      <td>...</td>\n",
       "    </tr>\n",
       "    <tr>\n",
       "      <th>236948</th>\n",
       "      <td>10950.0</td>\n",
       "      <td>2015</td>\n",
       "      <td>2019</td>\n",
       "      <td>107</td>\n",
       "      <td>2019</td>\n",
       "      <td>0.977169</td>\n",
       "    </tr>\n",
       "    <tr>\n",
       "      <th>236948</th>\n",
       "      <td>9457.0</td>\n",
       "      <td>2014</td>\n",
       "      <td>2018</td>\n",
       "      <td>73</td>\n",
       "      <td>2018</td>\n",
       "      <td>0.771915</td>\n",
       "    </tr>\n",
       "    <tr>\n",
       "      <th>238333</th>\n",
       "      <td>1486.0</td>\n",
       "      <td>2016</td>\n",
       "      <td>2020</td>\n",
       "      <td>4</td>\n",
       "      <td>2020</td>\n",
       "      <td>0.269179</td>\n",
       "    </tr>\n",
       "    <tr>\n",
       "      <th>238333</th>\n",
       "      <td>1352.0</td>\n",
       "      <td>2015</td>\n",
       "      <td>2019</td>\n",
       "      <td>1</td>\n",
       "      <td>2019</td>\n",
       "      <td>0.073964</td>\n",
       "    </tr>\n",
       "    <tr>\n",
       "      <th>238333</th>\n",
       "      <td>900.0</td>\n",
       "      <td>2014</td>\n",
       "      <td>2018</td>\n",
       "      <td>2</td>\n",
       "      <td>2018</td>\n",
       "      <td>0.222222</td>\n",
       "    </tr>\n",
       "  </tbody>\n",
       "</table>\n",
       "<p>183 rows × 6 columns</p>\n",
       "</div>"
      ],
      "text/plain": [
       "        admissions  admit_year  admit_year+4  wcompletions  grad_year  \\\n",
       "UNITID                                                                  \n",
       "115409       270.0        2016          2020            25       2020   \n",
       "115409       262.0        2015          2019            20       2019   \n",
       "115409       255.0        2014          2018            26       2018   \n",
       "121345       379.0        2016          2020             7       2020   \n",
       "121345       443.0        2015          2019            11       2019   \n",
       "...            ...         ...           ...           ...        ...   \n",
       "236948     10950.0        2015          2019           107       2019   \n",
       "236948      9457.0        2014          2018            73       2018   \n",
       "238333      1486.0        2016          2020             4       2020   \n",
       "238333      1352.0        2015          2019             1       2019   \n",
       "238333       900.0        2014          2018             2       2018   \n",
       "\n",
       "            ratio  \n",
       "UNITID             \n",
       "115409   9.259259  \n",
       "115409   7.633588  \n",
       "115409  10.196078  \n",
       "121345   1.846966  \n",
       "121345   2.483070  \n",
       "...           ...  \n",
       "236948   0.977169  \n",
       "236948   0.771915  \n",
       "238333   0.269179  \n",
       "238333   0.073964  \n",
       "238333   0.222222  \n",
       "\n",
       "[183 rows x 6 columns]"
      ]
     },
     "execution_count": 230,
     "metadata": {},
     "output_type": "execute_result"
    }
   ],
   "source": [
    "adm_vs_grad"
   ]
  },
  {
   "cell_type": "code",
   "execution_count": null,
   "id": "7586f4f2",
   "metadata": {},
   "outputs": [],
   "source": []
  },
  {
   "cell_type": "code",
   "execution_count": 238,
   "id": "444fc197",
   "metadata": {},
   "outputs": [
    {
     "ename": "KeyError",
     "evalue": "218070",
     "output_type": "error",
     "traceback": [
      "\u001b[0;31m---------------------------------------------------------------------------\u001b[0m",
      "\u001b[0;31mKeyError\u001b[0m                                  Traceback (most recent call last)",
      "File \u001b[0;32m~/opt/anaconda3/lib/python3.9/site-packages/pandas/core/indexes/base.py:3621\u001b[0m, in \u001b[0;36mIndex.get_loc\u001b[0;34m(self, key, method, tolerance)\u001b[0m\n\u001b[1;32m   3620\u001b[0m \u001b[38;5;28;01mtry\u001b[39;00m:\n\u001b[0;32m-> 3621\u001b[0m     \u001b[38;5;28;01mreturn\u001b[39;00m \u001b[38;5;28;43mself\u001b[39;49m\u001b[38;5;241;43m.\u001b[39;49m\u001b[43m_engine\u001b[49m\u001b[38;5;241;43m.\u001b[39;49m\u001b[43mget_loc\u001b[49m\u001b[43m(\u001b[49m\u001b[43mcasted_key\u001b[49m\u001b[43m)\u001b[49m\n\u001b[1;32m   3622\u001b[0m \u001b[38;5;28;01mexcept\u001b[39;00m \u001b[38;5;167;01mKeyError\u001b[39;00m \u001b[38;5;28;01mas\u001b[39;00m err:\n",
      "File \u001b[0;32m~/opt/anaconda3/lib/python3.9/site-packages/pandas/_libs/index.pyx:136\u001b[0m, in \u001b[0;36mpandas._libs.index.IndexEngine.get_loc\u001b[0;34m()\u001b[0m\n",
      "File \u001b[0;32m~/opt/anaconda3/lib/python3.9/site-packages/pandas/_libs/index.pyx:160\u001b[0m, in \u001b[0;36mpandas._libs.index.IndexEngine.get_loc\u001b[0;34m()\u001b[0m\n",
      "File \u001b[0;32m~/opt/anaconda3/lib/python3.9/site-packages/pandas/_libs/index.pyx:195\u001b[0m, in \u001b[0;36mpandas._libs.index.IndexEngine._get_loc_duplicates\u001b[0;34m()\u001b[0m\n",
      "\u001b[0;31mKeyError\u001b[0m: 218070",
      "\nThe above exception was the direct cause of the following exception:\n",
      "\u001b[0;31mKeyError\u001b[0m                                  Traceback (most recent call last)",
      "Input \u001b[0;32mIn [238]\u001b[0m, in \u001b[0;36m<cell line: 1>\u001b[0;34m()\u001b[0m\n\u001b[0;32m----> 1\u001b[0m \u001b[43mwcompletions\u001b[49m\u001b[38;5;241;43m.\u001b[39;49m\u001b[43mloc\u001b[49m\u001b[43m[\u001b[49m\u001b[38;5;241;43m218070\u001b[39;49m\u001b[43m]\u001b[49m\n",
      "File \u001b[0;32m~/opt/anaconda3/lib/python3.9/site-packages/pandas/core/indexing.py:967\u001b[0m, in \u001b[0;36m_LocationIndexer.__getitem__\u001b[0;34m(self, key)\u001b[0m\n\u001b[1;32m    964\u001b[0m axis \u001b[38;5;241m=\u001b[39m \u001b[38;5;28mself\u001b[39m\u001b[38;5;241m.\u001b[39maxis \u001b[38;5;129;01mor\u001b[39;00m \u001b[38;5;241m0\u001b[39m\n\u001b[1;32m    966\u001b[0m maybe_callable \u001b[38;5;241m=\u001b[39m com\u001b[38;5;241m.\u001b[39mapply_if_callable(key, \u001b[38;5;28mself\u001b[39m\u001b[38;5;241m.\u001b[39mobj)\n\u001b[0;32m--> 967\u001b[0m \u001b[38;5;28;01mreturn\u001b[39;00m \u001b[38;5;28;43mself\u001b[39;49m\u001b[38;5;241;43m.\u001b[39;49m\u001b[43m_getitem_axis\u001b[49m\u001b[43m(\u001b[49m\u001b[43mmaybe_callable\u001b[49m\u001b[43m,\u001b[49m\u001b[43m \u001b[49m\u001b[43maxis\u001b[49m\u001b[38;5;241;43m=\u001b[39;49m\u001b[43maxis\u001b[49m\u001b[43m)\u001b[49m\n",
      "File \u001b[0;32m~/opt/anaconda3/lib/python3.9/site-packages/pandas/core/indexing.py:1202\u001b[0m, in \u001b[0;36m_LocIndexer._getitem_axis\u001b[0;34m(self, key, axis)\u001b[0m\n\u001b[1;32m   1200\u001b[0m \u001b[38;5;66;03m# fall thru to straight lookup\u001b[39;00m\n\u001b[1;32m   1201\u001b[0m \u001b[38;5;28mself\u001b[39m\u001b[38;5;241m.\u001b[39m_validate_key(key, axis)\n\u001b[0;32m-> 1202\u001b[0m \u001b[38;5;28;01mreturn\u001b[39;00m \u001b[38;5;28;43mself\u001b[39;49m\u001b[38;5;241;43m.\u001b[39;49m\u001b[43m_get_label\u001b[49m\u001b[43m(\u001b[49m\u001b[43mkey\u001b[49m\u001b[43m,\u001b[49m\u001b[43m \u001b[49m\u001b[43maxis\u001b[49m\u001b[38;5;241;43m=\u001b[39;49m\u001b[43maxis\u001b[49m\u001b[43m)\u001b[49m\n",
      "File \u001b[0;32m~/opt/anaconda3/lib/python3.9/site-packages/pandas/core/indexing.py:1153\u001b[0m, in \u001b[0;36m_LocIndexer._get_label\u001b[0;34m(self, label, axis)\u001b[0m\n\u001b[1;32m   1151\u001b[0m \u001b[38;5;28;01mdef\u001b[39;00m \u001b[38;5;21m_get_label\u001b[39m(\u001b[38;5;28mself\u001b[39m, label, axis: \u001b[38;5;28mint\u001b[39m):\n\u001b[1;32m   1152\u001b[0m     \u001b[38;5;66;03m# GH#5667 this will fail if the label is not present in the axis.\u001b[39;00m\n\u001b[0;32m-> 1153\u001b[0m     \u001b[38;5;28;01mreturn\u001b[39;00m \u001b[38;5;28;43mself\u001b[39;49m\u001b[38;5;241;43m.\u001b[39;49m\u001b[43mobj\u001b[49m\u001b[38;5;241;43m.\u001b[39;49m\u001b[43mxs\u001b[49m\u001b[43m(\u001b[49m\u001b[43mlabel\u001b[49m\u001b[43m,\u001b[49m\u001b[43m \u001b[49m\u001b[43maxis\u001b[49m\u001b[38;5;241;43m=\u001b[39;49m\u001b[43maxis\u001b[49m\u001b[43m)\u001b[49m\n",
      "File \u001b[0;32m~/opt/anaconda3/lib/python3.9/site-packages/pandas/core/generic.py:3864\u001b[0m, in \u001b[0;36mNDFrame.xs\u001b[0;34m(self, key, axis, level, drop_level)\u001b[0m\n\u001b[1;32m   3862\u001b[0m             new_index \u001b[38;5;241m=\u001b[39m index[loc]\n\u001b[1;32m   3863\u001b[0m \u001b[38;5;28;01melse\u001b[39;00m:\n\u001b[0;32m-> 3864\u001b[0m     loc \u001b[38;5;241m=\u001b[39m \u001b[43mindex\u001b[49m\u001b[38;5;241;43m.\u001b[39;49m\u001b[43mget_loc\u001b[49m\u001b[43m(\u001b[49m\u001b[43mkey\u001b[49m\u001b[43m)\u001b[49m\n\u001b[1;32m   3866\u001b[0m     \u001b[38;5;28;01mif\u001b[39;00m \u001b[38;5;28misinstance\u001b[39m(loc, np\u001b[38;5;241m.\u001b[39mndarray):\n\u001b[1;32m   3867\u001b[0m         \u001b[38;5;28;01mif\u001b[39;00m loc\u001b[38;5;241m.\u001b[39mdtype \u001b[38;5;241m==\u001b[39m np\u001b[38;5;241m.\u001b[39mbool_:\n",
      "File \u001b[0;32m~/opt/anaconda3/lib/python3.9/site-packages/pandas/core/indexes/base.py:3623\u001b[0m, in \u001b[0;36mIndex.get_loc\u001b[0;34m(self, key, method, tolerance)\u001b[0m\n\u001b[1;32m   3621\u001b[0m     \u001b[38;5;28;01mreturn\u001b[39;00m \u001b[38;5;28mself\u001b[39m\u001b[38;5;241m.\u001b[39m_engine\u001b[38;5;241m.\u001b[39mget_loc(casted_key)\n\u001b[1;32m   3622\u001b[0m \u001b[38;5;28;01mexcept\u001b[39;00m \u001b[38;5;167;01mKeyError\u001b[39;00m \u001b[38;5;28;01mas\u001b[39;00m err:\n\u001b[0;32m-> 3623\u001b[0m     \u001b[38;5;28;01mraise\u001b[39;00m \u001b[38;5;167;01mKeyError\u001b[39;00m(key) \u001b[38;5;28;01mfrom\u001b[39;00m \u001b[38;5;21;01merr\u001b[39;00m\n\u001b[1;32m   3624\u001b[0m \u001b[38;5;28;01mexcept\u001b[39;00m \u001b[38;5;167;01mTypeError\u001b[39;00m:\n\u001b[1;32m   3625\u001b[0m     \u001b[38;5;66;03m# If we have a listlike key, _check_indexing_error will raise\u001b[39;00m\n\u001b[1;32m   3626\u001b[0m     \u001b[38;5;66;03m#  InvalidIndexError. Otherwise we fall through and re-raise\u001b[39;00m\n\u001b[1;32m   3627\u001b[0m     \u001b[38;5;66;03m#  the TypeError.\u001b[39;00m\n\u001b[1;32m   3628\u001b[0m     \u001b[38;5;28mself\u001b[39m\u001b[38;5;241m.\u001b[39m_check_indexing_error(key)\n",
      "\u001b[0;31mKeyError\u001b[0m: 218070"
     ]
    }
   ],
   "source": [
    "wcompletions.loc[218070]"
   ]
  },
  {
   "cell_type": "code",
   "execution_count": 236,
   "id": "418506d5",
   "metadata": {},
   "outputs": [
    {
     "data": {
      "text/html": [
       "<div>\n",
       "<style scoped>\n",
       "    .dataframe tbody tr th:only-of-type {\n",
       "        vertical-align: middle;\n",
       "    }\n",
       "\n",
       "    .dataframe tbody tr th {\n",
       "        vertical-align: top;\n",
       "    }\n",
       "\n",
       "    .dataframe thead th {\n",
       "        text-align: right;\n",
       "    }\n",
       "</style>\n",
       "<table border=\"1\" class=\"dataframe\">\n",
       "  <thead>\n",
       "    <tr style=\"text-align: right;\">\n",
       "      <th></th>\n",
       "      <th>admissions</th>\n",
       "      <th>admit_year</th>\n",
       "      <th>admit_year+4</th>\n",
       "    </tr>\n",
       "    <tr>\n",
       "      <th>UNITID</th>\n",
       "      <th></th>\n",
       "      <th></th>\n",
       "      <th></th>\n",
       "    </tr>\n",
       "  </thead>\n",
       "  <tbody>\n",
       "    <tr>\n",
       "      <th>218070</th>\n",
       "      <td>2096.0</td>\n",
       "      <td>2018</td>\n",
       "      <td>2022</td>\n",
       "    </tr>\n",
       "    <tr>\n",
       "      <th>218070</th>\n",
       "      <td>2232.0</td>\n",
       "      <td>2016</td>\n",
       "      <td>2020</td>\n",
       "    </tr>\n",
       "    <tr>\n",
       "      <th>218070</th>\n",
       "      <td>1907.0</td>\n",
       "      <td>2017</td>\n",
       "      <td>2021</td>\n",
       "    </tr>\n",
       "    <tr>\n",
       "      <th>218070</th>\n",
       "      <td>1844.0</td>\n",
       "      <td>2019</td>\n",
       "      <td>2023</td>\n",
       "    </tr>\n",
       "    <tr>\n",
       "      <th>218070</th>\n",
       "      <td>1982.0</td>\n",
       "      <td>2015</td>\n",
       "      <td>2019</td>\n",
       "    </tr>\n",
       "    <tr>\n",
       "      <th>218070</th>\n",
       "      <td>1939.0</td>\n",
       "      <td>2014</td>\n",
       "      <td>2018</td>\n",
       "    </tr>\n",
       "    <tr>\n",
       "      <th>218070</th>\n",
       "      <td>2037.0</td>\n",
       "      <td>2020</td>\n",
       "      <td>2024</td>\n",
       "    </tr>\n",
       "  </tbody>\n",
       "</table>\n",
       "</div>"
      ],
      "text/plain": [
       "        admissions  admit_year  admit_year+4\n",
       "UNITID                                      \n",
       "218070      2096.0        2018          2022\n",
       "218070      2232.0        2016          2020\n",
       "218070      1907.0        2017          2021\n",
       "218070      1844.0        2019          2023\n",
       "218070      1982.0        2015          2019\n",
       "218070      1939.0        2014          2018\n",
       "218070      2037.0        2020          2024"
      ]
     },
     "execution_count": 236,
     "metadata": {},
     "output_type": "execute_result"
    }
   ],
   "source": [
    "wadmissions_flat.loc[218070]"
   ]
  }
 ],
 "metadata": {
  "kernelspec": {
   "display_name": "Python 3 (ipykernel)",
   "language": "python",
   "name": "python3"
  },
  "language_info": {
   "codemirror_mode": {
    "name": "ipython",
    "version": 3
   },
   "file_extension": ".py",
   "mimetype": "text/x-python",
   "name": "python",
   "nbconvert_exporter": "python",
   "pygments_lexer": "ipython3",
   "version": "3.9.12"
  }
 },
 "nbformat": 4,
 "nbformat_minor": 5
}
