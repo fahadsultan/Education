{
 "cells": [
  {
   "cell_type": "code",
   "execution_count": 35,
   "metadata": {},
   "outputs": [],
   "source": [
    "import pandas as pd\n",
    "from matplotlib import pyplot as plt\n",
    "from glob import glob\n",
    "from scipy.stats import mannwhitneyu, ttest_ind, pearsonr, spearmanr\n",
    "from tqdm import tqdm\n",
    "import numpy as np \n",
    "import math\n",
    "import seaborn as sns\n",
    "from scipy.stats import ttest_ind\n",
    "\n",
    "\n",
    "demos = ['women', 'black', 'hispanic', 'native american']\n",
    "%matplotlib inline"
   ]
  },
  {
   "attachments": {},
   "cell_type": "markdown",
   "metadata": {},
   "source": [
    "### 1. Startup"
   ]
  },
  {
   "cell_type": "code",
   "execution_count": 36,
   "metadata": {},
   "outputs": [],
   "source": [
    "def startup(start, end):\n",
    "    \"\"\" \n",
    "    Takes in a start and end year and returns a dictionary of dataframes. Read in data from \n",
    "    IPEDS completions, university meta-data and demographic columns of interest.\n",
    "    \"\"\"\n",
    "    \n",
    "    unis = pd.read_csv('../../data/IPEDS/university_info/hd2021.csv', encoding='cp1252')\n",
    "    unis = unis.set_index('UNITID')\n",
    "\n",
    "    completions = {}\n",
    "    for year in range(start, end+1):\n",
    "        data              = pd.read_csv('../../data/IPEDS/completions/c%s_a.csv' % year)\n",
    "        data              = data.set_index('UNITID')\n",
    "        data              = data[data['AWLEVEL'] == 5]\n",
    "        completions[year] = data\n",
    "\n",
    "    demo_cols = ['CTOTALW', 'CAIANT', 'CBKAAT', 'CHISPT', 'CTOTALT']\n",
    "    \n",
    "    return unis, completions, demo_cols\n",
    "\n",
    "unis, completions, demo_cols = startup(2011, 2021)"
   ]
  },
  {
   "attachments": {},
   "cell_type": "markdown",
   "metadata": {},
   "source": [
    "### 2. CS & NonCS"
   ]
  },
  {
   "cell_type": "code",
   "execution_count": 37,
   "metadata": {},
   "outputs": [],
   "source": [
    "def cs_noncs(data):\n",
    "\n",
    "    cs_map      = data['CIPCODE'].apply(lambda x : 11 <= x and x < 12)\n",
    "    cs          = data[cs_map]\n",
    "    cs_sum      = cs.groupby('UNITID').sum()\n",
    "\n",
    "    noncs_map   = ~cs_map\n",
    "    noncs       = data[noncs_map]\n",
    "    noncs_sum   = noncs.groupby('UNITID').sum()\n",
    "\n",
    "    cs_unis     = set(cs_sum.index.unique())\n",
    "    noncs_unis  = set(noncs_sum.index.unique())\n",
    "    common_unis = list(cs_unis.intersection(noncs_unis))\n",
    "\n",
    "    cs_sum      = cs_sum.loc[common_unis]\n",
    "    noncs_sum   = noncs_sum.loc[common_unis]\n",
    "\n",
    "    return cs_sum, noncs_sum\n",
    "\n",
    "def cs_noncs_allyears(completions):\n",
    "\n",
    "    all_cs      = []\n",
    "    all_noncs   = []\n",
    "    \n",
    "    for year in completions:\n",
    "        data          = completions[year]\n",
    "        cs, noncs     = cs_noncs(data)\n",
    "\n",
    "        cs['year']    = year\n",
    "        noncs['year'] = year\n",
    "\n",
    "        all_cs.append(cs)\n",
    "        all_noncs.append(noncs)\n",
    "        \n",
    "    all_cs    = pd.concat(all_cs)\n",
    "    all_noncs = pd.concat(all_noncs)\n",
    "    return all_cs, all_noncs\n",
    "\n",
    "cs, noncs = cs_noncs_allyears(completions)"
   ]
  },
  {
   "attachments": {},
   "cell_type": "markdown",
   "metadata": {},
   "source": [
    "### 3. Compute Demographic Percentages"
   ]
  },
  {
   "cell_type": "code",
   "execution_count": 38,
   "metadata": {},
   "outputs": [],
   "source": [
    "def make_percents(cs, noncs, demo_cols):\n",
    "    cs      = cs.set_index(['year'], append=True)\n",
    "    noncs   = noncs.set_index(['year'], append=True)\n",
    "\n",
    "    cs_pct      = cs.apply(lambda x:    x[demo_cols] / x['CTOTALT'], axis = 1)\n",
    "    noncs_pct   = noncs.apply(lambda x: x[demo_cols] / x['CTOTALT'], axis = 1)\n",
    "\n",
    "    return cs_pct, noncs_pct\n",
    "\n",
    "cs_pct, noncs_pct = make_percents(cs, noncs, demo_cols)\n"
   ]
  },
  {
   "attachments": {},
   "cell_type": "markdown",
   "metadata": {},
   "source": [
    "### 4. Compute _\"Trend\"_ correlation measure"
   ]
  },
  {
   "cell_type": "code",
   "execution_count": 39,
   "metadata": {},
   "outputs": [],
   "source": [
    "cs_pct        = cs_pct.reset_index(level=1)\n",
    "noncs_pct     = noncs_pct.reset_index(level=1)\n",
    "\n",
    "cs_pct        = cs_pct.dropna()\n",
    "noncs_pct     = noncs_pct.dropna()\n",
    "\n",
    "years_of_data = cs_pct.groupby('UNITID').count()['year']\n",
    "all_11_years  = years_of_data[years_of_data == 11].index\n",
    "cs_pct        = cs_pct.loc[all_11_years]\n",
    "\n",
    "years_of_data = noncs_pct.groupby('UNITID').count()['year']\n",
    "all_11_years  = years_of_data[years_of_data == 11].index\n",
    "noncs_pct     = noncs_pct.loc[all_11_years]\n"
   ]
  },
  {
   "cell_type": "code",
   "execution_count": 40,
   "metadata": {},
   "outputs": [
    {
     "name": "stderr",
     "output_type": "stream",
     "text": [
      "/Users/fsultan/opt/anaconda3/lib/python3.9/site-packages/scipy/stats/stats.py:4023: PearsonRConstantInputWarning: An input array is constant; the correlation coefficient is not defined.\n",
      "  warnings.warn(PearsonRConstantInputWarning())\n",
      "/Users/fsultan/opt/anaconda3/lib/python3.9/site-packages/scipy/stats/stats.py:4023: PearsonRConstantInputWarning: An input array is constant; the correlation coefficient is not defined.\n",
      "  warnings.warn(PearsonRConstantInputWarning())\n",
      "/Users/fsultan/opt/anaconda3/lib/python3.9/site-packages/scipy/stats/stats.py:4023: PearsonRConstantInputWarning: An input array is constant; the correlation coefficient is not defined.\n",
      "  warnings.warn(PearsonRConstantInputWarning())\n",
      "/Users/fsultan/opt/anaconda3/lib/python3.9/site-packages/scipy/stats/stats.py:4023: PearsonRConstantInputWarning: An input array is constant; the correlation coefficient is not defined.\n",
      "  warnings.warn(PearsonRConstantInputWarning())\n",
      "/Users/fsultan/opt/anaconda3/lib/python3.9/site-packages/scipy/stats/stats.py:4023: PearsonRConstantInputWarning: An input array is constant; the correlation coefficient is not defined.\n",
      "  warnings.warn(PearsonRConstantInputWarning())\n",
      "/Users/fsultan/opt/anaconda3/lib/python3.9/site-packages/scipy/stats/stats.py:4023: PearsonRConstantInputWarning: An input array is constant; the correlation coefficient is not defined.\n",
      "  warnings.warn(PearsonRConstantInputWarning())\n"
     ]
    }
   ],
   "source": [
    "cols          = [('black', 'CBKAAT'), ('women', 'CTOTALW'), ('hispanic', 'CHISPT')]\n",
    "\n",
    "for label, col in cols:\n",
    "\n",
    "    cs_trends    = cs_pct.groupby('UNITID').apply(lambda x: pearsonr(x['year'], x[col]))\n",
    "    cs_trends    = cs_trends.apply(lambda x: pd.Series({'cs_stat': x[0], 'cs_pval': x[1]}))\n",
    "\n",
    "    noncs_trends = noncs_pct.groupby('UNITID').apply(lambda x: pearsonr(x['year'], x[col]))\n",
    "    noncs_trends = noncs_trends.apply(lambda x: pd.Series({'noncs_stat': x[0], 'noncs_pval': x[1]}))\n",
    "\n",
    "    trends = pd.merge(cs_trends, noncs_trends, left_index=True, right_index=True)\n",
    "\n",
    "    trends = trends.dropna()\n",
    "    trends['quadrant'] = trends.apply(lambda x: 1 if x['cs_stat'] > 0 and x['noncs_stat'] > 0 else\\\n",
    "                                                2 if x['cs_stat'] < 0 and x['noncs_stat'] > 0 else\\\n",
    "                                                3 if x['cs_stat'] < 0 and x['noncs_stat'] < 0 else\\\n",
    "                                                4, axis=1)\n",
    "\n",
    "    trends = trends.dropna()\n",
    "    trends.to_csv('../../out/trends_%s.csv' % label)"
   ]
  }
 ],
 "metadata": {
  "interpreter": {
   "hash": "a0445772163e85b2284d69b02b8fb9964ee49d8cb03c72e2773a428f86e13ecc"
  },
  "kernelspec": {
   "display_name": "Python 3.9.13 ('base')",
   "language": "python",
   "name": "python3"
  },
  "language_info": {
   "codemirror_mode": {
    "name": "ipython",
    "version": 3
   },
   "file_extension": ".py",
   "mimetype": "text/x-python",
   "name": "python",
   "nbconvert_exporter": "python",
   "pygments_lexer": "ipython3",
   "version": "3.9.12"
  },
  "orig_nbformat": 4
 },
 "nbformat": 4,
 "nbformat_minor": 2
}
