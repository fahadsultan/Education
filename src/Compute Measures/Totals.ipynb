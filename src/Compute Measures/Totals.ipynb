{
 "cells": [
  {
   "cell_type": "code",
   "execution_count": 8,
   "metadata": {},
   "outputs": [],
   "source": [
    "import pandas as pd\n",
    "from matplotlib import pyplot as plt\n",
    "from glob import glob\n",
    "from scipy.stats import mannwhitneyu, ttest_ind, pearsonr, spearmanr\n",
    "from tqdm import tqdm\n",
    "import numpy as np \n",
    "import math\n",
    "import seaborn as sns\n",
    "from scipy.stats import ttest_ind\n",
    "\n",
    "\n",
    "demos = ['women', 'black', 'hispanic', 'native american']\n",
    "%matplotlib inline"
   ]
  },
  {
   "attachments": {},
   "cell_type": "markdown",
   "metadata": {},
   "source": [
    "### 1. Startup"
   ]
  },
  {
   "cell_type": "code",
   "execution_count": 9,
   "metadata": {},
   "outputs": [],
   "source": [
    "def startup(start, end):\n",
    "    \"\"\" \n",
    "    Takes in a start and end year and returns a dictionary of dataframes. Read in data from \n",
    "    IPEDS completions, university meta-data and demographic columns of interest.\n",
    "    \"\"\"\n",
    "    \n",
    "    unis = pd.read_csv('../../data/IPEDS/university_info/hd2021.csv', encoding='cp1252')\n",
    "    unis = unis.set_index('UNITID')\n",
    "\n",
    "    completions = {}\n",
    "    for year in range(start, end+1):\n",
    "        data              = pd.read_csv('../../data/IPEDS/completions/c%s_a.csv' % year)\n",
    "        data              = data.set_index('UNITID')\n",
    "        data              = data[data['AWLEVEL'] == 5]\n",
    "        completions[year] = data\n",
    "\n",
    "    demo_cols = ['CTOTALW', 'CAIANT', 'CBKAAT', 'CHISPT', 'CTOTALT']\n",
    "    \n",
    "    return unis, completions, demo_cols\n",
    "\n",
    "unis, completions, demo_cols = startup(2011, 2021)"
   ]
  },
  {
   "attachments": {},
   "cell_type": "markdown",
   "metadata": {},
   "source": [
    "### 2. CS & NonCS"
   ]
  },
  {
   "cell_type": "code",
   "execution_count": 10,
   "metadata": {},
   "outputs": [],
   "source": [
    "def cs_noncs(data):\n",
    "\n",
    "    cs_map      = data['CIPCODE'].apply(lambda x : 11 <= x and x < 12)\n",
    "    cs          = data[cs_map]\n",
    "    cs_sum      = cs.groupby('UNITID').sum()\n",
    "\n",
    "    noncs_map   = ~cs_map\n",
    "    noncs       = data[noncs_map]\n",
    "    noncs_sum   = noncs.groupby('UNITID').sum()\n",
    "\n",
    "    cs_unis     = set(cs_sum.index.unique())\n",
    "    noncs_unis  = set(noncs_sum.index.unique())\n",
    "    common_unis = list(cs_unis.intersection(noncs_unis))\n",
    "\n",
    "    cs_sum      = cs_sum.loc[common_unis]\n",
    "    noncs_sum   = noncs_sum.loc[common_unis]\n",
    "\n",
    "    return cs_sum, noncs_sum\n",
    "\n",
    "def cs_noncs_allyears(completions):\n",
    "\n",
    "    all_cs      = []\n",
    "    all_noncs   = []\n",
    "    \n",
    "    for year in completions:\n",
    "        data          = completions[year]\n",
    "        cs, noncs     = cs_noncs(data)\n",
    "\n",
    "        cs['year']    = year\n",
    "        noncs['year'] = year\n",
    "\n",
    "        all_cs.append(cs)\n",
    "        all_noncs.append(noncs)\n",
    "        \n",
    "    all_cs    = pd.concat(all_cs)\n",
    "    all_noncs = pd.concat(all_noncs)\n",
    "    return all_cs, all_noncs\n",
    "\n",
    "cs, noncs = cs_noncs_allyears(completions)"
   ]
  },
  {
   "cell_type": "code",
   "execution_count": 11,
   "metadata": {},
   "outputs": [],
   "source": [
    "total_grads_cs  = cs.groupby('UNITID').sum()['CTOTALT']\n",
    "total_grads_ncs = noncs.groupby('UNITID').sum()['CTOTALT']\n",
    "\n",
    "total_grads_cs.name  = 'total_cs'\n",
    "total_grads_ncs.name = 'total_noncs'\n",
    "\n",
    "totals = pd.merge(total_grads_cs, total_grads_ncs, left_index=True, right_index=True)\n",
    "\n",
    "# totals.to_csv('../../out/totals.csv')"
   ]
  },
  {
   "cell_type": "code",
   "execution_count": 52,
   "metadata": {},
   "outputs": [],
   "source": [
    "national_all_cs         = cs.groupby('year').sum()['CTOTALT']\n",
    "national_women_cs       = cs.groupby('year').sum()['CTOTALW']\n",
    "national_black_cs       = cs.groupby('year').sum()['CBKAAT']\n",
    "national_hispanic_cs    = cs.groupby('year').sum()['CHISPT']\n",
    "\n",
    "national_all_ncs        = noncs.groupby('year').sum()['CTOTALT']\n",
    "national_women_ncs      = noncs.groupby('year').sum()['CTOTALW']\n",
    "national_black_ncs      = noncs.groupby('year').sum()['CBKAAT']\n",
    "national_hispanic_ncs   = noncs.groupby('year').sum()['CHISPT']"
   ]
  },
  {
   "cell_type": "markdown",
   "metadata": {},
   "source": [
    "### 3. Compute Demographic Percentages"
   ]
  },
  {
   "cell_type": "code",
   "execution_count": 15,
   "metadata": {},
   "outputs": [],
   "source": [
    "def make_percents(cs, noncs, demo_cols):\n",
    "    cs      = cs.set_index(['year'], append=True)\n",
    "    noncs   = noncs.set_index(['year'], append=True)\n",
    "\n",
    "    cs_pct      = cs.apply(lambda x:    x[demo_cols] / x['CTOTALT'], axis = 1)\n",
    "    noncs_pct   = noncs.apply(lambda x: x[demo_cols] / x['CTOTALT'], axis = 1)\n",
    "\n",
    "    return cs_pct, noncs_pct\n",
    "\n",
    "cs_pct, noncs_pct = make_percents(cs, noncs, demo_cols)\n"
   ]
  },
  {
   "cell_type": "code",
   "execution_count": 41,
   "metadata": {},
   "outputs": [],
   "source": [
    "cs_sem  = cs_pct.reset_index().groupby('year').apply(lambda x: pd.Series({'mean':x['CBKAAT'].mean(), 'sem': x['CBKAAT'].sem()}))\n",
    "ncs_sem = noncs_pct.reset_index().groupby('year').apply(lambda x: pd.Series({'mean':x['CBKAAT'].mean(), 'sem': x['CBKAAT'].sem()}))"
   ]
  },
  {
   "cell_type": "code",
   "execution_count": 71,
   "metadata": {},
   "outputs": [
    {
     "data": {
      "text/plain": [
       "year\n",
       "2011    4455\n",
       "2012    4886\n",
       "2013    5544\n",
       "2014    5536\n",
       "2015    5785\n",
       "2016    5725\n",
       "2017    6152\n",
       "2018    6679\n",
       "2019    7435\n",
       "2020    7844\n",
       "2021    8837\n",
       "Name: CBKAAT, dtype: int64"
      ]
     },
     "execution_count": 71,
     "metadata": {},
     "output_type": "execute_result"
    }
   ],
   "source": [
    "cs.groupby('year').sum()['CBKAAT']"
   ]
  },
  {
   "cell_type": "code",
   "execution_count": 43,
   "metadata": {},
   "outputs": [
    {
     "data": {
      "image/png": "[encoded data removed]",
      "text/plain": [
       "<Figure size 432x288 with 1 Axes>"
      ]
     },
     "metadata": {
      "needs_background": "light"
     },
     "output_type": "display_data"
    }
   ],
   "source": [
    "plt.errorbar(cs_sem.index, cs_sem['mean'], yerr=cs_sem['sem'], label='CS', capsize=5)\n",
    "plt.errorbar(ncs_sem.index, ncs_sem['mean'], yerr=ncs_sem['sem'], label='CS', capsize=5)\n",
    "plt.grid()"
   ]
  },
  {
   "cell_type": "code",
   "execution_count": 57,
   "metadata": {},
   "outputs": [
    {
     "data": {
      "image/png": "[encoded data removed]",
      "text/plain": [
       "<Figure size 360x360 with 1 Axes>"
      ]
     },
     "metadata": {
      "needs_background": "light"
     },
     "output_type": "display_data"
    }
   ],
   "source": [
    "plt.figure(figsize=(5, 5))\n",
    "plt.plot(national_black.index[:-2], (national_black / national_all)[:-2], marker='s', label='National CS')\n",
    "# plt.twinx()\n",
    "plt.errorbar(cs_sem.index[:-2], cs_sem['mean'][:-2], yerr=cs_sem['sem'][:-2], label='Institutional Level CS', capsize=5)\n",
    "plt.grid()\n"
   ]
  },
  {
   "cell_type": "code",
   "execution_count": null,
   "metadata": {},
   "outputs": [],
   "source": [
    "plt.figure(figsize=(5, 5))\n",
    "plt.plot(national_black.index[:-2], (national_black / national_all)[:-2], marker='s', label='National CS')\n",
    "# plt.twinx()\n",
    "plt.errorbar(cs_sem.index[:-2], cs_sem['mean'][:-2], yerr=cs_sem['sem'][:-2], label='Institutional Level CS', capsize=5)\n",
    "plt.grid()\n"
   ]
  }
 ],
 "metadata": {
  "interpreter": {
   "hash": "a0445772163e85b2284d69b02b8fb9964ee49d8cb03c72e2773a428f86e13ecc"
  },
  "kernelspec": {
   "display_name": "Python 3.9.13 ('base')",
   "language": "python",
   "name": "python3"
  },
  "language_info": {
   "codemirror_mode": {
    "name": "ipython",
    "version": 3
   },
   "file_extension": ".py",
   "mimetype": "text/x-python",
   "name": "python",
   "nbconvert_exporter": "python",
   "pygments_lexer": "ipython3",
   "version": "3.9.12"
  },
  "orig_nbformat": 4
 },
 "nbformat": 4,
 "nbformat_minor": 2
}
