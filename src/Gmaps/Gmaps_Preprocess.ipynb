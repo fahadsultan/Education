{
 "cells": [
  {
   "cell_type": "code",
   "execution_count": 3,
   "metadata": {},
   "outputs": [],
   "source": [
    "import pandas as pd \n",
    "\n",
    "fpath           = '../../data/IPEDS/university_info/hd2020.csv'\n",
    "unis            = pd.read_csv(fpath, encoding='latin-1')\n",
    "cols            = ['UNITID', 'INSTNM', 'CITY', 'STABBR', 'INSTSIZE', 'LONGITUD', 'LATITUDE']\n",
    "filtered        = unis[cols]\n",
    "\n",
    "demo_dfs        = []\n",
    "for fname in ['trends_black.csv', 'trends_hispanic.csv', 'trends_women.csv']:\n",
    "    fpath       = '../../out/' + fname\n",
    "    df          = pd.read_csv(fpath).round(3)\n",
    "    df['demo']  = fname.split('_')[1].split('.')[0]\n",
    "    merged      = pd.merge(filtered, df, on='UNITID')\n",
    "    demo_dfs.append(merged)\n",
    "\n",
    "all_demos = pd.concat(demo_dfs)\n",
    "all_demos.to_csv('gmaps_data.csv', index=False)"
   ]
  }
 ],
 "metadata": {
  "kernelspec": {
   "display_name": "base",
   "language": "python",
   "name": "python3"
  },
  "language_info": {
   "codemirror_mode": {
    "name": "ipython",
    "version": 3
   },
   "file_extension": ".py",
   "mimetype": "text/x-python",
   "name": "python",
   "nbconvert_exporter": "python",
   "pygments_lexer": "ipython3",
   "version": "3.9.12"
  }
 },
 "nbformat": 4,
 "nbformat_minor": 2
}
