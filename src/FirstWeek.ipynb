{
 "cells": [
  {
   "cell_type": "code",
   "execution_count": null,
   "metadata": {},
   "outputs": [],
   "source": [
    "import pandas as pd\n",
    "from matplotlib import pyplot as plt\n",
    "from glob import glob\n",
    "from scipy.stats import mannwhitneyu, ttest_ind\n",
    "from tqdm import tqdm\n",
    "import numpy as np \n",
    "import math\n",
    "%matplotlib inline"
   ]
  },
  {
   "cell_type": "code",
   "execution_count": null,
   "metadata": {},
   "outputs": [],
   "source": [
    "#Reading meta-data files\n",
    "unis2020 = pd.read_csv('../data/IPEDS/hd2020.csv',encoding='cp1252')\n",
    "\n",
    "\n",
    "## Preprocessing meta-data files\n",
    "### Updating names to match in rankings  \n",
    "unis2020.loc[unis2020['IALIAS']=='Virginia Tech', 'INSTNM'] = 'Virginia Tech'\n",
    "unis2020.loc[unis2020['INSTNM']=='University of Illinois Urbana-Champaign', 'INSTNM'] = 'University of Illinois at Urbana-Champaign'\n",
    "unis2020.loc[(unis2020['INSTNM']==\"St. John's College\") & (unis2020['STABBR']=='MD'), 'INSTNM'] = \"St. John's College - MD\"\n",
    "unis2020.loc[(unis2020['INSTNM']==\"St. John's College\") & (unis2020['STABBR']=='NM'), 'INSTNM'] = \"St. John's College - NM\"\n",
    "unis2020.loc[unis2020['INSTNM']==\"William & Mary\", 'INSTNM'] = \"College of William and Mary\"\n",
    "unis2020.loc[(unis2020['INSTNM']==\"Brigham Young University\") & (unis2020['CITY']=='Provo'), 'INSTNM'] = \"Brigham Young University-Provo\"\n",
    "unis2020.loc[(unis2020['INSTNM']==\"The University of the South\") & (unis2020['CITY']=='Sewanee'), 'INSTNM'] = \"Sewanee - The University of the South\"\n",
    "\n",
    "### Labeling \n",
    "\n",
    "# Making sure all institutes are captured in ranking\n"
   ]
  },
  {
   "cell_type": "code",
   "execution_count": null,
   "metadata": {},
   "outputs": [],
   "source": [
    "unis\n",
    "unis.iloc[0].index"
   ]
  },
  {
   "cell_type": "code",
   "execution_count": null,
   "metadata": {},
   "outputs": [],
   "source": [
    "data.head()"
   ]
  },
  {
   "cell_type": "code",
   "execution_count": null,
   "metadata": {},
   "outputs": [],
   "source": [
    "data2020 = pd.read_csv('../data/IPEDS/c2020_a.csv')\n",
    "boolmap2020 = data2020['CIPCODE'].apply(lambda x: x >= 11 and x < 12)\n",
    "cs2020 = data2020[boolmap2020]\n",
    "sums2020 = cs2020.groupby('UNITID').sum()\n",
    "sums2020 = sums2020.reset_index()\n",
    "sums2020.head()"
   ]
  },
  {
   "cell_type": "code",
   "execution_count": null,
   "metadata": {},
   "outputs": [],
   "source": [
    "cs2020"
   ]
  },
  {
   "cell_type": "code",
   "execution_count": null,
   "metadata": {},
   "outputs": [],
   "source": [
    "# CTOTALW = total women\n",
    "# CAIANT = total native\n",
    "# CBKAAT = total black\n",
    "# CHISPT = hispanic total\n",
    "columns = ['UNITID', 'CTOTALW', 'CAIANT', 'CBKAAT', 'CHISPT']\n",
    "filtered = sums2020[columns]\n",
    "#filtered.columns = ['unitid', 'women', 'native', 'black', 'hispanic']\n",
    "merged2020 = pd.merge(filtered, unis2020[['UNITID', 'INSTNM']], on = 'UNITID', how='left')\n",
    "#merged[['un', 'INSTNM', 'women', 'native', 'black', 'hi]\n",
    "merged2020 = merged2020[['UNITID', 'INSTNM', 'CTOTALW', 'CAIANT', 'CBKAAT', 'CHISPT']]\n",
    "merged2020.columns = ['unitid', 'name', 'women', 'native', 'black', 'hispanic']\n",
    "merged2020\n"
   ]
  },
  {
   "cell_type": "code",
   "execution_count": null,
   "metadata": {},
   "outputs": [],
   "source": [
    "plt.hist(merged2020['women'], label = 'women', alpha = 0.5)\n",
    "plt.yscale('log')\n",
    "plt.title('Women')\n",
    "plt.xlabel('Graduates')\n",
    "plt.ylabel('# of Institutions')\n",
    "boolmap_women = merged2020['women']==merged2020['women'].max()\n",
    "women = merged2020[boolmap_women]\n",
    "women['name']\n",
    "plt.hist(merged2020['black'], label = 'black', alpha = 0.5)\n",
    "plt.legend()\n",
    "\n"
   ]
  },
  {
   "cell_type": "code",
   "execution_count": null,
   "metadata": {},
   "outputs": [],
   "source": [
    "# now we make the scatter plot\n",
    "# women and black\n",
    "\n",
    "plt.scatter(merged2020['women'], merged2020['black'])\n",
    "plt.yscale('log')\n",
    "plt.xscale('log')\n",
    "plt.xlabel('women')\n",
    "plt.ylabel('black')"
   ]
  },
  {
   "cell_type": "code",
   "execution_count": null,
   "metadata": {},
   "outputs": [],
   "source": [
    "import seaborn as sns\n",
    "states = pd.merge(merged2020, unis2020[['UNITID', 'STABBR']], left_on= 'unitid', right_on='UNITID', how='left')\n",
    "#plt.scatter(states['women'], states['black'], c=states['STABBR'])\n",
    "sns.scatterplot(data = states, x = 'women', y='black', hue = 'STABBR')\n",
    "plt.yscale('log')\n",
    "plt.xscale('log')\n",
    "plt.xlabel('women')\n",
    "plt.ylabel('black')\n"
   ]
  },
  {
   "cell_type": "code",
   "execution_count": null,
   "metadata": {},
   "outputs": [],
   "source": [
    "# women and hispanic\n",
    "\n",
    "plt.scatter(merged2020['women'], merged2020['hispanic'])\n",
    "plt.yscale('log')\n",
    "plt.xscale('log')\n",
    "plt.xlabel('women')\n",
    "plt.ylabel('hispanic')"
   ]
  },
  {
   "cell_type": "code",
   "execution_count": null,
   "metadata": {},
   "outputs": [],
   "source": [
    "# women and native\n",
    "\n",
    "plt.scatter(merged2020['women'], merged2020['native'])\n",
    "plt.yscale('log')\n",
    "plt.xscale('log')\n",
    "plt.xlabel('women')\n",
    "plt.ylabel('native')"
   ]
  },
  {
   "cell_type": "code",
   "execution_count": null,
   "metadata": {},
   "outputs": [],
   "source": [
    "# black and hispanic\n",
    "\n",
    "plt.scatter(merged2020['black'], merged2020['hispanic'])\n",
    "plt.yscale('log')\n",
    "plt.xscale('log')\n",
    "plt.xlabel('black')\n",
    "plt.ylabel('hispanic')"
   ]
  },
  {
   "cell_type": "code",
   "execution_count": null,
   "metadata": {},
   "outputs": [],
   "source": [
    "# black and native\n",
    "\n",
    "plt.scatter(merged2020['black'], merged2020['native'])\n",
    "plt.yscale('log')\n",
    "plt.xscale('log')\n",
    "plt.xlabel('black')\n",
    "plt.ylabel('native')"
   ]
  },
  {
   "cell_type": "code",
   "execution_count": null,
   "metadata": {},
   "outputs": [],
   "source": [
    "# native and hispanic\n",
    "\n",
    "plt.scatter(merged2020['native'], merged2020['hispanic'])\n",
    "plt.yscale('log')\n",
    "plt.xscale('log')\n",
    "plt.xlabel('native')\n",
    "plt.ylabel('hispanic')"
   ]
  },
  {
   "cell_type": "code",
   "execution_count": null,
   "metadata": {},
   "outputs": [],
   "source": [
    "position = pd.merge(merged2020, unis2020[['UNITID', 'LONGITUD', 'LATITUDE']], left_on='unitid', right_on='UNITID', how='left')\n"
   ]
  },
  {
   "cell_type": "code",
   "execution_count": null,
   "metadata": {},
   "outputs": [],
   "source": [
    "#women\n",
    "from math import log\n",
    "plt.figure(figsize = (10, 5))\n",
    "womenBool = position['women'].apply(lambda x: x > 0)\n",
    "womenPosition = position[womenBool]\n",
    "plt.scatter(womenPosition['LONGITUD'], womenPosition['LATITUDE'], c=womenPosition['women'].apply(log), s=20, alpha = 0.5)\n",
    "plt.ylabel('longitude')\n",
    "plt.xlabel('latitude')\n",
    "plt.xlim(-130, -60)\n",
    "plt.ylim(20, 55)\n",
    "plt.colorbar()\n"
   ]
  },
  {
   "cell_type": "code",
   "execution_count": null,
   "metadata": {},
   "outputs": [],
   "source": [
    "blackPosition.sort_values('black', ascending=False)[:20]"
   ]
  },
  {
   "cell_type": "code",
   "execution_count": null,
   "metadata": {},
   "outputs": [],
   "source": [
    "#black\n",
    "\n",
    "blackBool = position['black'].apply(lambda x: x > 0)\n",
    "blackPosition = position[blackBool]\n",
    "plt.figure(figsize = (10, 5))\n",
    "plt.scatter(blackPosition['LONGITUD'], blackPosition['LATITUDE'], c = blackPosition['black'].apply(log), s = 50, alpha = 0.5)\n",
    "plt.xlabel('longitude')\n",
    "plt.ylabel('latitude')\n",
    "plt.xlim(-130, -60)\n",
    "plt.ylim(20, 55)\n",
    "plt.colorbar()"
   ]
  },
  {
   "cell_type": "code",
   "execution_count": null,
   "metadata": {},
   "outputs": [],
   "source": [
    "#hispanic\n",
    "\n",
    "hispanicBool = position['hispanic'].apply(lambda x: x > 0)\n",
    "hispanicPosition = position[hispanicBool]\n",
    "plt.figure(figsize = (10, 5))\n",
    "plt.scatter(hispanicPosition['LONGITUD'], hispanicPosition['LATITUDE'], c = hispanicPosition['hispanic'].apply(log), s = 50, alpha = 0.5)\n",
    "plt.xlabel('longitude')\n",
    "plt.ylabel('latitude')\n",
    "plt.xlim(-130, -60)\n",
    "plt.ylim(20, 55)\n",
    "plt.colorbar()"
   ]
  },
  {
   "cell_type": "code",
   "execution_count": null,
   "metadata": {},
   "outputs": [],
   "source": [
    "#native\n",
    "\n",
    "nativeBool = position['native'].apply(lambda x: x > 0)\n",
    "nativePosition = position[nativeBool]\n",
    "plt.figure(figsize = (10, 5))\n",
    "plt.scatter(nativePosition['LONGITUD'], nativePosition['LATITUDE'], c = nativePosition['native'].apply(log), s = 50, alpha = 0.5)\n",
    "plt.xlabel('longitude')\n",
    "plt.ylabel('latitude')\n",
    "plt.xlim(-130, -60)\n",
    "plt.ylim(20, 55)\n",
    "plt.colorbar()"
   ]
  },
  {
   "cell_type": "code",
   "execution_count": null,
   "metadata": {},
   "outputs": [],
   "source": [
    "final.head()"
   ]
  },
  {
   "cell_type": "code",
   "execution_count": null,
   "metadata": {},
   "outputs": [],
   "source": [
    "final = pd.merge(merged2020, sums2020[['UNITID', 'CTOTALT']], left_on='unitid', right_on='UNITID')\n",
    "#rawPercentages = final[['women', 'black', 'hispanic', 'native', 'CTOTALT']]\n",
    "#rawPercentages.columns = ['women', 'black', 'hispanic', 'native', 'total']\n",
    "final_clean = final.drop('UNITID', axis=1)\n",
    "# grobj = oneUnitId.groupby(['unitid', 'name'])\n",
    "final_indexed = final_clean.set_index(['unitid', 'name'])\n",
    "percentages = final_indexed.apply(lambda x: x / x['CTOTALT'], axis=1)\n",
    "# percentages = grobj.apply(lambda x: x / grobj['CTOTALT'])\n",
    "#percentages = final[['women', 'black', 'hispanic', 'native']].apply(lambda x: x / rawPercentages['total'])\n",
    "#final = final['unitid']\n",
    "#percentages.head()\n"
   ]
  },
  {
   "cell_type": "code",
   "execution_count": null,
   "metadata": {},
   "outputs": [],
   "source": [
    "percentages.reset_index()"
   ]
  },
  {
   "cell_type": "code",
   "execution_count": null,
   "metadata": {},
   "outputs": [],
   "source": [
    "percentages.head()"
   ]
  },
  {
   "cell_type": "code",
   "execution_count": null,
   "metadata": {},
   "outputs": [],
   "source": []
  },
  {
   "cell_type": "code",
   "execution_count": null,
   "metadata": {},
   "outputs": [],
   "source": [
    "import seaborn as sns\n",
    "states = pd.merge(percentages, unis2020[['UNITID', 'STABBR']], left_on= 'unitid', right_on='UNITID', how='left')\n",
    "#plt.scatter(states['women'], states['black'], c=states['STABBR'])\n",
    "sns.scatterplot(data = states, x = 'women', y='black', hue = 'STABBR')\n",
    "plt.yscale('log')\n",
    "plt.xscale('log')\n",
    "plt.xlabel('women')\n",
    "plt.ylabel('black')\n"
   ]
  },
  {
   "cell_type": "code",
   "execution_count": null,
   "metadata": {},
   "outputs": [],
   "source": [
    "\n",
    "sns.scatterplot(data = states, x = 'women', y='hispanic', hue = 'STABBR')\n",
    "plt.yscale('log')\n",
    "plt.xscale('log')\n",
    "plt.xlabel('women')\n",
    "plt.ylabel('hispanic')\n"
   ]
  },
  {
   "cell_type": "code",
   "execution_count": null,
   "metadata": {},
   "outputs": [],
   "source": [
    "\n",
    "sns.scatterplot(data = states, x = 'women', y='native', hue = 'STABBR')\n",
    "plt.yscale('log')\n",
    "plt.xscale('log')\n",
    "plt.xlabel('women')\n",
    "plt.ylabel('native')\n"
   ]
  },
  {
   "cell_type": "code",
   "execution_count": null,
   "metadata": {},
   "outputs": [],
   "source": [
    "\n",
    "sns.scatterplot(data = states, x = 'hispanic', y='black', hue = 'STABBR')\n",
    "plt.yscale('log')\n",
    "plt.xscale('log')\n",
    "plt.xlabel('hispanic')\n",
    "plt.ylabel('black')\n"
   ]
  },
  {
   "cell_type": "code",
   "execution_count": null,
   "metadata": {},
   "outputs": [],
   "source": [
    "\n",
    "sns.scatterplot(data = states, x = 'native', y='black', hue = 'STABBR')\n",
    "plt.yscale('log')\n",
    "plt.xscale('log')\n",
    "plt.xlabel('native')\n",
    "plt.ylabel('black')\n"
   ]
  },
  {
   "cell_type": "code",
   "execution_count": null,
   "metadata": {},
   "outputs": [],
   "source": [
    "\n",
    "sns.scatterplot(data = states, x = 'native', y='hispanic', hue = 'STABBR')\n",
    "plt.yscale('log')\n",
    "plt.xscale('log')\n",
    "plt.xlabel('native')\n",
    "plt.ylabel('hispanic')\n"
   ]
  },
  {
   "cell_type": "code",
   "execution_count": null,
   "metadata": {},
   "outputs": [],
   "source": [
    "percentagesPosition = pd.merge(percentages, unis2020[['UNITID', 'LONGITUD', 'LATITUDE']], left_on='unitid', right_on='UNITID', how='left')"
   ]
  },
  {
   "cell_type": "code",
   "execution_count": null,
   "metadata": {},
   "outputs": [],
   "source": [
    "#women\n",
    "from math import log\n",
    "plt.figure(figsize = (10, 5))\n",
    "womenBool = percentagesPosition['women'].apply(lambda x: x > 0)\n",
    "womenPercentPosition = percentagesPosition[womenBool]\n",
    "plt.scatter(womenPercentPosition['LONGITUD'], womenPercentPosition['LATITUDE'], c=womenPercentPosition['women'].apply(log), s=20, alpha = 0.5)\n",
    "plt.ylabel('longitude')\n",
    "plt.xlabel('latitude')\n",
    "plt.xlim(-130, -60)\n",
    "plt.ylim(20, 55)\n",
    "plt.colorbar()"
   ]
  },
  {
   "cell_type": "code",
   "execution_count": null,
   "metadata": {},
   "outputs": [],
   "source": [
    "#black\n",
    "from math import log\n",
    "plt.figure(figsize = (10, 5))\n",
    "blackBool = percentagesPosition['black'].apply(lambda x: x > 0)\n",
    "blackPercentPosition = percentagesPosition[blackBool]\n",
    "plt.scatter(blackPercentPosition['LONGITUD'], blackPercentPosition['LATITUDE'], c=blackPercentPosition['black'].apply(log), s=20, alpha = 0.5)\n",
    "plt.ylabel('longitude')\n",
    "plt.xlabel('latitude')\n",
    "plt.xlim(-130, -60)\n",
    "plt.ylim(20, 55)\n",
    "plt.colorbar()"
   ]
  },
  {
   "cell_type": "code",
   "execution_count": null,
   "metadata": {},
   "outputs": [],
   "source": [
    "#hispanic\n",
    "from math import log\n",
    "plt.figure(figsize = (10, 5))\n",
    "hispanicBool = percentagesPosition['hispanic'].apply(lambda x: x > 0)\n",
    "hispanicPercentPosition = percentagesPosition[hispanicBool]\n",
    "plt.scatter(hispanicPercentPosition['LONGITUD'], hispanicPercentPosition['LATITUDE'], c=hispanicPercentPosition['hispanic'].apply(log), s=20, alpha = 0.5)\n",
    "plt.ylabel('longitude')\n",
    "plt.xlabel('latitude')\n",
    "plt.xlim(-130, -60)\n",
    "plt.ylim(20, 55)\n",
    "plt.colorbar()"
   ]
  },
  {
   "cell_type": "code",
   "execution_count": null,
   "metadata": {},
   "outputs": [],
   "source": [
    "#native\n",
    "from math import log\n",
    "plt.figure(figsize = (10, 5))\n",
    "nativeBool = percentagesPosition['native'].apply(lambda x: x > 0)\n",
    "nativePercentPosition = percentagesPosition[nativeBool]\n",
    "plt.scatter(nativePercentPosition['LONGITUD'], nativePercentPosition['LATITUDE'], c=nativePercentPosition['native'].apply(log), s=20, alpha = 0.5)\n",
    "plt.ylabel('longitude')\n",
    "plt.xlabel('latitude')\n",
    "plt.xlim(-130, -60)\n",
    "plt.ylim(20, 55)\n",
    "plt.colorbar()"
   ]
  },
  {
   "cell_type": "code",
   "execution_count": null,
   "metadata": {},
   "outputs": [],
   "source": [
    "#Reading meta-data files\n",
    "unis2015 = pd.read_csv('../data/IPEDS/hd2015.csv',encoding='cp1252')\n",
    "\n",
    "\n",
    "## Preprocessing meta-data files\n",
    "### Updating names to match in rankings  \n",
    "unis2015.loc[unis2015['IALIAS']=='Virginia Tech', 'INSTNM'] = 'Virginia Tech'\n",
    "unis2015.loc[unis2015['INSTNM']=='University of Illinois Urbana-Champaign', 'INSTNM'] = 'University of Illinois at Urbana-Champaign'\n",
    "unis2015.loc[(unis2015['INSTNM']==\"St. John's College\") & (unis2020['STABBR']=='MD'), 'INSTNM'] = \"St. John's College - MD\"\n",
    "unis2015.loc[(unis2015['INSTNM']==\"St. John's College\") & (unis2020['STABBR']=='NM'), 'INSTNM'] = \"St. John's College - NM\"\n",
    "unis2015.loc[unis2015['INSTNM']==\"William & Mary\", 'INSTNM'] = \"College of William and Mary\"\n",
    "unis2015.loc[(unis2015['INSTNM']==\"Brigham Young University\") & (unis2020['CITY']=='Provo'), 'INSTNM'] = \"Brigham Young University-Provo\"\n",
    "unis2015.loc[(unis2015['INSTNM']==\"The University of the South\") & (unis2020['CITY']=='Sewanee'), 'INSTNM'] = \"Sewanee - The University of the South\"\n",
    "\n",
    "### Labeling \n",
    "\n",
    "# Making sure all institutes are captured in ranking"
   ]
  },
  {
   "cell_type": "code",
   "execution_count": null,
   "metadata": {},
   "outputs": [],
   "source": [
    "data2015 = pd.read_csv('../data/IPEDS/c2015_a.csv')\n",
    "boolmap2015 = data2015['CIPCODE'].apply(lambda x: x >= 11 and x < 12)\n",
    "cs2015 = data2015[boolmap2015]\n",
    "sums2015 = cs2015.groupby('UNITID').sum()\n",
    "sums2015 = sums2015.reset_index()\n",
    "sums2015.head()"
   ]
  },
  {
   "cell_type": "code",
   "execution_count": null,
   "metadata": {},
   "outputs": [],
   "source": [
    "\n",
    "filtered2015 = sums2015[columns]\n",
    "#filtered.columns = ['unitid', 'women', 'native', 'black', 'hispanic']\n",
    "merged2015 = pd.merge(filtered2015, unis2015[['UNITID', 'INSTNM']], on = 'UNITID', how='left')\n",
    "#merged[['un', 'INSTNM', 'women', 'native', 'black', 'hi]\n",
    "merged2015 = merged2015[['UNITID', 'INSTNM', 'CTOTALW', 'CAIANT', 'CBKAAT', 'CHISPT']]\n",
    "merged2015.columns = ['unitid', 'name', 'women', 'native', 'black', 'hispanic']\n",
    "merged2015"
   ]
  },
  {
   "cell_type": "code",
   "execution_count": null,
   "metadata": {},
   "outputs": [],
   "source": [
    "final2015 = pd.merge(merged2015, sums2015[['UNITID', 'CTOTALT']], left_on='unitid', right_on='UNITID')\n",
    "#rawPercentages = final[['women', 'black', 'hispanic', 'native', 'CTOTALT']]\n",
    "#rawPercentages.columns = ['women', 'black', 'hispanic', 'native', 'total']\n",
    "final_clean2015 = final2015.drop('UNITID', axis=1)\n",
    "# grobj = oneUnitId.groupby(['unitid', 'name'])\n",
    "final_indexed2015 = final_clean2015.set_index(['unitid', 'name'])\n",
    "percentages2015 = final_indexed2015.apply(lambda x: x / x['CTOTALT'], axis=1)"
   ]
  },
  {
   "cell_type": "code",
   "execution_count": null,
   "metadata": {},
   "outputs": [],
   "source": [
    "percentages2015.head()"
   ]
  },
  {
   "cell_type": "code",
   "execution_count": null,
   "metadata": {},
   "outputs": [],
   "source": [
    "#Reading meta-data files\n",
    "unis2016 = pd.read_csv('../data/IPEDS/hd2016.csv',encoding='cp1252')\n",
    "\n",
    "\n",
    "## Preprocessing meta-data files\n",
    "### Updating names to match in rankings  \n",
    "unis2016.loc[unis2016['IALIAS']=='Virginia Tech', 'INSTNM'] = 'Virginia Tech'\n",
    "unis2016.loc[unis2016['INSTNM']=='University of Illinois Urbana-Champaign', 'INSTNM'] = 'University of Illinois at Urbana-Champaign'\n",
    "unis2016.loc[(unis2016['INSTNM']==\"St. John's College\") & (unis2020['STABBR']=='MD'), 'INSTNM'] = \"St. John's College - MD\"\n",
    "unis2016.loc[(unis2016['INSTNM']==\"St. John's College\") & (unis2020['STABBR']=='NM'), 'INSTNM'] = \"St. John's College - NM\"\n",
    "unis2016.loc[unis2016['INSTNM']==\"William & Mary\", 'INSTNM'] = \"College of William and Mary\"\n",
    "unis2016.loc[(unis2016['INSTNM']==\"Brigham Young University\") & (unis2020['CITY']=='Provo'), 'INSTNM'] = \"Brigham Young University-Provo\"\n",
    "unis2016.loc[(unis2016['INSTNM']==\"The University of the South\") & (unis2020['CITY']=='Sewanee'), 'INSTNM'] = \"Sewanee - The University of the South\""
   ]
  },
  {
   "cell_type": "code",
   "execution_count": null,
   "metadata": {},
   "outputs": [],
   "source": [
    "data2016 = pd.read_csv('../data/IPEDS/c2016_a.csv')\n",
    "boolmap2016 = data2016['CIPCODE'].apply(lambda x: x >= 11 and x < 12)\n",
    "cs2016 = data2016[boolmap2016]\n",
    "sums2016 = cs2016.groupby('UNITID').sum()\n",
    "sums2016 = sums2016.reset_index()\n",
    "sums2016.head()"
   ]
  },
  {
   "cell_type": "code",
   "execution_count": null,
   "metadata": {},
   "outputs": [],
   "source": [
    "\n",
    "filtered2016 = sums2016[columns]\n",
    "#filtered.columns = ['unitid', 'women', 'native', 'black', 'hispanic']\n",
    "merged2016 = pd.merge(filtered2016, unis2016[['UNITID', 'INSTNM']], on = 'UNITID', how='left')\n",
    "#merged[['un', 'INSTNM', 'women', 'native', 'black', 'hi]\n",
    "merged2016 = merged2016[['UNITID', 'INSTNM', 'CTOTALW', 'CAIANT', 'CBKAAT', 'CHISPT']]\n",
    "merged2016.columns = ['unitid', 'name', 'women', 'native', 'black', 'hispanic']\n",
    "merged2016"
   ]
  },
  {
   "cell_type": "code",
   "execution_count": null,
   "metadata": {},
   "outputs": [],
   "source": [
    "final2016 = pd.merge(merged2016, sums2016[['UNITID', 'CTOTALT']], left_on='unitid', right_on='UNITID')\n",
    "#rawPercentages = final[['women', 'black', 'hispanic', 'native', 'CTOTALT']]\n",
    "#rawPercentages.columns = ['women', 'black', 'hispanic', 'native', 'total']\n",
    "final_clean2016 = final2016.drop('UNITID', axis=1)\n",
    "# grobj = oneUnitId.groupby(['unitid', 'name'])\n",
    "final_indexed2016 = final_clean2016.set_index(['unitid', 'name'])\n",
    "percentages2016 = final_indexed2016.apply(lambda x: x / x['CTOTALT'], axis=1)"
   ]
  },
  {
   "cell_type": "code",
   "execution_count": null,
   "metadata": {},
   "outputs": [],
   "source": [
    "percentages2016.head()"
   ]
  },
  {
   "cell_type": "code",
   "execution_count": null,
   "metadata": {},
   "outputs": [],
   "source": [
    "#Reading meta-data files\n",
    "unis2017 = pd.read_csv('../data/IPEDS/hd2017.csv',encoding='cp1252')\n",
    "\n",
    "\n",
    "## Preprocessing meta-data files\n",
    "### Updating names to match in rankings  \n",
    "unis2017.loc[unis2017['IALIAS']=='Virginia Tech', 'INSTNM'] = 'Virginia Tech'\n",
    "unis2017.loc[unis2017['INSTNM']=='University of Illinois Urbana-Champaign', 'INSTNM'] = 'University of Illinois at Urbana-Champaign'\n",
    "unis2017.loc[(unis2017['INSTNM']==\"St. John's College\") & (unis2020['STABBR']=='MD'), 'INSTNM'] = \"St. John's College - MD\"\n",
    "unis2017.loc[(unis2017['INSTNM']==\"St. John's College\") & (unis2020['STABBR']=='NM'), 'INSTNM'] = \"St. John's College - NM\"\n",
    "unis2017.loc[unis2017['INSTNM']==\"William & Mary\", 'INSTNM'] = \"College of William and Mary\"\n",
    "unis2017.loc[(unis2017['INSTNM']==\"Brigham Young University\") & (unis2020['CITY']=='Provo'), 'INSTNM'] = \"Brigham Young University-Provo\"\n",
    "unis2017.loc[(unis2017['INSTNM']==\"The University of the South\") & (unis2020['CITY']=='Sewanee'), 'INSTNM'] = \"Sewanee - The University of the South\""
   ]
  },
  {
   "cell_type": "code",
   "execution_count": null,
   "metadata": {},
   "outputs": [],
   "source": [
    "data2017 = pd.read_csv('../data/IPEDS/c2017_a.csv')\n",
    "boolmap2017 = data2017['CIPCODE'].apply(lambda x: x >= 11 and x < 12)\n",
    "cs2017 = data2017[boolmap2017]\n",
    "sums2017 = cs2017.groupby('UNITID').sum()\n",
    "sums2017 = sums2017.reset_index()\n",
    "sums2017.head()"
   ]
  },
  {
   "cell_type": "code",
   "execution_count": null,
   "metadata": {},
   "outputs": [],
   "source": [
    "\n",
    "filtered2017 = sums2017[columns]\n",
    "#filtered.columns = ['unitid', 'women', 'native', 'black', 'hispanic']\n",
    "merged2017 = pd.merge(filtered2017, unis2017[['UNITID', 'INSTNM']], on = 'UNITID', how='left')\n",
    "#merged[['un', 'INSTNM', 'women', 'native', 'black', 'hi]\n",
    "merged2017 = merged2017[['UNITID', 'INSTNM', 'CTOTALW', 'CAIANT', 'CBKAAT', 'CHISPT']]\n",
    "merged2017.columns = ['unitid', 'name', 'women', 'native', 'black', 'hispanic']\n",
    "merged2017"
   ]
  },
  {
   "cell_type": "code",
   "execution_count": null,
   "metadata": {},
   "outputs": [],
   "source": [
    "final2017 = pd.merge(merged2017, sums2017[['UNITID', 'CTOTALT']], left_on='unitid', right_on='UNITID')\n",
    "#rawPercentages = final[['women', 'black', 'hispanic', 'native', 'CTOTALT']]\n",
    "#rawPercentages.columns = ['women', 'black', 'hispanic', 'native', 'total']\n",
    "final_clean2017 = final2017.drop('UNITID', axis=1)\n",
    "# grobj = oneUnitId.groupby(['unitid', 'name'])\n",
    "final_indexed2017 = final_clean2017.set_index(['unitid', 'name'])\n",
    "percentages2017 = final_indexed2017.apply(lambda x: x / x['CTOTALT'], axis=1)"
   ]
  },
  {
   "cell_type": "code",
   "execution_count": null,
   "metadata": {},
   "outputs": [],
   "source": [
    "percentages2017.head()"
   ]
  },
  {
   "cell_type": "code",
   "execution_count": null,
   "metadata": {},
   "outputs": [],
   "source": [
    "#Reading meta-data files\n",
    "unis2018 = pd.read_csv('../data/IPEDS/hd2018.csv',encoding='cp1252')\n",
    "\n",
    "\n",
    "## Preprocessing meta-data files\n",
    "### Updating names to match in rankings  \n",
    "unis2018.loc[unis2018['IALIAS']=='Virginia Tech', 'INSTNM'] = 'Virginia Tech'\n",
    "unis2018.loc[unis2018['INSTNM']=='University of Illinois Urbana-Champaign', 'INSTNM'] = 'University of Illinois at Urbana-Champaign'\n",
    "unis2018.loc[(unis2018['INSTNM']==\"St. John's College\") & (unis2020['STABBR']=='MD'), 'INSTNM'] = \"St. John's College - MD\"\n",
    "unis2018.loc[(unis2018['INSTNM']==\"St. John's College\") & (unis2020['STABBR']=='NM'), 'INSTNM'] = \"St. John's College - NM\"\n",
    "unis2018.loc[unis2018['INSTNM']==\"William & Mary\", 'INSTNM'] = \"College of William and Mary\"\n",
    "unis2018.loc[(unis2018['INSTNM']==\"Brigham Young University\") & (unis2020['CITY']=='Provo'), 'INSTNM'] = \"Brigham Young University-Provo\"\n",
    "unis2018.loc[(unis2018['INSTNM']==\"The University of the South\") & (unis2020['CITY']=='Sewanee'), 'INSTNM'] = \"Sewanee - The University of the South\""
   ]
  },
  {
   "cell_type": "code",
   "execution_count": null,
   "metadata": {},
   "outputs": [],
   "source": [
    "data2018 = pd.read_csv('../data/IPEDS/c2018_a.csv')\n",
    "boolmap2018 = data2018['CIPCODE'].apply(lambda x: x >= 11 and x < 12)\n",
    "cs2018 = data2018[boolmap2018]\n",
    "sums2018 = cs2018.groupby('UNITID').sum()\n",
    "sums2018 = sums2018.reset_index()\n",
    "sums2018.head()"
   ]
  },
  {
   "cell_type": "code",
   "execution_count": null,
   "metadata": {},
   "outputs": [],
   "source": [
    "\n",
    "filtered2018 = sums2018[columns]\n",
    "#filtered.columns = ['unitid', 'women', 'native', 'black', 'hispanic']\n",
    "merged2018 = pd.merge(filtered2018, unis2018[['UNITID', 'INSTNM']], on = 'UNITID', how='left')\n",
    "#merged[['un', 'INSTNM', 'women', 'native', 'black', 'hi]\n",
    "merged2018 = merged2018[['UNITID', 'INSTNM', 'CTOTALW', 'CAIANT', 'CBKAAT', 'CHISPT']]\n",
    "merged2018.columns = ['unitid', 'name', 'women', 'native', 'black', 'hispanic']\n",
    "merged2018"
   ]
  },
  {
   "cell_type": "code",
   "execution_count": null,
   "metadata": {},
   "outputs": [],
   "source": [
    "final2018 = pd.merge(merged2018, sums2018[['UNITID', 'CTOTALT']], left_on='unitid', right_on='UNITID')\n",
    "#rawPercentages = final[['women', 'black', 'hispanic', 'native', 'CTOTALT']]\n",
    "#rawPercentages.columns = ['women', 'black', 'hispanic', 'native', 'total']\n",
    "final_clean2018 = final2018.drop('UNITID', axis=1)\n",
    "# grobj = oneUnitId.groupby(['unitid', 'name'])\n",
    "final_indexed2018 = final_clean2018.set_index(['unitid', 'name'])\n",
    "percentages2018 = final_indexed2018.apply(lambda x: x / x['CTOTALT'], axis=1)"
   ]
  },
  {
   "cell_type": "code",
   "execution_count": null,
   "metadata": {},
   "outputs": [],
   "source": [
    "percentages2018.head()"
   ]
  },
  {
   "cell_type": "code",
   "execution_count": null,
   "metadata": {},
   "outputs": [],
   "source": [
    "#Reading meta-data files\n",
    "unis2019 = pd.read_csv('../data/IPEDS/hd2019.csv',encoding='cp1252')\n",
    "\n",
    "\n",
    "## Preprocessing meta-data files\n",
    "### Updating names to match in rankings  \n",
    "unis2019.loc[unis2019['IALIAS']=='Virginia Tech', 'INSTNM'] = 'Virginia Tech'\n",
    "unis2019.loc[unis2019['INSTNM']=='University of Illinois Urbana-Champaign', 'INSTNM'] = 'University of Illinois at Urbana-Champaign'\n",
    "unis2019.loc[(unis2019['INSTNM']==\"St. John's College\") & (unis2020['STABBR']=='MD'), 'INSTNM'] = \"St. John's College - MD\"\n",
    "unis2019.loc[(unis2019['INSTNM']==\"St. John's College\") & (unis2020['STABBR']=='NM'), 'INSTNM'] = \"St. John's College - NM\"\n",
    "unis2019.loc[unis2019['INSTNM']==\"William & Mary\", 'INSTNM'] = \"College of William and Mary\"\n",
    "unis2019.loc[(unis2019['INSTNM']==\"Brigham Young University\") & (unis2020['CITY']=='Provo'), 'INSTNM'] = \"Brigham Young University-Provo\"\n",
    "unis2019.loc[(unis2019['INSTNM']==\"The University of the South\") & (unis2020['CITY']=='Sewanee'), 'INSTNM'] = \"Sewanee - The University of the South\""
   ]
  },
  {
   "cell_type": "code",
   "execution_count": null,
   "metadata": {},
   "outputs": [],
   "source": [
    "data2019 = pd.read_csv('../data/IPEDS/c2019_a.csv')\n",
    "boolmap2019 = data2019['CIPCODE'].apply(lambda x: x >= 11 and x < 12)\n",
    "cs2019 = data2019[boolmap2019]\n",
    "sums2019 = cs2019.groupby('UNITID').sum()\n",
    "sums2019 = sums2019.reset_index()\n",
    "sums2019.head()"
   ]
  },
  {
   "cell_type": "code",
   "execution_count": null,
   "metadata": {},
   "outputs": [],
   "source": [
    "\n",
    "filtered2019 = sums2019[columns]\n",
    "#filtered.columns = ['unitid', 'women', 'native', 'black', 'hispanic']\n",
    "merged2019 = pd.merge(filtered2019, unis2019[['UNITID', 'INSTNM']], on = 'UNITID', how='left')\n",
    "#merged[['un', 'INSTNM', 'women', 'native', 'black', 'hi]\n",
    "merged2019 = merged2019[['UNITID', 'INSTNM', 'CTOTALW', 'CAIANT', 'CBKAAT', 'CHISPT']]\n",
    "merged2019.columns = ['unitid', 'name', 'women', 'native', 'black', 'hispanic']\n",
    "merged2019"
   ]
  },
  {
   "cell_type": "code",
   "execution_count": null,
   "metadata": {},
   "outputs": [],
   "source": [
    "final2019 = pd.merge(merged2019, sums2019[['UNITID', 'CTOTALT']], left_on='unitid', right_on='UNITID')\n",
    "#rawPercentages = final[['women', 'black', 'hispanic', 'native', 'CTOTALT']]\n",
    "#rawPercentages.columns = ['women', 'black', 'hispanic', 'native', 'total']\n",
    "final_clean2019 = final2019.drop('UNITID', axis=1)\n",
    "# grobj = oneUnitId.groupby(['unitid', 'name'])\n",
    "final_indexed2019 = final_clean2019.set_index(['unitid', 'name'])\n",
    "percentages2019 = final_indexed2019.apply(lambda x: x / x['CTOTALT'], axis=1)"
   ]
  },
  {
   "cell_type": "code",
   "execution_count": null,
   "metadata": {},
   "outputs": [],
   "source": [
    "percentages2019.head()"
   ]
  },
  {
   "cell_type": "code",
   "execution_count": null,
   "metadata": {},
   "outputs": [],
   "source": [
    "import seaborn as sns\n",
    "states2015 = pd.merge(percentages2015, unis2015[['UNITID', 'STABBR']], left_on= 'unitid', right_on='UNITID', how='left')\n",
    "#plt.scatter(states['women'], states['black'], c=states['STABBR'])\n",
    "sns.scatterplot(data = states2015, x = 'women', y='black', hue = 'STABBR')\n",
    "plt.yscale('log')\n",
    "plt.xscale('log')\n",
    "plt.xlabel('women')\n",
    "plt.ylabel('black')"
   ]
  },
  {
   "cell_type": "code",
   "execution_count": null,
   "metadata": {},
   "outputs": [],
   "source": [
    "import seaborn as sns\n",
    "states2015 = pd.merge(percentages2015, unis2015[['UNITID', 'STABBR']], left_on= 'unitid', right_on='UNITID', how='left')\n",
    "#plt.scatter(states['women'], states['black'], c=states['STABBR'])\n",
    "sns.scatterplot(data = states2015, x = 'women', y='hispanic', hue = 'STABBR')\n",
    "plt.yscale('log')\n",
    "plt.xscale('log')\n",
    "plt.xlabel('women')\n",
    "plt.ylabel('hispanic')"
   ]
  },
  {
   "cell_type": "code",
   "execution_count": null,
   "metadata": {},
   "outputs": [],
   "source": [
    "import seaborn as sns\n",
    "states2015 = pd.merge(percentages2015, unis2015[['UNITID', 'STABBR']], left_on= 'unitid', right_on='UNITID', how='left')\n",
    "#plt.scatter(states['women'], states['black'], c=states['STABBR'])\n",
    "sns.scatterplot(data = states2015, x = 'women', y='native', hue = 'STABBR')\n",
    "plt.yscale('log')\n",
    "plt.xscale('log')\n",
    "plt.xlabel('women')\n",
    "plt.ylabel('native')"
   ]
  },
  {
   "cell_type": "code",
   "execution_count": null,
   "metadata": {},
   "outputs": [],
   "source": [
    "import seaborn as sns\n",
    "states2015 = pd.merge(percentages2015, unis2015[['UNITID', 'STABBR']], left_on= 'unitid', right_on='UNITID', how='left')\n",
    "#plt.scatter(states['women'], states['black'], c=states['STABBR'])\n",
    "sns.scatterplot(data = states2015, x = 'hispanic', y='black', hue = 'STABBR')\n",
    "plt.yscale('log')\n",
    "plt.xscale('log')\n",
    "plt.xlabel('hispanic')\n",
    "plt.ylabel('black')"
   ]
  },
  {
   "cell_type": "code",
   "execution_count": null,
   "metadata": {},
   "outputs": [],
   "source": [
    "import seaborn as sns\n",
    "states2015 = pd.merge(percentages2015, unis2015[['UNITID', 'STABBR']], left_on= 'unitid', right_on='UNITID', how='left')\n",
    "#plt.scatter(states['women'], states['black'], c=states['STABBR'])\n",
    "sns.scatterplot(data = states2015, x = 'native', y='black', hue = 'STABBR')\n",
    "plt.yscale('log')\n",
    "plt.xscale('log')\n",
    "plt.xlabel('native')\n",
    "plt.ylabel('black')"
   ]
  },
  {
   "cell_type": "code",
   "execution_count": null,
   "metadata": {},
   "outputs": [],
   "source": [
    "import seaborn as sns\n",
    "states2015 = pd.merge(percentages2015, unis2015[['UNITID', 'STABBR']], left_on= 'unitid', right_on='UNITID', how='left')\n",
    "#plt.scatter(states['women'], states['black'], c=states['STABBR'])\n",
    "sns.scatterplot(data = states2015, x = 'hispanic', y='native', hue = 'STABBR')\n",
    "plt.yscale('log')\n",
    "plt.xscale('log')\n",
    "plt.xlabel('hispanic')\n",
    "plt.ylabel('native')"
   ]
  },
  {
   "cell_type": "code",
   "execution_count": null,
   "metadata": {},
   "outputs": [],
   "source": [
    "import seaborn as sns\n",
    "states2016 = pd.merge(percentages2016, unis2016[['UNITID', 'STABBR']], left_on= 'unitid', right_on='UNITID', how='left')\n",
    "#plt.scatter(states['women'], states['black'], c=states['STABBR'])\n",
    "sns.scatterplot(data = states2016, x = 'women', y='black', hue = 'STABBR')\n",
    "plt.yscale('log')\n",
    "plt.xscale('log')\n",
    "plt.xlabel('women')\n",
    "plt.ylabel('black')"
   ]
  },
  {
   "cell_type": "code",
   "execution_count": null,
   "metadata": {},
   "outputs": [],
   "source": [
    "import seaborn as sns\n",
    "states2016 = pd.merge(percentages2016, unis2016[['UNITID', 'STABBR']], left_on= 'unitid', right_on='UNITID', how='left')\n",
    "#plt.scatter(states['women'], states['black'], c=states['STABBR'])\n",
    "sns.scatterplot(data = states2016, x = 'women', y='hispanic', hue = 'STABBR')\n",
    "plt.yscale('log')\n",
    "plt.xscale('log')\n",
    "plt.xlabel('women')\n",
    "plt.ylabel('hispanic')"
   ]
  },
  {
   "cell_type": "code",
   "execution_count": null,
   "metadata": {},
   "outputs": [],
   "source": [
    "import seaborn as sns\n",
    "states2016 = pd.merge(percentages2016, unis2016[['UNITID', 'STABBR']], left_on= 'unitid', right_on='UNITID', how='left')\n",
    "#plt.scatter(states['women'], states['black'], c=states['STABBR'])\n",
    "sns.scatterplot(data = states2016, x = 'women', y='native', hue = 'STABBR')\n",
    "plt.yscale('log')\n",
    "plt.xscale('log')\n",
    "plt.xlabel('women')\n",
    "plt.ylabel('native')"
   ]
  },
  {
   "cell_type": "code",
   "execution_count": null,
   "metadata": {},
   "outputs": [],
   "source": [
    "import seaborn as sns\n",
    "states2016 = pd.merge(percentages2016, unis2016[['UNITID', 'STABBR']], left_on= 'unitid', right_on='UNITID', how='left')\n",
    "#plt.scatter(states['women'], states['black'], c=states['STABBR'])\n",
    "sns.scatterplot(data = states2016, x = 'hispanic', y='black', hue = 'STABBR')\n",
    "plt.yscale('log')\n",
    "plt.xscale('log')\n",
    "plt.xlabel('hispanic')\n",
    "plt.ylabel('black')"
   ]
  },
  {
   "cell_type": "code",
   "execution_count": null,
   "metadata": {},
   "outputs": [],
   "source": [
    "import seaborn as sns\n",
    "states2016 = pd.merge(percentages2016, unis2016[['UNITID', 'STABBR']], left_on= 'unitid', right_on='UNITID', how='left')\n",
    "#plt.scatter(states['women'], states['black'], c=states['STABBR'])\n",
    "sns.scatterplot(data = states2016, x = 'native', y='black', hue = 'STABBR')\n",
    "plt.yscale('log')\n",
    "plt.xscale('log')\n",
    "plt.xlabel('native')\n",
    "plt.ylabel('black')"
   ]
  },
  {
   "cell_type": "code",
   "execution_count": null,
   "metadata": {},
   "outputs": [],
   "source": [
    "import seaborn as sns\n",
    "states2016 = pd.merge(percentages2016, unis2016[['UNITID', 'STABBR']], left_on= 'unitid', right_on='UNITID', how='left')\n",
    "#plt.scatter(states['women'], states['black'], c=states['STABBR'])\n",
    "sns.scatterplot(data = states2016, x = 'native', y='hispanic', hue = 'STABBR')\n",
    "plt.yscale('log')\n",
    "plt.xscale('log')\n",
    "plt.xlabel('native')\n",
    "plt.ylabel('hispanic')"
   ]
  },
  {
   "cell_type": "code",
   "execution_count": null,
   "metadata": {},
   "outputs": [],
   "source": [
    "import seaborn as sns\n",
    "states2017 = pd.merge(percentages2017, unis2017[['UNITID', 'STABBR']], left_on= 'unitid', right_on='UNITID', how='left')\n",
    "#plt.scatter(states['women'], states['black'], c=states['STABBR'])\n",
    "sns.scatterplot(data = states2017, x = 'women', y='black', hue = 'STABBR')\n",
    "plt.yscale('log')\n",
    "plt.xscale('log')\n",
    "plt.xlabel('women')\n",
    "plt.ylabel('black')"
   ]
  },
  {
   "cell_type": "code",
   "execution_count": null,
   "metadata": {},
   "outputs": [],
   "source": [
    "import seaborn as sns\n",
    "states2017 = pd.merge(percentages2017, unis2017[['UNITID', 'STABBR']], left_on= 'unitid', right_on='UNITID', how='left')\n",
    "#plt.scatter(states['women'], states['black'], c=states['STABBR'])\n",
    "sns.scatterplot(data = states2017, x = 'women', y='hispanic', hue = 'STABBR')\n",
    "plt.yscale('log')\n",
    "plt.xscale('log')\n",
    "plt.xlabel('women')\n",
    "plt.ylabel('hispanic')"
   ]
  },
  {
   "cell_type": "code",
   "execution_count": null,
   "metadata": {},
   "outputs": [],
   "source": [
    "import seaborn as sns\n",
    "states2017 = pd.merge(percentages2017, unis2017[['UNITID', 'STABBR']], left_on= 'unitid', right_on='UNITID', how='left')\n",
    "#plt.scatter(states['women'], states['black'], c=states['STABBR'])\n",
    "sns.scatterplot(data = states2017, x = 'women', y='native', hue = 'STABBR')\n",
    "plt.yscale('log')\n",
    "plt.xscale('log')\n",
    "plt.xlabel('women')\n",
    "plt.ylabel('native')"
   ]
  },
  {
   "cell_type": "code",
   "execution_count": null,
   "metadata": {},
   "outputs": [],
   "source": [
    "import seaborn as sns\n",
    "states2017 = pd.merge(percentages2017, unis2017[['UNITID', 'STABBR']], left_on= 'unitid', right_on='UNITID', how='left')\n",
    "#plt.scatter(states['women'], states['black'], c=states['STABBR'])\n",
    "sns.scatterplot(data = states2017, x = 'hispanic', y='black', hue = 'STABBR')\n",
    "plt.yscale('log')\n",
    "plt.xscale('log')\n",
    "plt.xlabel('hispanic')\n",
    "plt.ylabel('black')"
   ]
  },
  {
   "cell_type": "code",
   "execution_count": null,
   "metadata": {},
   "outputs": [],
   "source": [
    "import seaborn as sns\n",
    "states2017 = pd.merge(percentages2017, unis2017[['UNITID', 'STABBR']], left_on= 'unitid', right_on='UNITID', how='left')\n",
    "#plt.scatter(states['women'], states['black'], c=states['STABBR'])\n",
    "sns.scatterplot(data = states2017, x = 'native', y='black', hue = 'STABBR')\n",
    "plt.yscale('log')\n",
    "plt.xscale('log')\n",
    "plt.xlabel('native')\n",
    "plt.ylabel('black')"
   ]
  },
  {
   "cell_type": "code",
   "execution_count": null,
   "metadata": {},
   "outputs": [],
   "source": [
    "import seaborn as sns\n",
    "states2017 = pd.merge(percentages2017, unis2017[['UNITID', 'STABBR']], left_on= 'unitid', right_on='UNITID', how='left')\n",
    "#plt.scatter(states['women'], states['black'], c=states['STABBR'])\n",
    "sns.scatterplot(data = states2017, x = 'native', y='hispanic', hue = 'STABBR')\n",
    "plt.yscale('log')\n",
    "plt.xscale('log')\n",
    "plt.xlabel('native')\n",
    "plt.ylabel('hispanic')"
   ]
  },
  {
   "cell_type": "code",
   "execution_count": null,
   "metadata": {},
   "outputs": [],
   "source": [
    "import seaborn as sns\n",
    "states2018 = pd.merge(percentages2018, unis2018[['UNITID', 'STABBR']], left_on= 'unitid', right_on='UNITID', how='left')\n",
    "#plt.scatter(states['women'], states['black'], c=states['STABBR'])\n",
    "sns.scatterplot(data = states2018, x = 'women', y='black', hue = 'STABBR')\n",
    "plt.yscale('log')\n",
    "plt.xscale('log')\n",
    "plt.xlabel('women')\n",
    "plt.ylabel('black')"
   ]
  },
  {
   "cell_type": "code",
   "execution_count": null,
   "metadata": {},
   "outputs": [],
   "source": [
    "import seaborn as sns\n",
    "states2018 = pd.merge(percentages2018, unis2018[['UNITID', 'STABBR']], left_on= 'unitid', right_on='UNITID', how='left')\n",
    "#plt.scatter(states['women'], states['black'], c=states['STABBR'])\n",
    "sns.scatterplot(data = states2018, x = 'women', y='hispanic', hue = 'STABBR')\n",
    "plt.yscale('log')\n",
    "plt.xscale('log')\n",
    "plt.xlabel('women')\n",
    "plt.ylabel('hispanic')"
   ]
  },
  {
   "cell_type": "code",
   "execution_count": null,
   "metadata": {},
   "outputs": [],
   "source": [
    "import seaborn as sns\n",
    "states2018 = pd.merge(percentages2018, unis2018[['UNITID', 'STABBR']], left_on= 'unitid', right_on='UNITID', how='left')\n",
    "#plt.scatter(states['women'], states['black'], c=states['STABBR'])\n",
    "sns.scatterplot(data = states2018, x = 'women', y='native', hue = 'STABBR')\n",
    "plt.yscale('log')\n",
    "plt.xscale('log')\n",
    "plt.xlabel('women')\n",
    "plt.ylabel('native')"
   ]
  },
  {
   "cell_type": "code",
   "execution_count": null,
   "metadata": {},
   "outputs": [],
   "source": [
    "import seaborn as sns\n",
    "states2018 = pd.merge(percentages2018, unis2018[['UNITID', 'STABBR']], left_on= 'unitid', right_on='UNITID', how='left')\n",
    "#plt.scatter(states['women'], states['black'], c=states['STABBR'])\n",
    "sns.scatterplot(data = states2018, x = 'hispanic', y='black', hue = 'STABBR')\n",
    "plt.yscale('log')\n",
    "plt.xscale('log')\n",
    "plt.xlabel('hispanic')\n",
    "plt.ylabel('black')"
   ]
  },
  {
   "cell_type": "code",
   "execution_count": null,
   "metadata": {},
   "outputs": [],
   "source": [
    "import seaborn as sns\n",
    "states2018 = pd.merge(percentages2018, unis2018[['UNITID', 'STABBR']], left_on= 'unitid', right_on='UNITID', how='left')\n",
    "#plt.scatter(states['women'], states['black'], c=states['STABBR'])\n",
    "sns.scatterplot(data = states2018, x = 'native', y='black', hue = 'STABBR')\n",
    "plt.yscale('log')\n",
    "plt.xscale('log')\n",
    "plt.xlabel('native')\n",
    "plt.ylabel('black')"
   ]
  },
  {
   "cell_type": "code",
   "execution_count": null,
   "metadata": {},
   "outputs": [],
   "source": [
    "import seaborn as sns\n",
    "states2018 = pd.merge(percentages2018, unis2018[['UNITID', 'STABBR']], left_on= 'unitid', right_on='UNITID', how='left')\n",
    "#plt.scatter(states['women'], states['black'], c=states['STABBR'])\n",
    "sns.scatterplot(data = states2018, x = 'native', y='hispanic', hue = 'STABBR')\n",
    "plt.yscale('log')\n",
    "plt.xscale('log')\n",
    "plt.xlabel('native')\n",
    "plt.ylabel('hispanic')"
   ]
  },
  {
   "cell_type": "code",
   "execution_count": null,
   "metadata": {},
   "outputs": [],
   "source": []
  },
  {
   "cell_type": "code",
   "execution_count": null,
   "metadata": {},
   "outputs": [],
   "source": [
    "import seaborn as sns\n",
    "states2019 = pd.merge(percentages2019, unis2019[['UNITID', 'STABBR']], left_on= 'unitid', right_on='UNITID', how='left')\n",
    "#plt.scatter(states['women'], states['black'], c=states['STABBR'])\n",
    "sns.scatterplot(data = states2019, x = 'women', y='black', hue = 'STABBR')\n",
    "plt.yscale('log')\n",
    "plt.xscale('log')\n",
    "plt.xlabel('women')\n",
    "plt.ylabel('black')"
   ]
  },
  {
   "cell_type": "code",
   "execution_count": null,
   "metadata": {},
   "outputs": [],
   "source": [
    "import seaborn as sns\n",
    "states2019 = pd.merge(percentages2019, unis2019[['UNITID', 'STABBR']], left_on= 'unitid', right_on='UNITID', how='left')\n",
    "#plt.scatter(states['women'], states['black'], c=states['STABBR'])\n",
    "sns.scatterplot(data = states2019, x = 'women', y='hispanic', hue = 'STABBR')\n",
    "plt.yscale('log')\n",
    "plt.xscale('log')\n",
    "plt.xlabel('women')\n",
    "plt.ylabel('hispanic')"
   ]
  },
  {
   "cell_type": "code",
   "execution_count": null,
   "metadata": {},
   "outputs": [],
   "source": [
    "import seaborn as sns\n",
    "states2019 = pd.merge(percentages2019, unis2019[['UNITID', 'STABBR']], left_on= 'unitid', right_on='UNITID', how='left')\n",
    "#plt.scatter(states['women'], states['black'], c=states['STABBR'])\n",
    "sns.scatterplot(data = states2019, x = 'women', y='native', hue = 'STABBR')\n",
    "plt.yscale('log')\n",
    "plt.xscale('log')\n",
    "plt.xlabel('women')\n",
    "plt.ylabel('native')"
   ]
  },
  {
   "cell_type": "code",
   "execution_count": null,
   "metadata": {},
   "outputs": [],
   "source": [
    "import seaborn as sns\n",
    "states2019 = pd.merge(percentages2019, unis2019[['UNITID', 'STABBR']], left_on= 'unitid', right_on='UNITID', how='left')\n",
    "#plt.scatter(states['women'], states['black'], c=states['STABBR'])\n",
    "sns.scatterplot(data = states2019, x = 'hispanic', y='black', hue = 'STABBR')\n",
    "plt.yscale('log')\n",
    "plt.xscale('log')\n",
    "plt.xlabel('hispanic')\n",
    "plt.ylabel('black')"
   ]
  },
  {
   "cell_type": "code",
   "execution_count": null,
   "metadata": {},
   "outputs": [],
   "source": [
    "import seaborn as sns\n",
    "states2019 = pd.merge(percentages2019, unis2019[['UNITID', 'STABBR']], left_on= 'unitid', right_on='UNITID', how='left')\n",
    "#plt.scatter(states['women'], states['black'], c=states['STABBR'])\n",
    "sns.scatterplot(data = states2019, x = 'native', y='black', hue = 'STABBR')\n",
    "plt.yscale('log')\n",
    "plt.xscale('log')\n",
    "plt.xlabel('native')\n",
    "plt.ylabel('black')"
   ]
  },
  {
   "cell_type": "code",
   "execution_count": null,
   "metadata": {},
   "outputs": [],
   "source": [
    "import seaborn as sns\n",
    "states2019 = pd.merge(percentages2019, unis2019[['UNITID', 'STABBR']], left_on= 'unitid', right_on='UNITID', how='left')\n",
    "#plt.scatter(states['women'], states['black'], c=states['STABBR'])\n",
    "sns.scatterplot(data = states2019, x = 'native', y='hispanic', hue = 'STABBR')\n",
    "plt.yscale('log')\n",
    "plt.xscale('log')\n",
    "plt.xlabel('native')\n",
    "plt.ylabel('hispanic')"
   ]
  },
  {
   "cell_type": "code",
   "execution_count": null,
   "metadata": {},
   "outputs": [],
   "source": [
    "percentagesPosition2015 = pd.merge(percentages2015, unis2015[['UNITID', 'LONGITUD', 'LATITUDE']], left_on='unitid', right_on='UNITID', how='left')"
   ]
  },
  {
   "cell_type": "code",
   "execution_count": null,
   "metadata": {},
   "outputs": [],
   "source": [
    "percentagesPosition2015.head()"
   ]
  },
  {
   "cell_type": "code",
   "execution_count": null,
   "metadata": {},
   "outputs": [],
   "source": [
    "percentagesPosition2016 = pd.merge(percentages2016, unis2016[['UNITID', 'LONGITUD', 'LATITUDE']], left_on='unitid', right_on='UNITID', how='left')"
   ]
  },
  {
   "cell_type": "code",
   "execution_count": null,
   "metadata": {},
   "outputs": [],
   "source": [
    "percentagesPosition2017 = pd.merge(percentages2017, unis2017[['UNITID', 'LONGITUD', 'LATITUDE']], left_on='unitid', right_on='UNITID', how='left')"
   ]
  },
  {
   "cell_type": "code",
   "execution_count": null,
   "metadata": {},
   "outputs": [],
   "source": [
    "percentagesPosition2018 = pd.merge(percentages2018, unis2018[['UNITID', 'LONGITUD', 'LATITUDE']], left_on='unitid', right_on='UNITID', how='left')"
   ]
  },
  {
   "cell_type": "code",
   "execution_count": null,
   "metadata": {},
   "outputs": [],
   "source": [
    "percentagesPosition2019 = pd.merge(percentages2019, unis2019[['UNITID', 'LONGITUD', 'LATITUDE']], left_on='unitid', right_on='UNITID', how='left')"
   ]
  },
  {
   "cell_type": "code",
   "execution_count": null,
   "metadata": {},
   "outputs": [],
   "source": [
    "percentagesPosition2015.dtypes"
   ]
  },
  {
   "cell_type": "code",
   "execution_count": null,
   "metadata": {},
   "outputs": [],
   "source": [
    "percentagesPosition2015['LONGITUD'] = percentagesPosition2015['LONGITUD'].astype(float)\n",
    "percentagesPosition2015['LATITUDE'] = percentagesPosition2015['LATITUDE'].astype(float)\n",
    "\n",
    "plt.scatter(percentagesPosition2015['LONGITUD'], percentagesPosition2015['LATITUDE'])\n",
    "plt.xlim(-160, -40)\n",
    "plt.ylim(-10)"
   ]
  },
  {
   "cell_type": "code",
   "execution_count": null,
   "metadata": {},
   "outputs": [],
   "source": [
    "plt.figure(figsize = (10, 5))\n",
    "womenBool2015 = percentagesPosition2015['women'].apply(lambda x: x > 0)\n",
    "womenPercentPosition2015 = percentagesPosition2015[womenBool2015]\n",
    "plt.scatter(womenPercentPosition2015['LONGITUD'], womenPercentPosition2015['LATITUDE'], c=womenPercentPosition2015['women'].apply(log), s=20, alpha = 0.5)\n",
    "plt.ylabel('longitude')\n",
    "plt.xlabel('latitude')\n",
    "plt.colorbar()\n",
    "plt.title(\"Women Percentages 2015\")"
   ]
  },
  {
   "cell_type": "code",
   "execution_count": null,
   "metadata": {},
   "outputs": [],
   "source": [
    "plt.figure(figsize = (10, 5))\n",
    "blackBool2015 = percentagesPosition2015['black'].apply(lambda x: x > 0)\n",
    "blackPercentPosition2015 = percentagesPosition2015[blackBool2015]\n",
    "plt.scatter(blackPercentPosition2015['LONGITUD'], blackPercentPosition2015['LATITUDE'], c=blackPercentPosition2015['black'].apply(log), s=20, alpha = 0.5)\n",
    "plt.ylabel('longitude')\n",
    "plt.xlabel('latitude')\n",
    "plt.xlim(-130, -60)\n",
    "plt.ylim(20, 55)\n",
    "plt.colorbar()\n",
    "plt.title(\"Black Percentages 2015\")"
   ]
  },
  {
   "cell_type": "code",
   "execution_count": null,
   "metadata": {},
   "outputs": [],
   "source": [
    "plt.figure(figsize = (10, 5))\n",
    "hispanicBool2015 = percentagesPosition2015['hispanic'].apply(lambda x: x > 0)\n",
    "hispanicPercentPosition2015 = percentagesPosition2015[hispanicBool2015]\n",
    "plt.scatter(hispanicPercentPosition2015['LONGITUD'], hispanicPercentPosition2015['LATITUDE'], c=hispanicPercentPosition2015['hispanic'].apply(log), s=20, alpha = 0.5)\n",
    "plt.ylabel('longitude')\n",
    "plt.xlabel('latitude')\n",
    "plt.xlim(-130, -60)\n",
    "plt.ylim(20, 55)\n",
    "plt.colorbar()\n",
    "plt.title(\"Hispanic Percentages 2015\")"
   ]
  },
  {
   "cell_type": "code",
   "execution_count": null,
   "metadata": {},
   "outputs": [],
   "source": [
    "plt.figure(figsize = (10, 5))\n",
    "nativeBool2015 = percentagesPosition2015['native'].apply(lambda x: x > 0)\n",
    "nativePercentPosition2015 = percentagesPosition2015[nativeBool2015]\n",
    "plt.scatter(nativePercentPosition2015['LONGITUD'], nativePercentPosition2015['LATITUDE'], c=nativePercentPosition2015['native'].apply(log), s=20, alpha = 0.5)\n",
    "plt.ylabel('longitude')\n",
    "plt.xlabel('latitude')\n",
    "plt.xlim(-130, -60)\n",
    "plt.ylim(20, 55)\n",
    "plt.colorbar()\n",
    "plt.title(\"Native Percentages 2015\")"
   ]
  },
  {
   "cell_type": "code",
   "execution_count": null,
   "metadata": {},
   "outputs": [],
   "source": [
    "plt.figure(figsize = (10, 5))\n",
    "womenBool2016 = percentagesPosition2016['women'].apply(lambda x: x > 0)\n",
    "womenPercentPosition2016 = percentagesPosition2016[womenBool2016]\n",
    "plt.scatter(womenPercentPosition2016['LONGITUD'], womenPercentPosition2016['LATITUDE'], c=womenPercentPosition2016['women'].apply(log), s=20, alpha = 0.5)\n",
    "plt.ylabel('longitude')\n",
    "plt.xlabel('latitude')\n",
    "plt.xlim(-130, -60)\n",
    "plt.ylim(20, 55)\n",
    "plt.colorbar()\n",
    "plt.title(\"Women Percentages 2016\")"
   ]
  },
  {
   "cell_type": "code",
   "execution_count": null,
   "metadata": {},
   "outputs": [],
   "source": [
    "plt.figure(figsize = (10, 5))\n",
    "blackBool2016 = percentagesPosition2016['black'].apply(lambda x: x > 0)\n",
    "blackPercentPosition2016 = percentagesPosition2016[blackBool2016]\n",
    "plt.scatter(blackPercentPosition2016['LONGITUD'], blackPercentPosition2016['LATITUDE'], c=blackPercentPosition2016['black'].apply(log), s=20, alpha = 0.5)\n",
    "plt.ylabel('longitude')\n",
    "plt.xlabel('latitude')\n",
    "plt.xlim(-130, -60)\n",
    "plt.ylim(20, 55)\n",
    "plt.colorbar()\n",
    "plt.title(\"Black Percentages 2016\")"
   ]
  },
  {
   "cell_type": "code",
   "execution_count": null,
   "metadata": {},
   "outputs": [],
   "source": [
    "plt.figure(figsize = (10, 5))\n",
    "hispanicBool2016 = percentagesPosition2016['hispanic'].apply(lambda x: x > 0)\n",
    "hispanicPercentPosition2016 = percentagesPosition2016[hispanicBool2016]\n",
    "plt.scatter(hispanicPercentPosition2016['LONGITUD'], hispanicPercentPosition2016['LATITUDE'], c=hispanicPercentPosition2016['hispanic'].apply(log), s=20, alpha = 0.5)\n",
    "plt.ylabel('longitude')\n",
    "plt.xlabel('latitude')\n",
    "plt.xlim(-130, -60)\n",
    "plt.ylim(20, 55)\n",
    "plt.colorbar()\n",
    "plt.title(\"Hispanic Percentages 2016\")"
   ]
  },
  {
   "cell_type": "code",
   "execution_count": null,
   "metadata": {},
   "outputs": [],
   "source": [
    "plt.figure(figsize = (10, 5))\n",
    "nativeBool2016 = percentagesPosition2016['native'].apply(lambda x: x > 0)\n",
    "nativePercentPosition2016 = percentagesPosition2016[nativeBool2016]\n",
    "plt.scatter(nativePercentPosition2016['LONGITUD'], nativePercentPosition2016['LATITUDE'], c=nativePercentPosition2016['native'].apply(log), s=20, alpha = 0.5)\n",
    "plt.ylabel('longitude')\n",
    "plt.xlabel('latitude')\n",
    "plt.xlim(-130, -60)\n",
    "plt.ylim(20, 55)\n",
    "plt.colorbar()\n",
    "plt.title(\"Native Percentages 2016\")"
   ]
  },
  {
   "cell_type": "code",
   "execution_count": null,
   "metadata": {},
   "outputs": [],
   "source": [
    "plt.figure(figsize = (10, 5))\n",
    "womenBool2017 = percentagesPosition2017['women'].apply(lambda x: x > 0)\n",
    "womenPercentPosition2017 = percentagesPosition2017[womenBool2017]\n",
    "plt.scatter(womenPercentPosition2017['LONGITUD'], womenPercentPosition2017['LATITUDE'], c=womenPercentPosition2017['women'].apply(log), s=20, alpha = 0.5)\n",
    "plt.ylabel('longitude')\n",
    "plt.xlabel('latitude')\n",
    "plt.xlim(-130, -60)\n",
    "plt.ylim(20, 55)\n",
    "plt.colorbar()\n",
    "plt.title(\"Women Percentages 2017\")"
   ]
  },
  {
   "cell_type": "code",
   "execution_count": null,
   "metadata": {},
   "outputs": [],
   "source": [
    "plt.figure(figsize = (10, 5))\n",
    "blackBool2017 = percentagesPosition2017['black'].apply(lambda x: x > 0)\n",
    "blackPercentPosition2017 = percentagesPosition2017[blackBool2017]\n",
    "plt.scatter(blackPercentPosition2017['LONGITUD'], blackPercentPosition2017['LATITUDE'], c=blackPercentPosition2017['black'].apply(log), s=20, alpha = 0.5)\n",
    "plt.ylabel('longitude')\n",
    "plt.xlabel('latitude')\n",
    "plt.xlim(-130, -60)\n",
    "plt.ylim(20, 55)\n",
    "plt.colorbar()\n",
    "plt.title(\"Black Percentages 2017\")"
   ]
  },
  {
   "cell_type": "code",
   "execution_count": null,
   "metadata": {},
   "outputs": [],
   "source": [
    "plt.figure(figsize = (10, 5))\n",
    "hispanicBool2017 = percentagesPosition2017['hispanic'].apply(lambda x: x > 0)\n",
    "hispanicPercentPosition2017 = percentagesPosition2017[hispanicBool2017]\n",
    "plt.scatter(hispanicPercentPosition2017['LONGITUD'], hispanicPercentPosition2017['LATITUDE'], c=hispanicPercentPosition2017['hispanic'].apply(log), s=20, alpha = 0.5)\n",
    "plt.ylabel('longitude')\n",
    "plt.xlabel('latitude')\n",
    "plt.xlim(-130, -60)\n",
    "plt.ylim(20, 55)\n",
    "plt.colorbar()\n",
    "plt.title(\"Hispanic Percentages 2017\")"
   ]
  },
  {
   "cell_type": "code",
   "execution_count": null,
   "metadata": {},
   "outputs": [],
   "source": [
    "plt.figure(figsize = (10, 5))\n",
    "nativeBool2017 = percentagesPosition2017['native'].apply(lambda x: x > 0)\n",
    "nativePercentPosition2017 = percentagesPosition2017[nativeBool2017]\n",
    "plt.scatter(nativePercentPosition2017['LONGITUD'], nativePercentPosition2017['LATITUDE'], c=nativePercentPosition2017['native'].apply(log), s=20, alpha = 0.5)\n",
    "plt.ylabel('longitude')\n",
    "plt.xlabel('latitude')\n",
    "plt.xlim(-130, -60)\n",
    "plt.ylim(20, 55)\n",
    "plt.colorbar()\n",
    "plt.title(\"Native Percentages 2017\")"
   ]
  },
  {
   "cell_type": "code",
   "execution_count": null,
   "metadata": {},
   "outputs": [],
   "source": [
    "plt.figure(figsize = (10, 5))\n",
    "womenBool2018 = percentagesPosition2018['women'].apply(lambda x: x > 0)\n",
    "womenPercentPosition2018 = percentagesPosition2018[womenBool2018]\n",
    "plt.scatter(womenPercentPosition2018['LONGITUD'], womenPercentPosition2018['LATITUDE'], c=womenPercentPosition2018['women'].apply(log), s=20, alpha = 0.5)\n",
    "plt.ylabel('longitude')\n",
    "plt.xlabel('latitude')\n",
    "plt.xlim(-130, -60)\n",
    "plt.ylim(20, 55)\n",
    "plt.colorbar()\n",
    "plt.title(\"Women Percentages 2018\")"
   ]
  },
  {
   "cell_type": "code",
   "execution_count": null,
   "metadata": {},
   "outputs": [],
   "source": [
    "plt.figure(figsize = (10, 5))\n",
    "blackBool2018 = percentagesPosition2018['black'].apply(lambda x: x > 0)\n",
    "blackPercentPosition2018 = percentagesPosition2018[blackBool2018]\n",
    "plt.scatter(blackPercentPosition2018['LONGITUD'], blackPercentPosition2018['LATITUDE'], c=blackPercentPosition2018['black'].apply(log), s=20, alpha = 0.5)\n",
    "plt.ylabel('longitude')\n",
    "plt.xlabel('latitude')\n",
    "plt.xlim(-130, -60)\n",
    "plt.ylim(20, 55)\n",
    "plt.colorbar()\n",
    "plt.title(\"Black Percentages 2018\")"
   ]
  },
  {
   "cell_type": "code",
   "execution_count": null,
   "metadata": {},
   "outputs": [],
   "source": [
    "plt.figure(figsize = (10, 5))\n",
    "hispanicBool2018 = percentagesPosition2018['hispanic'].apply(lambda x: x > 0)\n",
    "hispanicPercentPosition2018 = percentagesPosition2018[hispanicBool2018]\n",
    "plt.scatter(hispanicPercentPosition2018['LONGITUD'], hispanicPercentPosition2018['LATITUDE'], c=hispanicPercentPosition2018['hispanic'].apply(log), s=20, alpha = 0.5)\n",
    "plt.ylabel('longitude')\n",
    "plt.xlabel('latitude')\n",
    "plt.xlim(-130, -60)\n",
    "plt.ylim(20, 55)\n",
    "plt.colorbar()\n",
    "plt.title(\"Hispanic Percentages 2018\")"
   ]
  },
  {
   "cell_type": "code",
   "execution_count": null,
   "metadata": {},
   "outputs": [],
   "source": [
    "plt.figure(figsize = (10, 5))\n",
    "nativeBool2018 = percentagesPosition2018['native'].apply(lambda x: x > 0)\n",
    "nativePercentPosition2018 = percentagesPosition2018[nativeBool2018]\n",
    "plt.scatter(nativePercentPosition2018['LONGITUD'], nativePercentPosition2018['LATITUDE'], c=nativePercentPosition2018['native'].apply(log), s=20, alpha = 0.5)\n",
    "plt.ylabel('longitude')\n",
    "plt.xlabel('latitude')\n",
    "plt.xlim(-130, -60)\n",
    "plt.ylim(20, 55)\n",
    "plt.colorbar()\n",
    "plt.title(\"Native Percentages 2018\")"
   ]
  },
  {
   "cell_type": "code",
   "execution_count": null,
   "metadata": {},
   "outputs": [],
   "source": [
    "plt.figure(figsize = (10, 5))\n",
    "womenBool2019 = percentagesPosition2019['women'].apply(lambda x: x > 0)\n",
    "womenPercentPosition2019 = percentagesPosition2019[womenBool2019]\n",
    "plt.scatter(womenPercentPosition2019['LONGITUD'], womenPercentPosition2019['LATITUDE'], c=womenPercentPosition2019['women'].apply(log), s=20, alpha = 0.5)\n",
    "plt.ylabel('longitude')\n",
    "plt.xlabel('latitude')\n",
    "plt.xlim(-130, -60)\n",
    "plt.ylim(20, 55)\n",
    "plt.colorbar()\n",
    "plt.title(\"Women Percentages 2019\")"
   ]
  },
  {
   "cell_type": "code",
   "execution_count": null,
   "metadata": {},
   "outputs": [],
   "source": [
    "plt.figure(figsize = (10, 5))\n",
    "blackBool2019 = percentagesPosition2019['black'].apply(lambda x: x > 0)\n",
    "blackPercentPosition2019 = percentagesPosition2019[blackBool2019]\n",
    "plt.scatter(blackPercentPosition2019['LONGITUD'], blackPercentPosition2019['LATITUDE'], c=blackPercentPosition2019['black'].apply(log), s=20, alpha = 0.5)\n",
    "plt.ylabel('longitude')\n",
    "plt.xlabel('latitude')\n",
    "plt.xlim(-130, -60)\n",
    "plt.ylim(20, 55)\n",
    "plt.colorbar()\n",
    "plt.title(\"Black Percentages 2019\")"
   ]
  },
  {
   "cell_type": "code",
   "execution_count": null,
   "metadata": {},
   "outputs": [],
   "source": [
    "plt.figure(figsize = (10, 5))\n",
    "hispanicBool2019 = percentagesPosition2019['hispanic'].apply(lambda x: x > 0)\n",
    "hispanicPercentPosition2019 = percentagesPosition2019[hispanicBool2019]\n",
    "plt.scatter(hispanicPercentPosition2019['LONGITUD'], hispanicPercentPosition2019['LATITUDE'], c=hispanicPercentPosition2019['hispanic'].apply(log), s=20, alpha = 0.5)\n",
    "plt.ylabel('longitude')\n",
    "plt.xlabel('latitude')\n",
    "plt.xlim(-130, -60)\n",
    "plt.ylim(20, 55)\n",
    "plt.colorbar()\n",
    "plt.title(\"Hispanic Percentages 2019\")"
   ]
  },
  {
   "cell_type": "code",
   "execution_count": null,
   "metadata": {},
   "outputs": [],
   "source": [
    "plt.figure(figsize = (10, 5))\n",
    "nativeBool2019 = percentagesPosition2019['native'].apply(lambda x: x > 0)\n",
    "nativePercentPosition2019 = percentagesPosition2019[nativeBool2019]\n",
    "plt.scatter(nativePercentPosition2019['LONGITUD'], nativePercentPosition2019['LATITUDE'], c=nativePercentPosition2019['native'].apply(log), s=20, alpha = 0.5)\n",
    "plt.ylabel('longitude')\n",
    "plt.xlabel('latitude')\n",
    "plt.xlim(-130, -60)\n",
    "plt.ylim(20, 55)\n",
    "plt.colorbar()\n",
    "plt.title(\"Native Percentages 2019\")"
   ]
  },
  {
   "cell_type": "code",
   "execution_count": null,
   "metadata": {},
   "outputs": [],
   "source": [
    "df_dict = {'2015': (unis2015, sums2015), '2016': (unis2016, sums2016), '2017': (unis2017, sums2017), '2018': (unis2018, sums2018), '2019': (unis2019, sums2019), '2020': (unis2020, sums2020)}"
   ]
  },
  {
   "cell_type": "code",
   "execution_count": null,
   "metadata": {},
   "outputs": [],
   "source": [
    "def stateTotalsWomen(sums, unis):\n",
    "    columns = ['UNITID', 'CTOTALW', 'CAIANT', 'CBKAAT', 'CHISPT', 'CTOTALT']\n",
    "    filtered = sums[columns]\n",
    "    #filtered.columns = ['unitid', 'women', 'native', 'black', 'hispanic']\n",
    "    statesAndUnis = pd.merge(filtered, unis[['UNITID', 'INSTNM', 'STABBR']], on = 'UNITID', how='left')\n",
    "    statesTotals = statesAndUnis.groupby('STABBR').sum()\n",
    "    sns.scatterplot(data = states2019, x = 'STABBR', y='women', hue = 'STABBR')\n",
    "    plt.yscale('log')\n",
    "    plt.xlabel('States')\n",
    "    plt.ylabel('Women') \n",
    "\n"
   ]
  },
  {
   "cell_type": "code",
   "execution_count": null,
   "metadata": {},
   "outputs": [],
   "source": [
    "sums2015.head()"
   ]
  },
  {
   "cell_type": "code",
   "execution_count": null,
   "metadata": {},
   "outputs": [],
   "source": [
    "for year in df_dict:\n",
    "    unis, sums = df_dict[year]\n",
    "    stateTotalsWomen(sums, unis)\n",
    "    plt.figure()\n",
    "    "
   ]
  },
  {
   "cell_type": "code",
   "execution_count": null,
   "metadata": {},
   "outputs": [],
   "source": [
    "years = {2015 :(data2015, unis2015), \\\n",
    "            2016: (data2016, unis2016), \\\n",
    "                2017 : (data2017, unis2017), \\\n",
    "                    2018: (data2018, unis2018), \\\n",
    "                        2019 : (data2019, unis2019), \\\n",
    "                            2020 : (data2020, unis2020)}\n",
    "def groupTotals():\n",
    "    allCsStateData  = []\n",
    "    allNonCsStateData = []\n",
    "    for year in years:\n",
    "        data, unis = years[year]\n",
    "        csMerge, nonCsMerge = csVsNonCs(data, unis)\n",
    "        stateCsTotal = csMerge.groupby('STABBR').sum().reset_index()\n",
    "        stateNonCsTotal = nonCsMerge.groupby('STABBR').sum().reset_index()\n",
    "        stateCsTotal['year'] = year\n",
    "        stateNonCsTotal['year'] = year\n",
    "        allCsStateData.append(stateCsTotal)\n",
    "        allNonCsStateData.append(stateNonCsTotal)\n",
    "    allCsStateData = pd.concat(allCsStateData)\n",
    "    allNonCsStateData = pd.concat(allNonCsStateData)\n",
    "    return allCsStateData, allNonCsStateData\n",
    "    \n",
    "        \n",
    "        \n",
    "def csVsNonCs(data, unis):\n",
    "    csBoolmap = data['CIPCODE'].apply(lambda x : x < 12 and x >= 11)\n",
    "    cs = data[csBoolmap]\n",
    "    csSum = cs.groupby('UNITID').sum()\n",
    "    csSum = csSum.reset_index()\n",
    "    uniqueIds = set(csSum['UNITID'].unique())\n",
    "    nonCs = data[data.apply(lambda x: x['UNITID'] in uniqueIds, axis = 1)]\n",
    "    nonCsSum = nonCs.groupby('UNITID').sum().reset_index()\n",
    "    cols = ['UNITID', 'CTOTALW', 'CAIANT', 'CBKAAT', 'CHISPT', 'CTOTALT']\n",
    "    csMerge = pd.merge(csSum[cols], unis[['UNITID', 'STABBR']], on = 'UNITID', how='left')\n",
    "    nonCsMerge = pd.merge(nonCsSum[cols], unis[['UNITID', 'STABBR']], on = 'UNITID', how='left')\n",
    "    return csMerge, nonCsMerge\n",
    "\n",
    "    \n"
   ]
  },
  {
   "cell_type": "code",
   "execution_count": null,
   "metadata": {},
   "outputs": [],
   "source": [
    "allCsState, allNonCsState = groupTotals()"
   ]
  },
  {
   "cell_type": "code",
   "execution_count": null,
   "metadata": {},
   "outputs": [],
   "source": [
    "arkansasBoolmap = allCsState['STABBR'] == 'AR'\n",
    "arkansas = allCsState[arkansasBoolmap]\n",
    "arkansas\n",
    "allCsState['STABBR'].value_counts()"
   ]
  },
  {
   "cell_type": "code",
   "execution_count": null,
   "metadata": {},
   "outputs": [],
   "source": [
    "stateAbbr = []\n",
    "for state in set(allCsState['STABBR']):\n",
    "    stateAbbr.append(state)\n",
    "stateAbbr"
   ]
  },
  {
   "cell_type": "code",
   "execution_count": 633,
   "metadata": {},
   "outputs": [],
   "source": [
    "from matplotlib import pyplot as plt\n",
    "demos = ['women', 'native', 'black', 'hispanic']\n",
    "def statePlot(state, axs, i):\n",
    "    stateCsBoolMap = allCsState['STABBR'] == state\n",
    "    stateNonCsBoolMap = allNonCsState['STABBR'] == state\n",
    "    stateCs     = allCsState[stateCsBoolMap]\n",
    "    stateNonCs  = allNonCsState[stateNonCsBoolMap]\n",
    "    stateCs     = stateCs[['STABBR', 'CTOTALW', 'CAIANT', \\\n",
    "                    'CBKAAT', 'CHISPT', 'year']]\n",
    "    stateNonCs  = stateNonCs[['STABBR', 'CTOTALW', 'CAIANT', \\\n",
    "                    'CBKAAT', 'CHISPT', 'year']]\n",
    "    stateCs.columns = ['state', 'women', 'native', 'black', 'hispanic', 'year']\n",
    "    stateNonCs.columns = ['state', 'women', 'native', 'black', 'hispanic', 'year']\n",
    "    for j, demo in enumerate(demos):\n",
    "        plots(demo, stateCs, stateNonCs, state, axs, i, j)\n",
    "       # axs[i].set_title(state)\n",
    "    \n",
    "def plots(demo, cs, nonCs, state, axs, i, j):\n",
    "    axs[i][j].plot(cs['year'], cs[demo], label = demo + ' in ' + \\\n",
    "                                                        state + ' in CS')\n",
    "    axs[i][j].plot(nonCs['year'], nonCs[demo], label = demo + ' in ' + \\\n",
    "                                                        state + ' in NonCS')\n",
    "    #axs[i][j].suptitle(state)\n",
    "    axs[i][j].set_title(state + '\\n' + demo)\n",
    "    axs[i][j].set_xlabel('year')\n",
    "    axs[i][j].set_yscale('log')\n",
    "    #axs[i][j].legend()\n",
    "    # #plt.title('Total # of ' + demo + ' in ' + state)\n",
    "    # plt.figure()\n",
    "\n",
    "fig, axs = plt.subplots(56, 4, figsize = (10, 560), sharey=True)\n",
    "for i, state in enumerate(set(allCsState['STABBR'])):\n",
    "    statePlot(state, axs, i)\n",
    "plt.savefig('../out/states.png')\n",
    "plt.close()\n",
    "    \n",
    "\n"
   ]
  },
  {
   "cell_type": "code",
   "execution_count": null,
   "metadata": {},
   "outputs": [],
   "source": []
  }
 ],
 "metadata": {
  "interpreter": {
   "hash": "aee8b7b246df8f9039afb4144a1f6fd8d2ca17a180786b69acc140d282b71a49"
  },
  "kernelspec": {
   "display_name": "Python 3.7.9 64-bit",
   "language": "python",
   "name": "python3"
  },
  "language_info": {
   "codemirror_mode": {
    "name": "ipython",
    "version": 3
   },
   "file_extension": ".py",
   "mimetype": "text/x-python",
   "name": "python",
   "nbconvert_exporter": "python",
   "pygments_lexer": "ipython3",
   "version": "3.9.13"
  },
  "orig_nbformat": 4
 },
 "nbformat": 4,
 "nbformat_minor": 2
}
