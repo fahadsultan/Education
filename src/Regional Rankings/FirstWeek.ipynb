{
 "cells": [
  {
   "cell_type": "code",
   "execution_count": null,
   "metadata": {},
   "outputs": [],
   "source": [
    "import pandas as pd\n",
    "from matplotlib import pyplot as plt\n",
    "from glob import glob\n",
    "from scipy.stats import mannwhitneyu, ttest_ind\n",
    "from tqdm import tqdm\n",
    "import numpy as np \n",
    "import math\n",
    "%matplotlib inline"
   ]
  },
  {
   "cell_type": "code",
   "execution_count": null,
   "metadata": {},
   "outputs": [],
   "source": [
    "#Reading meta-data files\n",
    "unis2020 = pd.read_csv('../data/IPEDS/hd2020.csv',encoding='cp1252')\n",
    "\n",
    "\n",
    "## Preprocessing meta-data files\n",
    "### Updating names to match in rankings  \n",
    "unis2020.loc[unis2020['IALIAS']=='Virginia Tech', 'INSTNM'] = 'Virginia Tech'\n",
    "unis2020.loc[unis2020['INSTNM']=='University of Illinois Urbana-Champaign', 'INSTNM'] = 'University of Illinois at Urbana-Champaign'\n",
    "unis2020.loc[(unis2020['INSTNM']==\"St. John's College\") & (unis2020['STABBR']=='MD'), 'INSTNM'] = \"St. John's College - MD\"\n",
    "unis2020.loc[(unis2020['INSTNM']==\"St. John's College\") & (unis2020['STABBR']=='NM'), 'INSTNM'] = \"St. John's College - NM\"\n",
    "unis2020.loc[unis2020['INSTNM']==\"William & Mary\", 'INSTNM'] = \"College of William and Mary\"\n",
    "unis2020.loc[(unis2020['INSTNM']==\"Brigham Young University\") & (unis2020['CITY']=='Provo'), 'INSTNM'] = \"Brigham Young University-Provo\"\n",
    "unis2020.loc[(unis2020['INSTNM']==\"The University of the South\") & (unis2020['CITY']=='Sewanee'), 'INSTNM'] = \"Sewanee - The University of the South\"\n",
    "\n",
    "### Labeling \n",
    "\n",
    "# Making sure all institutes are captured in ranking\n"
   ]
  },
  {
   "cell_type": "code",
   "execution_count": null,
   "metadata": {},
   "outputs": [],
   "source": [
    "unis\n",
    "unis.iloc[0].index"
   ]
  },
  {
   "cell_type": "code",
   "execution_count": null,
   "metadata": {},
   "outputs": [],
   "source": [
    "data.head()"
   ]
  },
  {
   "cell_type": "code",
   "execution_count": null,
   "metadata": {},
   "outputs": [],
   "source": [
    "data2020 = pd.read_csv('../data/IPEDS/c2020_a.csv')\n",
    "boolmap2020 = data2020['CIPCODE'].apply(lambda x: x >= 11 and x < 12)\n",
    "cs2020 = data2020[boolmap2020]\n",
    "sums2020 = cs2020.groupby('UNITID').sum()\n",
    "sums2020 = sums2020.reset_index()\n",
    "sums2020.head()"
   ]
  },
  {
   "cell_type": "code",
   "execution_count": null,
   "metadata": {},
   "outputs": [],
   "source": [
    "cs2020"
   ]
  },
  {
   "cell_type": "code",
   "execution_count": null,
   "metadata": {},
   "outputs": [],
   "source": [
    "# CTOTALW = total women\n",
    "# CAIANT = total native\n",
    "# CBKAAT = total black\n",
    "# CHISPT = hispanic total\n",
    "columns = ['UNITID', 'CTOTALW', 'CAIANT', 'CBKAAT', 'CHISPT']\n",
    "filtered = sums2020[columns]\n",
    "#filtered.columns = ['unitid', 'women', 'native', 'black', 'hispanic']\n",
    "merged2020 = pd.merge(filtered, unis2020[['UNITID', 'INSTNM']], on = 'UNITID', how='left')\n",
    "#merged[['un', 'INSTNM', 'women', 'native', 'black', 'hi]\n",
    "merged2020 = merged2020[['UNITID', 'INSTNM', 'CTOTALW', 'CAIANT', 'CBKAAT', 'CHISPT']]\n",
    "merged2020.columns = ['unitid', 'name', 'women', 'native', 'black', 'hispanic']\n",
    "merged2020\n"
   ]
  },
  {
   "cell_type": "code",
   "execution_count": null,
   "metadata": {},
   "outputs": [],
   "source": [
    "plt.hist(merged2020['women'], label = 'women', alpha = 0.5)\n",
    "plt.yscale('log')\n",
    "plt.title('Women')\n",
    "plt.xlabel('Graduates')\n",
    "plt.ylabel('# of Institutions')\n",
    "boolmap_women = merged2020['women']==merged2020['women'].max()\n",
    "women = merged2020[boolmap_women]\n",
    "women['name']\n",
    "plt.hist(merged2020['black'], label = 'black', alpha = 0.5)\n",
    "plt.legend()\n",
    "\n"
   ]
  },
  {
   "cell_type": "code",
   "execution_count": null,
   "metadata": {},
   "outputs": [],
   "source": [
    "# now we make the scatter plot\n",
    "# women and black\n",
    "\n",
    "plt.scatter(merged2020['women'], merged2020['black'])\n",
    "plt.yscale('log')\n",
    "plt.xscale('log')\n",
    "plt.xlabel('women')\n",
    "plt.ylabel('black')"
   ]
  },
  {
   "cell_type": "code",
   "execution_count": null,
   "metadata": {},
   "outputs": [],
   "source": [
    "import seaborn as sns\n",
    "states = pd.merge(merged2020, unis2020[['UNITID', 'STABBR']], left_on= 'unitid', right_on='UNITID', how='left')\n",
    "#plt.scatter(states['women'], states['black'], c=states['STABBR'])\n",
    "sns.scatterplot(data = states, x = 'women', y='black', hue = 'STABBR')\n",
    "plt.yscale('log')\n",
    "plt.xscale('log')\n",
    "plt.xlabel('women')\n",
    "plt.ylabel('black')\n"
   ]
  },
  {
   "cell_type": "code",
   "execution_count": null,
   "metadata": {},
   "outputs": [],
   "source": [
    "# women and hispanic\n",
    "\n",
    "plt.scatter(merged2020['women'], merged2020['hispanic'])\n",
    "plt.yscale('log')\n",
    "plt.xscale('log')\n",
    "plt.xlabel('women')\n",
    "plt.ylabel('hispanic')"
   ]
  },
  {
   "cell_type": "code",
   "execution_count": null,
   "metadata": {},
   "outputs": [],
   "source": [
    "# women and native\n",
    "\n",
    "plt.scatter(merged2020['women'], merged2020['native'])\n",
    "plt.yscale('log')\n",
    "plt.xscale('log')\n",
    "plt.xlabel('women')\n",
    "plt.ylabel('native')"
   ]
  },
  {
   "cell_type": "code",
   "execution_count": null,
   "metadata": {},
   "outputs": [],
   "source": [
    "# black and hispanic\n",
    "\n",
    "plt.scatter(merged2020['black'], merged2020['hispanic'])\n",
    "plt.yscale('log')\n",
    "plt.xscale('log')\n",
    "plt.xlabel('black')\n",
    "plt.ylabel('hispanic')"
   ]
  },
  {
   "cell_type": "code",
   "execution_count": null,
   "metadata": {},
   "outputs": [],
   "source": [
    "# black and native\n",
    "\n",
    "plt.scatter(merged2020['black'], merged2020['native'])\n",
    "plt.yscale('log')\n",
    "plt.xscale('log')\n",
    "plt.xlabel('black')\n",
    "plt.ylabel('native')"
   ]
  },
  {
   "cell_type": "code",
   "execution_count": null,
   "metadata": {},
   "outputs": [],
   "source": [
    "# native and hispanic\n",
    "\n",
    "plt.scatter(merged2020['native'], merged2020['hispanic'])\n",
    "plt.yscale('log')\n",
    "plt.xscale('log')\n",
    "plt.xlabel('native')\n",
    "plt.ylabel('hispanic')"
   ]
  },
  {
   "cell_type": "code",
   "execution_count": null,
   "metadata": {},
   "outputs": [],
   "source": [
    "position = pd.merge(merged2020, unis2020[['UNITID', 'LONGITUD', 'LATITUDE']], left_on='unitid', right_on='UNITID', how='left')\n"
   ]
  },
  {
   "cell_type": "code",
   "execution_count": null,
   "metadata": {},
   "outputs": [],
   "source": [
    "#women\n",
    "from math import log\n",
    "plt.figure(figsize = (10, 5))\n",
    "womenBool = position['women'].apply(lambda x: x > 0)\n",
    "womenPosition = position[womenBool]\n",
    "plt.scatter(womenPosition['LONGITUD'], womenPosition['LATITUDE'], c=womenPosition['women'].apply(log), s=20, alpha = 0.5)\n",
    "plt.ylabel('longitude')\n",
    "plt.xlabel('latitude')\n",
    "plt.xlim(-130, -60)\n",
    "plt.ylim(20, 55)\n",
    "plt.colorbar()\n"
   ]
  },
  {
   "cell_type": "code",
   "execution_count": null,
   "metadata": {},
   "outputs": [],
   "source": [
    "blackPosition.sort_values('black', ascending=False)[:20]"
   ]
  },
  {
   "cell_type": "code",
   "execution_count": null,
   "metadata": {},
   "outputs": [],
   "source": [
    "#black\n",
    "\n",
    "blackBool = position['black'].apply(lambda x: x > 0)\n",
    "blackPosition = position[blackBool]\n",
    "plt.figure(figsize = (10, 5))\n",
    "plt.scatter(blackPosition['LONGITUD'], blackPosition['LATITUDE'], c = blackPosition['black'].apply(log), s = 50, alpha = 0.5)\n",
    "plt.xlabel('longitude')\n",
    "plt.ylabel('latitude')\n",
    "plt.xlim(-130, -60)\n",
    "plt.ylim(20, 55)\n",
    "plt.colorbar()"
   ]
  },
  {
   "cell_type": "code",
   "execution_count": null,
   "metadata": {},
   "outputs": [],
   "source": [
    "#hispanic\n",
    "\n",
    "hispanicBool = position['hispanic'].apply(lambda x: x > 0)\n",
    "hispanicPosition = position[hispanicBool]\n",
    "plt.figure(figsize = (10, 5))\n",
    "plt.scatter(hispanicPosition['LONGITUD'], hispanicPosition['LATITUDE'], c = hispanicPosition['hispanic'].apply(log), s = 50, alpha = 0.5)\n",
    "plt.xlabel('longitude')\n",
    "plt.ylabel('latitude')\n",
    "plt.xlim(-130, -60)\n",
    "plt.ylim(20, 55)\n",
    "plt.colorbar()"
   ]
  },
  {
   "cell_type": "code",
   "execution_count": null,
   "metadata": {},
   "outputs": [],
   "source": [
    "#native\n",
    "\n",
    "nativeBool = position['native'].apply(lambda x: x > 0)\n",
    "nativePosition = position[nativeBool]\n",
    "plt.figure(figsize = (10, 5))\n",
    "plt.scatter(nativePosition['LONGITUD'], nativePosition['LATITUDE'], c = nativePosition['native'].apply(log), s = 50, alpha = 0.5)\n",
    "plt.xlabel('longitude')\n",
    "plt.ylabel('latitude')\n",
    "plt.xlim(-130, -60)\n",
    "plt.ylim(20, 55)\n",
    "plt.colorbar()"
   ]
  },
  {
   "cell_type": "code",
   "execution_count": null,
   "metadata": {},
   "outputs": [],
   "source": [
    "final.head()"
   ]
  },
  {
   "cell_type": "code",
   "execution_count": null,
   "metadata": {},
   "outputs": [],
   "source": [
    "final = pd.merge(merged2020, sums2020[['UNITID', 'CTOTALT']], left_on='unitid', right_on='UNITID')\n",
    "#rawPercentages = final[['women', 'black', 'hispanic', 'native', 'CTOTALT']]\n",
    "#rawPercentages.columns = ['women', 'black', 'hispanic', 'native', 'total']\n",
    "final_clean = final.drop('UNITID', axis=1)\n",
    "# grobj = oneUnitId.groupby(['unitid', 'name'])\n",
    "final_indexed = final_clean.set_index(['unitid', 'name'])\n",
    "percentages = final_indexed.apply(lambda x: x / x['CTOTALT'], axis=1)\n",
    "# percentages = grobj.apply(lambda x: x / grobj['CTOTALT'])\n",
    "#percentages = final[['women', 'black', 'hispanic', 'native']].apply(lambda x: x / rawPercentages['total'])\n",
    "#final = final['unitid']\n",
    "#percentages.head()\n"
   ]
  },
  {
   "cell_type": "code",
   "execution_count": null,
   "metadata": {},
   "outputs": [],
   "source": [
    "percentages.reset_index()"
   ]
  },
  {
   "cell_type": "code",
   "execution_count": null,
   "metadata": {},
   "outputs": [],
   "source": [
    "percentages.head()"
   ]
  },
  {
   "cell_type": "code",
   "execution_count": null,
   "metadata": {},
   "outputs": [],
   "source": []
  },
  {
   "cell_type": "code",
   "execution_count": null,
   "metadata": {},
   "outputs": [],
   "source": [
    "import seaborn as sns\n",
    "states = pd.merge(percentages, unis2020[['UNITID', 'STABBR']], left_on= 'unitid', right_on='UNITID', how='left')\n",
    "#plt.scatter(states['women'], states['black'], c=states['STABBR'])\n",
    "sns.scatterplot(data = states, x = 'women', y='black', hue = 'STABBR')\n",
    "plt.yscale('log')\n",
    "plt.xscale('log')\n",
    "plt.xlabel('women')\n",
    "plt.ylabel('black')\n"
   ]
  },
  {
   "cell_type": "code",
   "execution_count": null,
   "metadata": {},
   "outputs": [],
   "source": [
    "\n",
    "sns.scatterplot(data = states, x = 'women', y='hispanic', hue = 'STABBR')\n",
    "plt.yscale('log')\n",
    "plt.xscale('log')\n",
    "plt.xlabel('women')\n",
    "plt.ylabel('hispanic')\n"
   ]
  },
  {
   "cell_type": "code",
   "execution_count": null,
   "metadata": {},
   "outputs": [],
   "source": [
    "\n",
    "sns.scatterplot(data = states, x = 'women', y='native', hue = 'STABBR')\n",
    "plt.yscale('log')\n",
    "plt.xscale('log')\n",
    "plt.xlabel('women')\n",
    "plt.ylabel('native')\n"
   ]
  },
  {
   "cell_type": "code",
   "execution_count": null,
   "metadata": {},
   "outputs": [],
   "source": [
    "\n",
    "sns.scatterplot(data = states, x = 'hispanic', y='black', hue = 'STABBR')\n",
    "plt.yscale('log')\n",
    "plt.xscale('log')\n",
    "plt.xlabel('hispanic')\n",
    "plt.ylabel('black')\n"
   ]
  },
  {
   "cell_type": "code",
   "execution_count": null,
   "metadata": {},
   "outputs": [],
   "source": [
    "\n",
    "sns.scatterplot(data = states, x = 'native', y='black', hue = 'STABBR')\n",
    "plt.yscale('log')\n",
    "plt.xscale('log')\n",
    "plt.xlabel('native')\n",
    "plt.ylabel('black')\n"
   ]
  },
  {
   "cell_type": "code",
   "execution_count": null,
   "metadata": {},
   "outputs": [],
   "source": [
    "\n",
    "sns.scatterplot(data = states, x = 'native', y='hispanic', hue = 'STABBR')\n",
    "plt.yscale('log')\n",
    "plt.xscale('log')\n",
    "plt.xlabel('native')\n",
    "plt.ylabel('hispanic')\n"
   ]
  },
  {
   "cell_type": "code",
   "execution_count": null,
   "metadata": {},
   "outputs": [],
   "source": [
    "percentagesPosition = pd.merge(percentages, unis2020[['UNITID', 'LONGITUD', 'LATITUDE']], left_on='unitid', right_on='UNITID', how='left')"
   ]
  },
  {
   "cell_type": "code",
   "execution_count": null,
   "metadata": {},
   "outputs": [],
   "source": [
    "#women\n",
    "from math import log\n",
    "plt.figure(figsize = (10, 5))\n",
    "womenBool = percentagesPosition['women'].apply(lambda x: x > 0)\n",
    "womenPercentPosition = percentagesPosition[womenBool]\n",
    "plt.scatter(womenPercentPosition['LONGITUD'], womenPercentPosition['LATITUDE'], c=womenPercentPosition['women'].apply(log), s=20, alpha = 0.5)\n",
    "plt.ylabel('longitude')\n",
    "plt.xlabel('latitude')\n",
    "plt.xlim(-130, -60)\n",
    "plt.ylim(20, 55)\n",
    "plt.colorbar()"
   ]
  },
  {
   "cell_type": "code",
   "execution_count": null,
   "metadata": {},
   "outputs": [],
   "source": [
    "#black\n",
    "from math import log\n",
    "plt.figure(figsize = (10, 5))\n",
    "blackBool = percentagesPosition['black'].apply(lambda x: x > 0)\n",
    "blackPercentPosition = percentagesPosition[blackBool]\n",
    "plt.scatter(blackPercentPosition['LONGITUD'], blackPercentPosition['LATITUDE'], c=blackPercentPosition['black'].apply(log), s=20, alpha = 0.5)\n",
    "plt.ylabel('longitude')\n",
    "plt.xlabel('latitude')\n",
    "plt.xlim(-130, -60)\n",
    "plt.ylim(20, 55)\n",
    "plt.colorbar()"
   ]
  },
  {
   "cell_type": "code",
   "execution_count": null,
   "metadata": {},
   "outputs": [],
   "source": [
    "#hispanic\n",
    "from math import log\n",
    "plt.figure(figsize = (10, 5))\n",
    "hispanicBool = percentagesPosition['hispanic'].apply(lambda x: x > 0)\n",
    "hispanicPercentPosition = percentagesPosition[hispanicBool]\n",
    "plt.scatter(hispanicPercentPosition['LONGITUD'], hispanicPercentPosition['LATITUDE'], c=hispanicPercentPosition['hispanic'].apply(log), s=20, alpha = 0.5)\n",
    "plt.ylabel('longitude')\n",
    "plt.xlabel('latitude')\n",
    "plt.xlim(-130, -60)\n",
    "plt.ylim(20, 55)\n",
    "plt.colorbar()"
   ]
  },
  {
   "cell_type": "code",
   "execution_count": null,
   "metadata": {},
   "outputs": [],
   "source": [
    "#native\n",
    "from math import log\n",
    "plt.figure(figsize = (10, 5))\n",
    "nativeBool = percentagesPosition['native'].apply(lambda x: x > 0)\n",
    "nativePercentPosition = percentagesPosition[nativeBool]\n",
    "plt.scatter(nativePercentPosition['LONGITUD'], nativePercentPosition['LATITUDE'], c=nativePercentPosition['native'].apply(log), s=20, alpha = 0.5)\n",
    "plt.ylabel('longitude')\n",
    "plt.xlabel('latitude')\n",
    "plt.xlim(-130, -60)\n",
    "plt.ylim(20, 55)\n",
    "plt.colorbar()"
   ]
  },
  {
   "cell_type": "code",
   "execution_count": null,
   "metadata": {},
   "outputs": [],
   "source": [
    "#Reading meta-data files\n",
    "unis2015 = pd.read_csv('../data/IPEDS/hd2015.csv',encoding='cp1252')\n",
    "\n",
    "\n",
    "## Preprocessing meta-data files\n",
    "### Updating names to match in rankings  \n",
    "unis2015.loc[unis2015['IALIAS']=='Virginia Tech', 'INSTNM'] = 'Virginia Tech'\n",
    "unis2015.loc[unis2015['INSTNM']=='University of Illinois Urbana-Champaign', 'INSTNM'] = 'University of Illinois at Urbana-Champaign'\n",
    "unis2015.loc[(unis2015['INSTNM']==\"St. John's College\") & (unis2020['STABBR']=='MD'), 'INSTNM'] = \"St. John's College - MD\"\n",
    "unis2015.loc[(unis2015['INSTNM']==\"St. John's College\") & (unis2020['STABBR']=='NM'), 'INSTNM'] = \"St. John's College - NM\"\n",
    "unis2015.loc[unis2015['INSTNM']==\"William & Mary\", 'INSTNM'] = \"College of William and Mary\"\n",
    "unis2015.loc[(unis2015['INSTNM']==\"Brigham Young University\") & (unis2020['CITY']=='Provo'), 'INSTNM'] = \"Brigham Young University-Provo\"\n",
    "unis2015.loc[(unis2015['INSTNM']==\"The University of the South\") & (unis2020['CITY']=='Sewanee'), 'INSTNM'] = \"Sewanee - The University of the South\"\n",
    "\n",
    "### Labeling \n",
    "\n",
    "# Making sure all institutes are captured in ranking"
   ]
  },
  {
   "cell_type": "code",
   "execution_count": null,
   "metadata": {},
   "outputs": [],
   "source": [
    "data2015 = pd.read_csv('../data/IPEDS/c2015_a.csv')\n",
    "boolmap2015 = data2015['CIPCODE'].apply(lambda x: x >= 11 and x < 12)\n",
    "cs2015 = data2015[boolmap2015]\n",
    "sums2015 = cs2015.groupby('UNITID').sum()\n",
    "sums2015 = sums2015.reset_index()\n",
    "sums2015.head()"
   ]
  },
  {
   "cell_type": "code",
   "execution_count": null,
   "metadata": {},
   "outputs": [],
   "source": [
    "\n",
    "filtered2015 = sums2015[columns]\n",
    "#filtered.columns = ['unitid', 'women', 'native', 'black', 'hispanic']\n",
    "merged2015 = pd.merge(filtered2015, unis2015[['UNITID', 'INSTNM']], on = 'UNITID', how='left')\n",
    "#merged[['un', 'INSTNM', 'women', 'native', 'black', 'hi]\n",
    "merged2015 = merged2015[['UNITID', 'INSTNM', 'CTOTALW', 'CAIANT', 'CBKAAT', 'CHISPT']]\n",
    "merged2015.columns = ['unitid', 'name', 'women', 'native', 'black', 'hispanic']\n",
    "merged2015"
   ]
  },
  {
   "cell_type": "code",
   "execution_count": null,
   "metadata": {},
   "outputs": [],
   "source": [
    "final2015 = pd.merge(merged2015, sums2015[['UNITID', 'CTOTALT']], left_on='unitid', right_on='UNITID')\n",
    "#rawPercentages = final[['women', 'black', 'hispanic', 'native', 'CTOTALT']]\n",
    "#rawPercentages.columns = ['women', 'black', 'hispanic', 'native', 'total']\n",
    "final_clean2015 = final2015.drop('UNITID', axis=1)\n",
    "# grobj = oneUnitId.groupby(['unitid', 'name'])\n",
    "final_indexed2015 = final_clean2015.set_index(['unitid', 'name'])\n",
    "percentages2015 = final_indexed2015.apply(lambda x: x / x['CTOTALT'], axis=1)"
   ]
  },
  {
   "cell_type": "code",
   "execution_count": null,
   "metadata": {},
   "outputs": [],
   "source": [
    "percentages2015.head()"
   ]
  },
  {
   "cell_type": "code",
   "execution_count": null,
   "metadata": {},
   "outputs": [],
   "source": [
    "#Reading meta-data files\n",
    "unis2016 = pd.read_csv('../data/IPEDS/hd2016.csv',encoding='cp1252')\n",
    "\n",
    "\n",
    "## Preprocessing meta-data files\n",
    "### Updating names to match in rankings  \n",
    "unis2016.loc[unis2016['IALIAS']=='Virginia Tech', 'INSTNM'] = 'Virginia Tech'\n",
    "unis2016.loc[unis2016['INSTNM']=='University of Illinois Urbana-Champaign', 'INSTNM'] = 'University of Illinois at Urbana-Champaign'\n",
    "unis2016.loc[(unis2016['INSTNM']==\"St. John's College\") & (unis2020['STABBR']=='MD'), 'INSTNM'] = \"St. John's College - MD\"\n",
    "unis2016.loc[(unis2016['INSTNM']==\"St. John's College\") & (unis2020['STABBR']=='NM'), 'INSTNM'] = \"St. John's College - NM\"\n",
    "unis2016.loc[unis2016['INSTNM']==\"William & Mary\", 'INSTNM'] = \"College of William and Mary\"\n",
    "unis2016.loc[(unis2016['INSTNM']==\"Brigham Young University\") & (unis2020['CITY']=='Provo'), 'INSTNM'] = \"Brigham Young University-Provo\"\n",
    "unis2016.loc[(unis2016['INSTNM']==\"The University of the South\") & (unis2020['CITY']=='Sewanee'), 'INSTNM'] = \"Sewanee - The University of the South\""
   ]
  },
  {
   "cell_type": "code",
   "execution_count": null,
   "metadata": {},
   "outputs": [],
   "source": [
    "data2016 = pd.read_csv('../data/IPEDS/c2016_a.csv')\n",
    "boolmap2016 = data2016['CIPCODE'].apply(lambda x: x >= 11 and x < 12)\n",
    "cs2016 = data2016[boolmap2016]\n",
    "sums2016 = cs2016.groupby('UNITID').sum()\n",
    "sums2016 = sums2016.reset_index()\n",
    "sums2016.head()"
   ]
  },
  {
   "cell_type": "code",
   "execution_count": null,
   "metadata": {},
   "outputs": [],
   "source": [
    "\n",
    "filtered2016 = sums2016[columns]\n",
    "#filtered.columns = ['unitid', 'women', 'native', 'black', 'hispanic']\n",
    "merged2016 = pd.merge(filtered2016, unis2016[['UNITID', 'INSTNM']], on = 'UNITID', how='left')\n",
    "#merged[['un', 'INSTNM', 'women', 'native', 'black', 'hi]\n",
    "merged2016 = merged2016[['UNITID', 'INSTNM', 'CTOTALW', 'CAIANT', 'CBKAAT', 'CHISPT']]\n",
    "merged2016.columns = ['unitid', 'name', 'women', 'native', 'black', 'hispanic']\n",
    "merged2016"
   ]
  },
  {
   "cell_type": "code",
   "execution_count": null,
   "metadata": {},
   "outputs": [],
   "source": [
    "final2016 = pd.merge(merged2016, sums2016[['UNITID', 'CTOTALT']], left_on='unitid', right_on='UNITID')\n",
    "#rawPercentages = final[['women', 'black', 'hispanic', 'native', 'CTOTALT']]\n",
    "#rawPercentages.columns = ['women', 'black', 'hispanic', 'native', 'total']\n",
    "final_clean2016 = final2016.drop('UNITID', axis=1)\n",
    "# grobj = oneUnitId.groupby(['unitid', 'name'])\n",
    "final_indexed2016 = final_clean2016.set_index(['unitid', 'name'])\n",
    "percentages2016 = final_indexed2016.apply(lambda x: x / x['CTOTALT'], axis=1)"
   ]
  },
  {
   "cell_type": "code",
   "execution_count": null,
   "metadata": {},
   "outputs": [],
   "source": [
    "percentages2016.head()"
   ]
  },
  {
   "cell_type": "code",
   "execution_count": null,
   "metadata": {},
   "outputs": [],
   "source": [
    "#Reading meta-data files\n",
    "unis2017 = pd.read_csv('../data/IPEDS/hd2017.csv',encoding='cp1252')\n",
    "\n",
    "\n",
    "## Preprocessing meta-data files\n",
    "### Updating names to match in rankings  \n",
    "unis2017.loc[unis2017['IALIAS']=='Virginia Tech', 'INSTNM'] = 'Virginia Tech'\n",
    "unis2017.loc[unis2017['INSTNM']=='University of Illinois Urbana-Champaign', 'INSTNM'] = 'University of Illinois at Urbana-Champaign'\n",
    "unis2017.loc[(unis2017['INSTNM']==\"St. John's College\") & (unis2020['STABBR']=='MD'), 'INSTNM'] = \"St. John's College - MD\"\n",
    "unis2017.loc[(unis2017['INSTNM']==\"St. John's College\") & (unis2020['STABBR']=='NM'), 'INSTNM'] = \"St. John's College - NM\"\n",
    "unis2017.loc[unis2017['INSTNM']==\"William & Mary\", 'INSTNM'] = \"College of William and Mary\"\n",
    "unis2017.loc[(unis2017['INSTNM']==\"Brigham Young University\") & (unis2020['CITY']=='Provo'), 'INSTNM'] = \"Brigham Young University-Provo\"\n",
    "unis2017.loc[(unis2017['INSTNM']==\"The University of the South\") & (unis2020['CITY']=='Sewanee'), 'INSTNM'] = \"Sewanee - The University of the South\""
   ]
  },
  {
   "cell_type": "code",
   "execution_count": null,
   "metadata": {},
   "outputs": [],
   "source": [
    "data2017 = pd.read_csv('../data/IPEDS/c2017_a.csv')\n",
    "boolmap2017 = data2017['CIPCODE'].apply(lambda x: x >= 11 and x < 12)\n",
    "cs2017 = data2017[boolmap2017]\n",
    "sums2017 = cs2017.groupby('UNITID').sum()\n",
    "sums2017 = sums2017.reset_index()\n",
    "sums2017.head()"
   ]
  },
  {
   "cell_type": "code",
   "execution_count": null,
   "metadata": {},
   "outputs": [],
   "source": [
    "\n",
    "filtered2017 = sums2017[columns]\n",
    "#filtered.columns = ['unitid', 'women', 'native', 'black', 'hispanic']\n",
    "merged2017 = pd.merge(filtered2017, unis2017[['UNITID', 'INSTNM']], on = 'UNITID', how='left')\n",
    "#merged[['un', 'INSTNM', 'women', 'native', 'black', 'hi]\n",
    "merged2017 = merged2017[['UNITID', 'INSTNM', 'CTOTALW', 'CAIANT', 'CBKAAT', 'CHISPT']]\n",
    "merged2017.columns = ['unitid', 'name', 'women', 'native', 'black', 'hispanic']\n",
    "merged2017"
   ]
  },
  {
   "cell_type": "code",
   "execution_count": null,
   "metadata": {},
   "outputs": [],
   "source": [
    "final2017 = pd.merge(merged2017, sums2017[['UNITID', 'CTOTALT']], left_on='unitid', right_on='UNITID')\n",
    "#rawPercentages = final[['women', 'black', 'hispanic', 'native', 'CTOTALT']]\n",
    "#rawPercentages.columns = ['women', 'black', 'hispanic', 'native', 'total']\n",
    "final_clean2017 = final2017.drop('UNITID', axis=1)\n",
    "# grobj = oneUnitId.groupby(['unitid', 'name'])\n",
    "final_indexed2017 = final_clean2017.set_index(['unitid', 'name'])\n",
    "percentages2017 = final_indexed2017.apply(lambda x: x / x['CTOTALT'], axis=1)"
   ]
  },
  {
   "cell_type": "code",
   "execution_count": null,
   "metadata": {},
   "outputs": [],
   "source": [
    "percentages2017.head()"
   ]
  },
  {
   "cell_type": "code",
   "execution_count": null,
   "metadata": {},
   "outputs": [],
   "source": [
    "#Reading meta-data files\n",
    "unis2018 = pd.read_csv('../data/IPEDS/hd2018.csv',encoding='cp1252')\n",
    "\n",
    "\n",
    "## Preprocessing meta-data files\n",
    "### Updating names to match in rankings  \n",
    "unis2018.loc[unis2018['IALIAS']=='Virginia Tech', 'INSTNM'] = 'Virginia Tech'\n",
    "unis2018.loc[unis2018['INSTNM']=='University of Illinois Urbana-Champaign', 'INSTNM'] = 'University of Illinois at Urbana-Champaign'\n",
    "unis2018.loc[(unis2018['INSTNM']==\"St. John's College\") & (unis2020['STABBR']=='MD'), 'INSTNM'] = \"St. John's College - MD\"\n",
    "unis2018.loc[(unis2018['INSTNM']==\"St. John's College\") & (unis2020['STABBR']=='NM'), 'INSTNM'] = \"St. John's College - NM\"\n",
    "unis2018.loc[unis2018['INSTNM']==\"William & Mary\", 'INSTNM'] = \"College of William and Mary\"\n",
    "unis2018.loc[(unis2018['INSTNM']==\"Brigham Young University\") & (unis2020['CITY']=='Provo'), 'INSTNM'] = \"Brigham Young University-Provo\"\n",
    "unis2018.loc[(unis2018['INSTNM']==\"The University of the South\") & (unis2020['CITY']=='Sewanee'), 'INSTNM'] = \"Sewanee - The University of the South\""
   ]
  },
  {
   "cell_type": "code",
   "execution_count": null,
   "metadata": {},
   "outputs": [],
   "source": [
    "data2018 = pd.read_csv('../data/IPEDS/c2018_a.csv')\n",
    "boolmap2018 = data2018['CIPCODE'].apply(lambda x: x >= 11 and x < 12)\n",
    "cs2018 = data2018[boolmap2018]\n",
    "sums2018 = cs2018.groupby('UNITID').sum()\n",
    "sums2018 = sums2018.reset_index()\n",
    "sums2018.head()"
   ]
  },
  {
   "cell_type": "code",
   "execution_count": null,
   "metadata": {},
   "outputs": [],
   "source": [
    "\n",
    "filtered2018 = sums2018[columns]\n",
    "#filtered.columns = ['unitid', 'women', 'native', 'black', 'hispanic']\n",
    "merged2018 = pd.merge(filtered2018, unis2018[['UNITID', 'INSTNM']], on = 'UNITID', how='left')\n",
    "#merged[['un', 'INSTNM', 'women', 'native', 'black', 'hi]\n",
    "merged2018 = merged2018[['UNITID', 'INSTNM', 'CTOTALW', 'CAIANT', 'CBKAAT', 'CHISPT']]\n",
    "merged2018.columns = ['unitid', 'name', 'women', 'native', 'black', 'hispanic']\n",
    "merged2018"
   ]
  },
  {
   "cell_type": "code",
   "execution_count": null,
   "metadata": {},
   "outputs": [],
   "source": [
    "final2018 = pd.merge(merged2018, sums2018[['UNITID', 'CTOTALT']], left_on='unitid', right_on='UNITID')\n",
    "#rawPercentages = final[['women', 'black', 'hispanic', 'native', 'CTOTALT']]\n",
    "#rawPercentages.columns = ['women', 'black', 'hispanic', 'native', 'total']\n",
    "final_clean2018 = final2018.drop('UNITID', axis=1)\n",
    "# grobj = oneUnitId.groupby(['unitid', 'name'])\n",
    "final_indexed2018 = final_clean2018.set_index(['unitid', 'name'])\n",
    "percentages2018 = final_indexed2018.apply(lambda x: x / x['CTOTALT'], axis=1)"
   ]
  },
  {
   "cell_type": "code",
   "execution_count": null,
   "metadata": {},
   "outputs": [],
   "source": [
    "percentages2018.head()"
   ]
  },
  {
   "cell_type": "code",
   "execution_count": null,
   "metadata": {},
   "outputs": [],
   "source": [
    "#Reading meta-data files\n",
    "unis2019 = pd.read_csv('../data/IPEDS/hd2019.csv',encoding='cp1252')\n",
    "\n",
    "\n",
    "## Preprocessing meta-data files\n",
    "### Updating names to match in rankings  \n",
    "unis2019.loc[unis2019['IALIAS']=='Virginia Tech', 'INSTNM'] = 'Virginia Tech'\n",
    "unis2019.loc[unis2019['INSTNM']=='University of Illinois Urbana-Champaign', 'INSTNM'] = 'University of Illinois at Urbana-Champaign'\n",
    "unis2019.loc[(unis2019['INSTNM']==\"St. John's College\") & (unis2020['STABBR']=='MD'), 'INSTNM'] = \"St. John's College - MD\"\n",
    "unis2019.loc[(unis2019['INSTNM']==\"St. John's College\") & (unis2020['STABBR']=='NM'), 'INSTNM'] = \"St. John's College - NM\"\n",
    "unis2019.loc[unis2019['INSTNM']==\"William & Mary\", 'INSTNM'] = \"College of William and Mary\"\n",
    "unis2019.loc[(unis2019['INSTNM']==\"Brigham Young University\") & (unis2020['CITY']=='Provo'), 'INSTNM'] = \"Brigham Young University-Provo\"\n",
    "unis2019.loc[(unis2019['INSTNM']==\"The University of the South\") & (unis2020['CITY']=='Sewanee'), 'INSTNM'] = \"Sewanee - The University of the South\""
   ]
  },
  {
   "cell_type": "code",
   "execution_count": null,
   "metadata": {},
   "outputs": [],
   "source": [
    "data2019 = pd.read_csv('../data/IPEDS/c2019_a.csv')\n",
    "boolmap2019 = data2019['CIPCODE'].apply(lambda x: x >= 11 and x < 12)\n",
    "cs2019 = data2019[boolmap2019]\n",
    "sums2019 = cs2019.groupby('UNITID').sum()\n",
    "sums2019 = sums2019.reset_index()\n",
    "sums2019.head()"
   ]
  },
  {
   "cell_type": "code",
   "execution_count": null,
   "metadata": {},
   "outputs": [],
   "source": [
    "\n",
    "filtered2019 = sums2019[columns]\n",
    "#filtered.columns = ['unitid', 'women', 'native', 'black', 'hispanic']\n",
    "merged2019 = pd.merge(filtered2019, unis2019[['UNITID', 'INSTNM']], on = 'UNITID', how='left')\n",
    "#merged[['un', 'INSTNM', 'women', 'native', 'black', 'hi]\n",
    "merged2019 = merged2019[['UNITID', 'INSTNM', 'CTOTALW', 'CAIANT', 'CBKAAT', 'CHISPT']]\n",
    "merged2019.columns = ['unitid', 'name', 'women', 'native', 'black', 'hispanic']\n",
    "merged2019"
   ]
  },
  {
   "cell_type": "code",
   "execution_count": null,
   "metadata": {},
   "outputs": [],
   "source": [
    "final2019 = pd.merge(merged2019, sums2019[['UNITID', 'CTOTALT']], left_on='unitid', right_on='UNITID')\n",
    "#rawPercentages = final[['women', 'black', 'hispanic', 'native', 'CTOTALT']]\n",
    "#rawPercentages.columns = ['women', 'black', 'hispanic', 'native', 'total']\n",
    "final_clean2019 = final2019.drop('UNITID', axis=1)\n",
    "# grobj = oneUnitId.groupby(['unitid', 'name'])\n",
    "final_indexed2019 = final_clean2019.set_index(['unitid', 'name'])\n",
    "percentages2019 = final_indexed2019.apply(lambda x: x / x['CTOTALT'], axis=1)"
   ]
  },
  {
   "cell_type": "code",
   "execution_count": 639,
   "metadata": {},
   "outputs": [
    {
     "data": {
      "text/html": [
       "<div>\n",
       "<style scoped>\n",
       "    .dataframe tbody tr th:only-of-type {\n",
       "        vertical-align: middle;\n",
       "    }\n",
       "\n",
       "    .dataframe tbody tr th {\n",
       "        vertical-align: top;\n",
       "    }\n",
       "\n",
       "    .dataframe thead th {\n",
       "        text-align: right;\n",
       "    }\n",
       "</style>\n",
       "<table border=\"1\" class=\"dataframe\">\n",
       "  <thead>\n",
       "    <tr style=\"text-align: right;\">\n",
       "      <th></th>\n",
       "      <th></th>\n",
       "      <th>women</th>\n",
       "      <th>native</th>\n",
       "      <th>black</th>\n",
       "      <th>hispanic</th>\n",
       "      <th>CTOTALT</th>\n",
       "    </tr>\n",
       "    <tr>\n",
       "      <th>unitid</th>\n",
       "      <th>name</th>\n",
       "      <th></th>\n",
       "      <th></th>\n",
       "      <th></th>\n",
       "      <th></th>\n",
       "      <th></th>\n",
       "    </tr>\n",
       "  </thead>\n",
       "  <tbody>\n",
       "    <tr>\n",
       "      <th>100654</th>\n",
       "      <th>Alabama A &amp; M University</th>\n",
       "      <td>0.410256</td>\n",
       "      <td>0.000000</td>\n",
       "      <td>0.948718</td>\n",
       "      <td>0.025641</td>\n",
       "      <td>1.0</td>\n",
       "    </tr>\n",
       "    <tr>\n",
       "      <th>100663</th>\n",
       "      <th>University of Alabama at Birmingham</th>\n",
       "      <td>0.211538</td>\n",
       "      <td>0.009615</td>\n",
       "      <td>0.096154</td>\n",
       "      <td>0.000000</td>\n",
       "      <td>1.0</td>\n",
       "    </tr>\n",
       "    <tr>\n",
       "      <th>100706</th>\n",
       "      <th>University of Alabama in Huntsville</th>\n",
       "      <td>0.216867</td>\n",
       "      <td>0.006024</td>\n",
       "      <td>0.048193</td>\n",
       "      <td>0.024096</td>\n",
       "      <td>1.0</td>\n",
       "    </tr>\n",
       "    <tr>\n",
       "      <th>100724</th>\n",
       "      <th>Alabama State University</th>\n",
       "      <td>0.341463</td>\n",
       "      <td>0.000000</td>\n",
       "      <td>0.902439</td>\n",
       "      <td>0.000000</td>\n",
       "      <td>1.0</td>\n",
       "    </tr>\n",
       "    <tr>\n",
       "      <th>100751</th>\n",
       "      <th>The University of Alabama</th>\n",
       "      <td>0.180000</td>\n",
       "      <td>0.000000</td>\n",
       "      <td>0.030000</td>\n",
       "      <td>0.020000</td>\n",
       "      <td>1.0</td>\n",
       "    </tr>\n",
       "  </tbody>\n",
       "</table>\n",
       "</div>"
      ],
      "text/plain": [
       "                                               women    native     black  \\\n",
       "unitid name                                                                \n",
       "100654 Alabama A & M University             0.410256  0.000000  0.948718   \n",
       "100663 University of Alabama at Birmingham  0.211538  0.009615  0.096154   \n",
       "100706 University of Alabama in Huntsville  0.216867  0.006024  0.048193   \n",
       "100724 Alabama State University             0.341463  0.000000  0.902439   \n",
       "100751 The University of Alabama            0.180000  0.000000  0.030000   \n",
       "\n",
       "                                            hispanic  CTOTALT  \n",
       "unitid name                                                    \n",
       "100654 Alabama A & M University             0.025641      1.0  \n",
       "100663 University of Alabama at Birmingham  0.000000      1.0  \n",
       "100706 University of Alabama in Huntsville  0.024096      1.0  \n",
       "100724 Alabama State University             0.000000      1.0  \n",
       "100751 The University of Alabama            0.020000      1.0  "
      ]
     },
     "execution_count": 639,
     "metadata": {},
     "output_type": "execute_result"
    }
   ],
   "source": [
    "percentages2019.head()"
   ]
  },
  {
   "cell_type": "code",
   "execution_count": null,
   "metadata": {},
   "outputs": [],
   "source": [
    "import seaborn as sns\n",
    "states2015 = pd.merge(percentages2015, unis2015[['UNITID', 'STABBR']], left_on= 'unitid', right_on='UNITID', how='left')\n",
    "#plt.scatter(states['women'], states['black'], c=states['STABBR'])\n",
    "sns.scatterplot(data = states2015, x = 'women', y='black', hue = 'STABBR')\n",
    "plt.yscale('log')\n",
    "plt.xscale('log')\n",
    "plt.xlabel('women')\n",
    "plt.ylabel('black')"
   ]
  },
  {
   "cell_type": "code",
   "execution_count": null,
   "metadata": {},
   "outputs": [],
   "source": [
    "import seaborn as sns\n",
    "states2015 = pd.merge(percentages2015, unis2015[['UNITID', 'STABBR']], left_on= 'unitid', right_on='UNITID', how='left')\n",
    "#plt.scatter(states['women'], states['black'], c=states['STABBR'])\n",
    "sns.scatterplot(data = states2015, x = 'women', y='hispanic', hue = 'STABBR')\n",
    "plt.yscale('log')\n",
    "plt.xscale('log')\n",
    "plt.xlabel('women')\n",
    "plt.ylabel('hispanic')"
   ]
  },
  {
   "cell_type": "code",
   "execution_count": null,
   "metadata": {},
   "outputs": [],
   "source": [
    "import seaborn as sns\n",
    "states2015 = pd.merge(percentages2015, unis2015[['UNITID', 'STABBR']], left_on= 'unitid', right_on='UNITID', how='left')\n",
    "#plt.scatter(states['women'], states['black'], c=states['STABBR'])\n",
    "sns.scatterplot(data = states2015, x = 'women', y='native', hue = 'STABBR')\n",
    "plt.yscale('log')\n",
    "plt.xscale('log')\n",
    "plt.xlabel('women')\n",
    "plt.ylabel('native')"
   ]
  },
  {
   "cell_type": "code",
   "execution_count": null,
   "metadata": {},
   "outputs": [],
   "source": [
    "import seaborn as sns\n",
    "states2015 = pd.merge(percentages2015, unis2015[['UNITID', 'STABBR']], left_on= 'unitid', right_on='UNITID', how='left')\n",
    "#plt.scatter(states['women'], states['black'], c=states['STABBR'])\n",
    "sns.scatterplot(data = states2015, x = 'hispanic', y='black', hue = 'STABBR')\n",
    "plt.yscale('log')\n",
    "plt.xscale('log')\n",
    "plt.xlabel('hispanic')\n",
    "plt.ylabel('black')"
   ]
  },
  {
   "cell_type": "code",
   "execution_count": null,
   "metadata": {},
   "outputs": [],
   "source": [
    "import seaborn as sns\n",
    "states2015 = pd.merge(percentages2015, unis2015[['UNITID', 'STABBR']], left_on= 'unitid', right_on='UNITID', how='left')\n",
    "#plt.scatter(states['women'], states['black'], c=states['STABBR'])\n",
    "sns.scatterplot(data = states2015, x = 'native', y='black', hue = 'STABBR')\n",
    "plt.yscale('log')\n",
    "plt.xscale('log')\n",
    "plt.xlabel('native')\n",
    "plt.ylabel('black')"
   ]
  },
  {
   "cell_type": "code",
   "execution_count": null,
   "metadata": {},
   "outputs": [],
   "source": [
    "import seaborn as sns\n",
    "states2015 = pd.merge(percentages2015, unis2015[['UNITID', 'STABBR']], left_on= 'unitid', right_on='UNITID', how='left')\n",
    "#plt.scatter(states['women'], states['black'], c=states['STABBR'])\n",
    "sns.scatterplot(data = states2015, x = 'hispanic', y='native', hue = 'STABBR')\n",
    "plt.yscale('log')\n",
    "plt.xscale('log')\n",
    "plt.xlabel('hispanic')\n",
    "plt.ylabel('native')"
   ]
  },
  {
   "cell_type": "code",
   "execution_count": null,
   "metadata": {},
   "outputs": [],
   "source": [
    "import seaborn as sns\n",
    "states2016 = pd.merge(percentages2016, unis2016[['UNITID', 'STABBR']], left_on= 'unitid', right_on='UNITID', how='left')\n",
    "#plt.scatter(states['women'], states['black'], c=states['STABBR'])\n",
    "sns.scatterplot(data = states2016, x = 'women', y='black', hue = 'STABBR')\n",
    "plt.yscale('log')\n",
    "plt.xscale('log')\n",
    "plt.xlabel('women')\n",
    "plt.ylabel('black')"
   ]
  },
  {
   "cell_type": "code",
   "execution_count": null,
   "metadata": {},
   "outputs": [],
   "source": [
    "import seaborn as sns\n",
    "states2016 = pd.merge(percentages2016, unis2016[['UNITID', 'STABBR']], left_on= 'unitid', right_on='UNITID', how='left')\n",
    "#plt.scatter(states['women'], states['black'], c=states['STABBR'])\n",
    "sns.scatterplot(data = states2016, x = 'women', y='hispanic', hue = 'STABBR')\n",
    "plt.yscale('log')\n",
    "plt.xscale('log')\n",
    "plt.xlabel('women')\n",
    "plt.ylabel('hispanic')"
   ]
  },
  {
   "cell_type": "code",
   "execution_count": null,
   "metadata": {},
   "outputs": [],
   "source": [
    "import seaborn as sns\n",
    "states2016 = pd.merge(percentages2016, unis2016[['UNITID', 'STABBR']], left_on= 'unitid', right_on='UNITID', how='left')\n",
    "#plt.scatter(states['women'], states['black'], c=states['STABBR'])\n",
    "sns.scatterplot(data = states2016, x = 'women', y='native', hue = 'STABBR')\n",
    "plt.yscale('log')\n",
    "plt.xscale('log')\n",
    "plt.xlabel('women')\n",
    "plt.ylabel('native')"
   ]
  },
  {
   "cell_type": "code",
   "execution_count": null,
   "metadata": {},
   "outputs": [],
   "source": [
    "import seaborn as sns\n",
    "states2016 = pd.merge(percentages2016, unis2016[['UNITID', 'STABBR']], left_on= 'unitid', right_on='UNITID', how='left')\n",
    "#plt.scatter(states['women'], states['black'], c=states['STABBR'])\n",
    "sns.scatterplot(data = states2016, x = 'hispanic', y='black', hue = 'STABBR')\n",
    "plt.yscale('log')\n",
    "plt.xscale('log')\n",
    "plt.xlabel('hispanic')\n",
    "plt.ylabel('black')"
   ]
  },
  {
   "cell_type": "code",
   "execution_count": null,
   "metadata": {},
   "outputs": [],
   "source": [
    "import seaborn as sns\n",
    "states2016 = pd.merge(percentages2016, unis2016[['UNITID', 'STABBR']], left_on= 'unitid', right_on='UNITID', how='left')\n",
    "#plt.scatter(states['women'], states['black'], c=states['STABBR'])\n",
    "sns.scatterplot(data = states2016, x = 'native', y='black', hue = 'STABBR')\n",
    "plt.yscale('log')\n",
    "plt.xscale('log')\n",
    "plt.xlabel('native')\n",
    "plt.ylabel('black')"
   ]
  },
  {
   "cell_type": "code",
   "execution_count": null,
   "metadata": {},
   "outputs": [],
   "source": [
    "import seaborn as sns\n",
    "states2016 = pd.merge(percentages2016, unis2016[['UNITID', 'STABBR']], left_on= 'unitid', right_on='UNITID', how='left')\n",
    "#plt.scatter(states['women'], states['black'], c=states['STABBR'])\n",
    "sns.scatterplot(data = states2016, x = 'native', y='hispanic', hue = 'STABBR')\n",
    "plt.yscale('log')\n",
    "plt.xscale('log')\n",
    "plt.xlabel('native')\n",
    "plt.ylabel('hispanic')"
   ]
  },
  {
   "cell_type": "code",
   "execution_count": null,
   "metadata": {},
   "outputs": [],
   "source": [
    "import seaborn as sns\n",
    "states2017 = pd.merge(percentages2017, unis2017[['UNITID', 'STABBR']], left_on= 'unitid', right_on='UNITID', how='left')\n",
    "#plt.scatter(states['women'], states['black'], c=states['STABBR'])\n",
    "sns.scatterplot(data = states2017, x = 'women', y='black', hue = 'STABBR')\n",
    "plt.yscale('log')\n",
    "plt.xscale('log')\n",
    "plt.xlabel('women')\n",
    "plt.ylabel('black')"
   ]
  },
  {
   "cell_type": "code",
   "execution_count": null,
   "metadata": {},
   "outputs": [],
   "source": [
    "import seaborn as sns\n",
    "states2017 = pd.merge(percentages2017, unis2017[['UNITID', 'STABBR']], left_on= 'unitid', right_on='UNITID', how='left')\n",
    "#plt.scatter(states['women'], states['black'], c=states['STABBR'])\n",
    "sns.scatterplot(data = states2017, x = 'women', y='hispanic', hue = 'STABBR')\n",
    "plt.yscale('log')\n",
    "plt.xscale('log')\n",
    "plt.xlabel('women')\n",
    "plt.ylabel('hispanic')"
   ]
  },
  {
   "cell_type": "code",
   "execution_count": null,
   "metadata": {},
   "outputs": [],
   "source": [
    "import seaborn as sns\n",
    "states2017 = pd.merge(percentages2017, unis2017[['UNITID', 'STABBR']], left_on= 'unitid', right_on='UNITID', how='left')\n",
    "#plt.scatter(states['women'], states['black'], c=states['STABBR'])\n",
    "sns.scatterplot(data = states2017, x = 'women', y='native', hue = 'STABBR')\n",
    "plt.yscale('log')\n",
    "plt.xscale('log')\n",
    "plt.xlabel('women')\n",
    "plt.ylabel('native')"
   ]
  },
  {
   "cell_type": "code",
   "execution_count": null,
   "metadata": {},
   "outputs": [],
   "source": [
    "import seaborn as sns\n",
    "states2017 = pd.merge(percentages2017, unis2017[['UNITID', 'STABBR']], left_on= 'unitid', right_on='UNITID', how='left')\n",
    "#plt.scatter(states['women'], states['black'], c=states['STABBR'])\n",
    "sns.scatterplot(data = states2017, x = 'hispanic', y='black', hue = 'STABBR')\n",
    "plt.yscale('log')\n",
    "plt.xscale('log')\n",
    "plt.xlabel('hispanic')\n",
    "plt.ylabel('black')"
   ]
  },
  {
   "cell_type": "code",
   "execution_count": null,
   "metadata": {},
   "outputs": [],
   "source": [
    "import seaborn as sns\n",
    "states2017 = pd.merge(percentages2017, unis2017[['UNITID', 'STABBR']], left_on= 'unitid', right_on='UNITID', how='left')\n",
    "#plt.scatter(states['women'], states['black'], c=states['STABBR'])\n",
    "sns.scatterplot(data = states2017, x = 'native', y='black', hue = 'STABBR')\n",
    "plt.yscale('log')\n",
    "plt.xscale('log')\n",
    "plt.xlabel('native')\n",
    "plt.ylabel('black')"
   ]
  },
  {
   "cell_type": "code",
   "execution_count": null,
   "metadata": {},
   "outputs": [],
   "source": [
    "import seaborn as sns\n",
    "states2017 = pd.merge(percentages2017, unis2017[['UNITID', 'STABBR']], left_on= 'unitid', right_on='UNITID', how='left')\n",
    "#plt.scatter(states['women'], states['black'], c=states['STABBR'])\n",
    "sns.scatterplot(data = states2017, x = 'native', y='hispanic', hue = 'STABBR')\n",
    "plt.yscale('log')\n",
    "plt.xscale('log')\n",
    "plt.xlabel('native')\n",
    "plt.ylabel('hispanic')"
   ]
  },
  {
   "cell_type": "code",
   "execution_count": null,
   "metadata": {},
   "outputs": [],
   "source": [
    "import seaborn as sns\n",
    "states2018 = pd.merge(percentages2018, unis2018[['UNITID', 'STABBR']], left_on= 'unitid', right_on='UNITID', how='left')\n",
    "#plt.scatter(states['women'], states['black'], c=states['STABBR'])\n",
    "sns.scatterplot(data = states2018, x = 'women', y='black', hue = 'STABBR')\n",
    "plt.yscale('log')\n",
    "plt.xscale('log')\n",
    "plt.xlabel('women')\n",
    "plt.ylabel('black')"
   ]
  },
  {
   "cell_type": "code",
   "execution_count": null,
   "metadata": {},
   "outputs": [],
   "source": [
    "import seaborn as sns\n",
    "states2018 = pd.merge(percentages2018, unis2018[['UNITID', 'STABBR']], left_on= 'unitid', right_on='UNITID', how='left')\n",
    "#plt.scatter(states['women'], states['black'], c=states['STABBR'])\n",
    "sns.scatterplot(data = states2018, x = 'women', y='hispanic', hue = 'STABBR')\n",
    "plt.yscale('log')\n",
    "plt.xscale('log')\n",
    "plt.xlabel('women')\n",
    "plt.ylabel('hispanic')"
   ]
  },
  {
   "cell_type": "code",
   "execution_count": null,
   "metadata": {},
   "outputs": [],
   "source": [
    "import seaborn as sns\n",
    "states2018 = pd.merge(percentages2018, unis2018[['UNITID', 'STABBR']], left_on= 'unitid', right_on='UNITID', how='left')\n",
    "#plt.scatter(states['women'], states['black'], c=states['STABBR'])\n",
    "sns.scatterplot(data = states2018, x = 'women', y='native', hue = 'STABBR')\n",
    "plt.yscale('log')\n",
    "plt.xscale('log')\n",
    "plt.xlabel('women')\n",
    "plt.ylabel('native')"
   ]
  },
  {
   "cell_type": "code",
   "execution_count": null,
   "metadata": {},
   "outputs": [],
   "source": [
    "import seaborn as sns\n",
    "states2018 = pd.merge(percentages2018, unis2018[['UNITID', 'STABBR']], left_on= 'unitid', right_on='UNITID', how='left')\n",
    "#plt.scatter(states['women'], states['black'], c=states['STABBR'])\n",
    "sns.scatterplot(data = states2018, x = 'hispanic', y='black', hue = 'STABBR')\n",
    "plt.yscale('log')\n",
    "plt.xscale('log')\n",
    "plt.xlabel('hispanic')\n",
    "plt.ylabel('black')"
   ]
  },
  {
   "cell_type": "code",
   "execution_count": null,
   "metadata": {},
   "outputs": [],
   "source": [
    "import seaborn as sns\n",
    "states2018 = pd.merge(percentages2018, unis2018[['UNITID', 'STABBR']], left_on= 'unitid', right_on='UNITID', how='left')\n",
    "#plt.scatter(states['women'], states['black'], c=states['STABBR'])\n",
    "sns.scatterplot(data = states2018, x = 'native', y='black', hue = 'STABBR')\n",
    "plt.yscale('log')\n",
    "plt.xscale('log')\n",
    "plt.xlabel('native')\n",
    "plt.ylabel('black')"
   ]
  },
  {
   "cell_type": "code",
   "execution_count": null,
   "metadata": {},
   "outputs": [],
   "source": [
    "import seaborn as sns\n",
    "states2018 = pd.merge(percentages2018, unis2018[['UNITID', 'STABBR']], left_on= 'unitid', right_on='UNITID', how='left')\n",
    "#plt.scatter(states['women'], states['black'], c=states['STABBR'])\n",
    "sns.scatterplot(data = states2018, x = 'native', y='hispanic', hue = 'STABBR')\n",
    "plt.yscale('log')\n",
    "plt.xscale('log')\n",
    "plt.xlabel('native')\n",
    "plt.ylabel('hispanic')"
   ]
  },
  {
   "cell_type": "code",
   "execution_count": null,
   "metadata": {},
   "outputs": [],
   "source": []
  },
  {
   "cell_type": "code",
   "execution_count": null,
   "metadata": {},
   "outputs": [],
   "source": [
    "import seaborn as sns\n",
    "states2019 = pd.merge(percentages2019, unis2019[['UNITID', 'STABBR']], left_on= 'unitid', right_on='UNITID', how='left')\n",
    "#plt.scatter(states['women'], states['black'], c=states['STABBR'])\n",
    "sns.scatterplot(data = states2019, x = 'women', y='black', hue = 'STABBR')\n",
    "plt.yscale('log')\n",
    "plt.xscale('log')\n",
    "plt.xlabel('women')\n",
    "plt.ylabel('black')"
   ]
  },
  {
   "cell_type": "code",
   "execution_count": null,
   "metadata": {},
   "outputs": [],
   "source": [
    "import seaborn as sns\n",
    "states2019 = pd.merge(percentages2019, unis2019[['UNITID', 'STABBR']], left_on= 'unitid', right_on='UNITID', how='left')\n",
    "#plt.scatter(states['women'], states['black'], c=states['STABBR'])\n",
    "sns.scatterplot(data = states2019, x = 'women', y='hispanic', hue = 'STABBR')\n",
    "plt.yscale('log')\n",
    "plt.xscale('log')\n",
    "plt.xlabel('women')\n",
    "plt.ylabel('hispanic')"
   ]
  },
  {
   "cell_type": "code",
   "execution_count": null,
   "metadata": {},
   "outputs": [],
   "source": [
    "import seaborn as sns\n",
    "states2019 = pd.merge(percentages2019, unis2019[['UNITID', 'STABBR']], left_on= 'unitid', right_on='UNITID', how='left')\n",
    "#plt.scatter(states['women'], states['black'], c=states['STABBR'])\n",
    "sns.scatterplot(data = states2019, x = 'women', y='native', hue = 'STABBR')\n",
    "plt.yscale('log')\n",
    "plt.xscale('log')\n",
    "plt.xlabel('women')\n",
    "plt.ylabel('native')"
   ]
  },
  {
   "cell_type": "code",
   "execution_count": null,
   "metadata": {},
   "outputs": [],
   "source": [
    "import seaborn as sns\n",
    "states2019 = pd.merge(percentages2019, unis2019[['UNITID', 'STABBR']], left_on= 'unitid', right_on='UNITID', how='left')\n",
    "#plt.scatter(states['women'], states['black'], c=states['STABBR'])\n",
    "sns.scatterplot(data = states2019, x = 'hispanic', y='black', hue = 'STABBR')\n",
    "plt.yscale('log')\n",
    "plt.xscale('log')\n",
    "plt.xlabel('hispanic')\n",
    "plt.ylabel('black')"
   ]
  },
  {
   "cell_type": "code",
   "execution_count": null,
   "metadata": {},
   "outputs": [],
   "source": [
    "import seaborn as sns\n",
    "states2019 = pd.merge(percentages2019, unis2019[['UNITID', 'STABBR']], left_on= 'unitid', right_on='UNITID', how='left')\n",
    "#plt.scatter(states['women'], states['black'], c=states['STABBR'])\n",
    "sns.scatterplot(data = states2019, x = 'native', y='black', hue = 'STABBR')\n",
    "plt.yscale('log')\n",
    "plt.xscale('log')\n",
    "plt.xlabel('native')\n",
    "plt.ylabel('black')"
   ]
  },
  {
   "cell_type": "code",
   "execution_count": null,
   "metadata": {},
   "outputs": [],
   "source": [
    "import seaborn as sns\n",
    "states2019 = pd.merge(percentages2019, unis2019[['UNITID', 'STABBR']], left_on= 'unitid', right_on='UNITID', how='left')\n",
    "#plt.scatter(states['women'], states['black'], c=states['STABBR'])\n",
    "sns.scatterplot(data = states2019, x = 'native', y='hispanic', hue = 'STABBR')\n",
    "plt.yscale('log')\n",
    "plt.xscale('log')\n",
    "plt.xlabel('native')\n",
    "plt.ylabel('hispanic')"
   ]
  },
  {
   "cell_type": "code",
   "execution_count": null,
   "metadata": {},
   "outputs": [],
   "source": [
    "percentagesPosition2015 = pd.merge(percentages2015, unis2015[['UNITID', 'LONGITUD', 'LATITUDE']], left_on='unitid', right_on='UNITID', how='left')"
   ]
  },
  {
   "cell_type": "code",
   "execution_count": null,
   "metadata": {},
   "outputs": [],
   "source": [
    "percentagesPosition2015.head()"
   ]
  },
  {
   "cell_type": "code",
   "execution_count": null,
   "metadata": {},
   "outputs": [],
   "source": [
    "percentagesPosition2016 = pd.merge(percentages2016, unis2016[['UNITID', 'LONGITUD', 'LATITUDE']], left_on='unitid', right_on='UNITID', how='left')"
   ]
  },
  {
   "cell_type": "code",
   "execution_count": null,
   "metadata": {},
   "outputs": [],
   "source": [
    "percentagesPosition2017 = pd.merge(percentages2017, unis2017[['UNITID', 'LONGITUD', 'LATITUDE']], left_on='unitid', right_on='UNITID', how='left')"
   ]
  },
  {
   "cell_type": "code",
   "execution_count": null,
   "metadata": {},
   "outputs": [],
   "source": [
    "percentagesPosition2018 = pd.merge(percentages2018, unis2018[['UNITID', 'LONGITUD', 'LATITUDE']], left_on='unitid', right_on='UNITID', how='left')"
   ]
  },
  {
   "cell_type": "code",
   "execution_count": null,
   "metadata": {},
   "outputs": [],
   "source": [
    "percentagesPosition2019 = pd.merge(percentages2019, unis2019[['UNITID', 'LONGITUD', 'LATITUDE']], left_on='unitid', right_on='UNITID', how='left')"
   ]
  },
  {
   "cell_type": "code",
   "execution_count": null,
   "metadata": {},
   "outputs": [],
   "source": [
    "percentagesPosition2015.dtypes"
   ]
  },
  {
   "cell_type": "code",
   "execution_count": null,
   "metadata": {},
   "outputs": [],
   "source": [
    "percentagesPosition2015['LONGITUD'] = percentagesPosition2015['LONGITUD'].astype(float)\n",
    "percentagesPosition2015['LATITUDE'] = percentagesPosition2015['LATITUDE'].astype(float)\n",
    "\n",
    "plt.scatter(percentagesPosition2015['LONGITUD'], percentagesPosition2015['LATITUDE'])\n",
    "plt.xlim(-160, -40)\n",
    "plt.ylim(-10)"
   ]
  },
  {
   "cell_type": "code",
   "execution_count": null,
   "metadata": {},
   "outputs": [],
   "source": [
    "plt.figure(figsize = (10, 5))\n",
    "womenBool2015 = percentagesPosition2015['women'].apply(lambda x: x > 0)\n",
    "womenPercentPosition2015 = percentagesPosition2015[womenBool2015]\n",
    "plt.scatter(womenPercentPosition2015['LONGITUD'], womenPercentPosition2015['LATITUDE'], c=womenPercentPosition2015['women'].apply(log), s=20, alpha = 0.5)\n",
    "plt.ylabel('longitude')\n",
    "plt.xlabel('latitude')\n",
    "plt.colorbar()\n",
    "plt.title(\"Women Percentages 2015\")"
   ]
  },
  {
   "cell_type": "code",
   "execution_count": null,
   "metadata": {},
   "outputs": [],
   "source": [
    "plt.figure(figsize = (10, 5))\n",
    "blackBool2015 = percentagesPosition2015['black'].apply(lambda x: x > 0)\n",
    "blackPercentPosition2015 = percentagesPosition2015[blackBool2015]\n",
    "plt.scatter(blackPercentPosition2015['LONGITUD'], blackPercentPosition2015['LATITUDE'], c=blackPercentPosition2015['black'].apply(log), s=20, alpha = 0.5)\n",
    "plt.ylabel('longitude')\n",
    "plt.xlabel('latitude')\n",
    "plt.xlim(-130, -60)\n",
    "plt.ylim(20, 55)\n",
    "plt.colorbar()\n",
    "plt.title(\"Black Percentages 2015\")"
   ]
  },
  {
   "cell_type": "code",
   "execution_count": null,
   "metadata": {},
   "outputs": [],
   "source": [
    "plt.figure(figsize = (10, 5))\n",
    "hispanicBool2015 = percentagesPosition2015['hispanic'].apply(lambda x: x > 0)\n",
    "hispanicPercentPosition2015 = percentagesPosition2015[hispanicBool2015]\n",
    "plt.scatter(hispanicPercentPosition2015['LONGITUD'], hispanicPercentPosition2015['LATITUDE'], c=hispanicPercentPosition2015['hispanic'].apply(log), s=20, alpha = 0.5)\n",
    "plt.ylabel('longitude')\n",
    "plt.xlabel('latitude')\n",
    "plt.xlim(-130, -60)\n",
    "plt.ylim(20, 55)\n",
    "plt.colorbar()\n",
    "plt.title(\"Hispanic Percentages 2015\")"
   ]
  },
  {
   "cell_type": "code",
   "execution_count": null,
   "metadata": {},
   "outputs": [],
   "source": [
    "plt.figure(figsize = (10, 5))\n",
    "nativeBool2015 = percentagesPosition2015['native'].apply(lambda x: x > 0)\n",
    "nativePercentPosition2015 = percentagesPosition2015[nativeBool2015]\n",
    "plt.scatter(nativePercentPosition2015['LONGITUD'], nativePercentPosition2015['LATITUDE'], c=nativePercentPosition2015['native'].apply(log), s=20, alpha = 0.5)\n",
    "plt.ylabel('longitude')\n",
    "plt.xlabel('latitude')\n",
    "plt.xlim(-130, -60)\n",
    "plt.ylim(20, 55)\n",
    "plt.colorbar()\n",
    "plt.title(\"Native Percentages 2015\")"
   ]
  },
  {
   "cell_type": "code",
   "execution_count": null,
   "metadata": {},
   "outputs": [],
   "source": [
    "plt.figure(figsize = (10, 5))\n",
    "womenBool2016 = percentagesPosition2016['women'].apply(lambda x: x > 0)\n",
    "womenPercentPosition2016 = percentagesPosition2016[womenBool2016]\n",
    "plt.scatter(womenPercentPosition2016['LONGITUD'], womenPercentPosition2016['LATITUDE'], c=womenPercentPosition2016['women'].apply(log), s=20, alpha = 0.5)\n",
    "plt.ylabel('longitude')\n",
    "plt.xlabel('latitude')\n",
    "plt.xlim(-130, -60)\n",
    "plt.ylim(20, 55)\n",
    "plt.colorbar()\n",
    "plt.title(\"Women Percentages 2016\")"
   ]
  },
  {
   "cell_type": "code",
   "execution_count": null,
   "metadata": {},
   "outputs": [],
   "source": [
    "plt.figure(figsize = (10, 5))\n",
    "blackBool2016 = percentagesPosition2016['black'].apply(lambda x: x > 0)\n",
    "blackPercentPosition2016 = percentagesPosition2016[blackBool2016]\n",
    "plt.scatter(blackPercentPosition2016['LONGITUD'], blackPercentPosition2016['LATITUDE'], c=blackPercentPosition2016['black'].apply(log), s=20, alpha = 0.5)\n",
    "plt.ylabel('longitude')\n",
    "plt.xlabel('latitude')\n",
    "plt.xlim(-130, -60)\n",
    "plt.ylim(20, 55)\n",
    "plt.colorbar()\n",
    "plt.title(\"Black Percentages 2016\")"
   ]
  },
  {
   "cell_type": "code",
   "execution_count": null,
   "metadata": {},
   "outputs": [],
   "source": [
    "plt.figure(figsize = (10, 5))\n",
    "hispanicBool2016 = percentagesPosition2016['hispanic'].apply(lambda x: x > 0)\n",
    "hispanicPercentPosition2016 = percentagesPosition2016[hispanicBool2016]\n",
    "plt.scatter(hispanicPercentPosition2016['LONGITUD'], hispanicPercentPosition2016['LATITUDE'], c=hispanicPercentPosition2016['hispanic'].apply(log), s=20, alpha = 0.5)\n",
    "plt.ylabel('longitude')\n",
    "plt.xlabel('latitude')\n",
    "plt.xlim(-130, -60)\n",
    "plt.ylim(20, 55)\n",
    "plt.colorbar()\n",
    "plt.title(\"Hispanic Percentages 2016\")"
   ]
  },
  {
   "cell_type": "code",
   "execution_count": null,
   "metadata": {},
   "outputs": [],
   "source": [
    "plt.figure(figsize = (10, 5))\n",
    "nativeBool2016 = percentagesPosition2016['native'].apply(lambda x: x > 0)\n",
    "nativePercentPosition2016 = percentagesPosition2016[nativeBool2016]\n",
    "plt.scatter(nativePercentPosition2016['LONGITUD'], nativePercentPosition2016['LATITUDE'], c=nativePercentPosition2016['native'].apply(log), s=20, alpha = 0.5)\n",
    "plt.ylabel('longitude')\n",
    "plt.xlabel('latitude')\n",
    "plt.xlim(-130, -60)\n",
    "plt.ylim(20, 55)\n",
    "plt.colorbar()\n",
    "plt.title(\"Native Percentages 2016\")"
   ]
  },
  {
   "cell_type": "code",
   "execution_count": null,
   "metadata": {},
   "outputs": [],
   "source": [
    "plt.figure(figsize = (10, 5))\n",
    "womenBool2017 = percentagesPosition2017['women'].apply(lambda x: x > 0)\n",
    "womenPercentPosition2017 = percentagesPosition2017[womenBool2017]\n",
    "plt.scatter(womenPercentPosition2017['LONGITUD'], womenPercentPosition2017['LATITUDE'], c=womenPercentPosition2017['women'].apply(log), s=20, alpha = 0.5)\n",
    "plt.ylabel('longitude')\n",
    "plt.xlabel('latitude')\n",
    "plt.xlim(-130, -60)\n",
    "plt.ylim(20, 55)\n",
    "plt.colorbar()\n",
    "plt.title(\"Women Percentages 2017\")"
   ]
  },
  {
   "cell_type": "code",
   "execution_count": null,
   "metadata": {},
   "outputs": [],
   "source": [
    "plt.figure(figsize = (10, 5))\n",
    "blackBool2017 = percentagesPosition2017['black'].apply(lambda x: x > 0)\n",
    "blackPercentPosition2017 = percentagesPosition2017[blackBool2017]\n",
    "plt.scatter(blackPercentPosition2017['LONGITUD'], blackPercentPosition2017['LATITUDE'], c=blackPercentPosition2017['black'].apply(log), s=20, alpha = 0.5)\n",
    "plt.ylabel('longitude')\n",
    "plt.xlabel('latitude')\n",
    "plt.xlim(-130, -60)\n",
    "plt.ylim(20, 55)\n",
    "plt.colorbar()\n",
    "plt.title(\"Black Percentages 2017\")"
   ]
  },
  {
   "cell_type": "code",
   "execution_count": null,
   "metadata": {},
   "outputs": [],
   "source": [
    "plt.figure(figsize = (10, 5))\n",
    "hispanicBool2017 = percentagesPosition2017['hispanic'].apply(lambda x: x > 0)\n",
    "hispanicPercentPosition2017 = percentagesPosition2017[hispanicBool2017]\n",
    "plt.scatter(hispanicPercentPosition2017['LONGITUD'], hispanicPercentPosition2017['LATITUDE'], c=hispanicPercentPosition2017['hispanic'].apply(log), s=20, alpha = 0.5)\n",
    "plt.ylabel('longitude')\n",
    "plt.xlabel('latitude')\n",
    "plt.xlim(-130, -60)\n",
    "plt.ylim(20, 55)\n",
    "plt.colorbar()\n",
    "plt.title(\"Hispanic Percentages 2017\")"
   ]
  },
  {
   "cell_type": "code",
   "execution_count": null,
   "metadata": {},
   "outputs": [],
   "source": [
    "plt.figure(figsize = (10, 5))\n",
    "nativeBool2017 = percentagesPosition2017['native'].apply(lambda x: x > 0)\n",
    "nativePercentPosition2017 = percentagesPosition2017[nativeBool2017]\n",
    "plt.scatter(nativePercentPosition2017['LONGITUD'], nativePercentPosition2017['LATITUDE'], c=nativePercentPosition2017['native'].apply(log), s=20, alpha = 0.5)\n",
    "plt.ylabel('longitude')\n",
    "plt.xlabel('latitude')\n",
    "plt.xlim(-130, -60)\n",
    "plt.ylim(20, 55)\n",
    "plt.colorbar()\n",
    "plt.title(\"Native Percentages 2017\")"
   ]
  },
  {
   "cell_type": "code",
   "execution_count": null,
   "metadata": {},
   "outputs": [],
   "source": [
    "plt.figure(figsize = (10, 5))\n",
    "womenBool2018 = percentagesPosition2018['women'].apply(lambda x: x > 0)\n",
    "womenPercentPosition2018 = percentagesPosition2018[womenBool2018]\n",
    "plt.scatter(womenPercentPosition2018['LONGITUD'], womenPercentPosition2018['LATITUDE'], c=womenPercentPosition2018['women'].apply(log), s=20, alpha = 0.5)\n",
    "plt.ylabel('longitude')\n",
    "plt.xlabel('latitude')\n",
    "plt.xlim(-130, -60)\n",
    "plt.ylim(20, 55)\n",
    "plt.colorbar()\n",
    "plt.title(\"Women Percentages 2018\")"
   ]
  },
  {
   "cell_type": "code",
   "execution_count": null,
   "metadata": {},
   "outputs": [],
   "source": [
    "plt.figure(figsize = (10, 5))\n",
    "blackBool2018 = percentagesPosition2018['black'].apply(lambda x: x > 0)\n",
    "blackPercentPosition2018 = percentagesPosition2018[blackBool2018]\n",
    "plt.scatter(blackPercentPosition2018['LONGITUD'], blackPercentPosition2018['LATITUDE'], c=blackPercentPosition2018['black'].apply(log), s=20, alpha = 0.5)\n",
    "plt.ylabel('longitude')\n",
    "plt.xlabel('latitude')\n",
    "plt.xlim(-130, -60)\n",
    "plt.ylim(20, 55)\n",
    "plt.colorbar()\n",
    "plt.title(\"Black Percentages 2018\")"
   ]
  },
  {
   "cell_type": "code",
   "execution_count": null,
   "metadata": {},
   "outputs": [],
   "source": [
    "plt.figure(figsize = (10, 5))\n",
    "hispanicBool2018 = percentagesPosition2018['hispanic'].apply(lambda x: x > 0)\n",
    "hispanicPercentPosition2018 = percentagesPosition2018[hispanicBool2018]\n",
    "plt.scatter(hispanicPercentPosition2018['LONGITUD'], hispanicPercentPosition2018['LATITUDE'], c=hispanicPercentPosition2018['hispanic'].apply(log), s=20, alpha = 0.5)\n",
    "plt.ylabel('longitude')\n",
    "plt.xlabel('latitude')\n",
    "plt.xlim(-130, -60)\n",
    "plt.ylim(20, 55)\n",
    "plt.colorbar()\n",
    "plt.title(\"Hispanic Percentages 2018\")"
   ]
  },
  {
   "cell_type": "code",
   "execution_count": null,
   "metadata": {},
   "outputs": [],
   "source": [
    "plt.figure(figsize = (10, 5))\n",
    "nativeBool2018 = percentagesPosition2018['native'].apply(lambda x: x > 0)\n",
    "nativePercentPosition2018 = percentagesPosition2018[nativeBool2018]\n",
    "plt.scatter(nativePercentPosition2018['LONGITUD'], nativePercentPosition2018['LATITUDE'], c=nativePercentPosition2018['native'].apply(log), s=20, alpha = 0.5)\n",
    "plt.ylabel('longitude')\n",
    "plt.xlabel('latitude')\n",
    "plt.xlim(-130, -60)\n",
    "plt.ylim(20, 55)\n",
    "plt.colorbar()\n",
    "plt.title(\"Native Percentages 2018\")"
   ]
  },
  {
   "cell_type": "code",
   "execution_count": null,
   "metadata": {},
   "outputs": [],
   "source": [
    "plt.figure(figsize = (10, 5))\n",
    "womenBool2019 = percentagesPosition2019['women'].apply(lambda x: x > 0)\n",
    "womenPercentPosition2019 = percentagesPosition2019[womenBool2019]\n",
    "plt.scatter(womenPercentPosition2019['LONGITUD'], womenPercentPosition2019['LATITUDE'], c=womenPercentPosition2019['women'].apply(log), s=20, alpha = 0.5)\n",
    "plt.ylabel('longitude')\n",
    "plt.xlabel('latitude')\n",
    "plt.xlim(-130, -60)\n",
    "plt.ylim(20, 55)\n",
    "plt.colorbar()\n",
    "plt.title(\"Women Percentages 2019\")"
   ]
  },
  {
   "cell_type": "code",
   "execution_count": null,
   "metadata": {},
   "outputs": [],
   "source": [
    "plt.figure(figsize = (10, 5))\n",
    "blackBool2019 = percentagesPosition2019['black'].apply(lambda x: x > 0)\n",
    "blackPercentPosition2019 = percentagesPosition2019[blackBool2019]\n",
    "plt.scatter(blackPercentPosition2019['LONGITUD'], blackPercentPosition2019['LATITUDE'], c=blackPercentPosition2019['black'].apply(log), s=20, alpha = 0.5)\n",
    "plt.ylabel('longitude')\n",
    "plt.xlabel('latitude')\n",
    "plt.xlim(-130, -60)\n",
    "plt.ylim(20, 55)\n",
    "plt.colorbar()\n",
    "plt.title(\"Black Percentages 2019\")"
   ]
  },
  {
   "cell_type": "code",
   "execution_count": null,
   "metadata": {},
   "outputs": [],
   "source": [
    "plt.figure(figsize = (10, 5))\n",
    "hispanicBool2019 = percentagesPosition2019['hispanic'].apply(lambda x: x > 0)\n",
    "hispanicPercentPosition2019 = percentagesPosition2019[hispanicBool2019]\n",
    "plt.scatter(hispanicPercentPosition2019['LONGITUD'], hispanicPercentPosition2019['LATITUDE'], c=hispanicPercentPosition2019['hispanic'].apply(log), s=20, alpha = 0.5)\n",
    "plt.ylabel('longitude')\n",
    "plt.xlabel('latitude')\n",
    "plt.xlim(-130, -60)\n",
    "plt.ylim(20, 55)\n",
    "plt.colorbar()\n",
    "plt.title(\"Hispanic Percentages 2019\")"
   ]
  },
  {
   "cell_type": "code",
   "execution_count": null,
   "metadata": {},
   "outputs": [],
   "source": [
    "plt.figure(figsize = (10, 5))\n",
    "nativeBool2019 = percentagesPosition2019['native'].apply(lambda x: x > 0)\n",
    "nativePercentPosition2019 = percentagesPosition2019[nativeBool2019]\n",
    "plt.scatter(nativePercentPosition2019['LONGITUD'], nativePercentPosition2019['LATITUDE'], c=nativePercentPosition2019['native'].apply(log), s=20, alpha = 0.5)\n",
    "plt.ylabel('longitude')\n",
    "plt.xlabel('latitude')\n",
    "plt.xlim(-130, -60)\n",
    "plt.ylim(20, 55)\n",
    "plt.colorbar()\n",
    "plt.title(\"Native Percentages 2019\")"
   ]
  },
  {
   "cell_type": "code",
   "execution_count": null,
   "metadata": {},
   "outputs": [],
   "source": [
    "df_dict = {'2015': (unis2015, sums2015), '2016': (unis2016, sums2016), '2017': (unis2017, sums2017), '2018': (unis2018, sums2018), '2019': (unis2019, sums2019), '2020': (unis2020, sums2020)}"
   ]
  },
  {
   "cell_type": "code",
   "execution_count": null,
   "metadata": {},
   "outputs": [],
   "source": [
    "def stateTotalsWomen(sums, unis):\n",
    "    columns = ['UNITID', 'CTOTALW', 'CAIANT', 'CBKAAT', 'CHISPT', 'CTOTALT']\n",
    "    filtered = sums[columns]\n",
    "    #filtered.columns = ['unitid', 'women', 'native', 'black', 'hispanic']\n",
    "    statesAndUnis = pd.merge(filtered, unis[['UNITID', 'INSTNM', 'STABBR']], on = 'UNITID', how='left')\n",
    "    statesTotals = statesAndUnis.groupby('STABBR').sum()\n",
    "    sns.scatterplot(data = states2019, x = 'STABBR', y='women', hue = 'STABBR')\n",
    "    plt.yscale('log')\n",
    "    plt.xlabel('States')\n",
    "    plt.ylabel('Women') \n",
    "\n"
   ]
  },
  {
   "cell_type": "code",
   "execution_count": null,
   "metadata": {},
   "outputs": [],
   "source": [
    "sums2015.head()"
   ]
  },
  {
   "cell_type": "code",
   "execution_count": null,
   "metadata": {},
   "outputs": [],
   "source": [
    "for year in df_dict:\n",
    "    unis, sums = df_dict[year]\n",
    "    stateTotalsWomen(sums, unis)\n",
    "    plt.figure()\n",
    "    "
   ]
  },
  {
   "cell_type": "code",
   "execution_count": 816,
   "metadata": {},
   "outputs": [],
   "source": [
    "import pandas as pd\n",
    "all_unis = {}\n",
    "all_completions = {}\n",
    "def process_unis():\n",
    "    unis = pd.read_csv('../data/IPEDS/university_info/hd2021.csv', encoding='cp1252')\n",
    "    ## Preprocessing meta-data files\n",
    "    ### Updating names to match in rankings  \n",
    "    unis.loc[unis['IALIAS']=='Virginia Tech', 'INSTNM'] = 'Virginia Tech'\n",
    "    unis.loc[unis['INSTNM']=='University of Illinois Urbana-Champaign', 'INSTNM'] = 'University of Illinois at Urbana-Champaign'\n",
    "    unis.loc[(unis['INSTNM']==\"St. John's College\") & (unis['STABBR']=='MD'), 'INSTNM'] = \"St. John's College - MD\"\n",
    "    unis.loc[(unis['INSTNM']==\"St. John's College\") & (unis['STABBR']=='NM'), 'INSTNM'] = \"St. John's College - NM\"\n",
    "    unis.loc[unis['INSTNM']==\"William & Mary\", 'INSTNM'] = \"College of William and Mary\"\n",
    "    unis.loc[(unis['INSTNM']==\"Brigham Young University\") & (unis['CITY']=='Provo'), 'INSTNM'] = \"Brigham Young University-Provo\"\n",
    "    unis.loc[(unis['INSTNM']==\"The University of the South\") & (unis['CITY']=='Sewanee'), 'INSTNM'] = \"Sewanee - The University of the South\"\n",
    "    unis.loc[(unis['OBEREG'] == -3), 'OBEREG'] = 10\n",
    "        \n",
    "    return unis\n",
    "\n",
    "def process_completions(year):\n",
    "    completions = pd.read_csv('../data/IPEDS/completions/c%s_a.csv' % year)\n",
    "    return completions\n",
    "# hard coded it because of assignment errors\n",
    "for year in range(2008, 2022):\n",
    "    all_unis[year] = process_unis()\n",
    "    all_completions[year] = process_completions(year)"
   ]
  },
  {
   "cell_type": "code",
   "execution_count": 814,
   "metadata": {},
   "outputs": [
    {
     "data": {
      "text/plain": [
       "Index(['UNITID', 'INSTNM', 'IALIAS', 'ADDR', 'CITY', 'STABBR', 'ZIP', 'FIPS',\n",
       "       'OBEREG', 'CHFNM', 'CHFTITLE', 'GENTELE', 'EIN', 'DUNS', 'OPEID',\n",
       "       'OPEFLAG', 'WEBADDR', 'ADMINURL', 'FAIDURL', 'APPLURL', 'NPRICURL',\n",
       "       'VETURL', 'ATHURL', 'DISAURL', 'SECTOR', 'ICLEVEL', 'CONTROL',\n",
       "       'HLOFFER', 'UGOFFER', 'GROFFER', 'HDEGOFR1', 'DEGGRANT', 'HBCU',\n",
       "       'HOSPITAL', 'MEDICAL', 'TRIBAL', 'LOCALE', 'OPENPUBL', 'ACT', 'NEWID',\n",
       "       'DEATHYR', 'CLOSEDAT', 'CYACTIVE', 'POSTSEC', 'PSEFLAG', 'PSET4FLG',\n",
       "       'RPTMTH', 'INSTCAT', 'C21BASIC', 'C21IPUG', 'C21IPGRD', 'C21UGPRF',\n",
       "       'C21ENPRF', 'C21SZSET', 'C18BASIC', 'C15BASIC', 'CCBASIC', 'CARNEGIE',\n",
       "       'LANDGRNT', 'INSTSIZE', 'F1SYSTYP', 'F1SYSNAM', 'F1SYSCOD', 'CBSA',\n",
       "       'CBSATYPE', 'CSA', 'NECTA', 'COUNTYCD', 'COUNTYNM', 'CNGDSTCD',\n",
       "       'LONGITUD', 'LATITUDE', 'DFRCGID', 'DFRCUSCG'],\n",
       "      dtype='object')"
      ]
     },
     "execution_count": 814,
     "metadata": {},
     "output_type": "execute_result"
    }
   ],
   "source": [
    "all_unis[2008].columns"
   ]
  },
  {
   "cell_type": "code",
   "execution_count": 828,
   "metadata": {},
   "outputs": [],
   "source": [
    "reg_code_to_label = {0: 'US Service Schools', 1: 'New England', 2: 'Mid East', 3: 'Great Lakes', 4: 'Plains', 5: 'Southeast', 6: 'Southwest', 7: 'Rocky Mountains',\\\n",
    "    8: 'Far West', 9: 'Outlying Areas'}\n",
    "\n",
    "#df['OBEREG'] = df['OBEREG'].apply(lambda x: reg_code_to_label[x])"
   ]
  },
  {
   "cell_type": "code",
   "execution_count": 818,
   "metadata": {},
   "outputs": [
    {
     "data": {
      "text/plain": [
       "(        UNITID  CIPCODE  MAJORNUM  AWLEVEL XCTOTALT  CTOTALT XCTOTALM  \\\n",
       " 26539   119678  11.0101         1        7        R        0        R   \n",
       " 26540   119678  11.0101         1       17        R        0        R   \n",
       " 26541   119678  11.0103         1        6        R        0        R   \n",
       " 26542   119678  11.0103         1        7        R       13        R   \n",
       " 26543   119678  11.0701         1        7        R       38        R   \n",
       " ...        ...      ...       ...      ...      ...      ...      ...   \n",
       " 176353  200697  52.0205         1        7        R        0        R   \n",
       " 176354  200697  52.1301         1        6        R       10        R   \n",
       " 176355  200697  99.0000         1        6        R      146        R   \n",
       " 176356  200697  99.0000         1        7        R      253        R   \n",
       " 176357  200697  99.0000         1       17        R       27        R   \n",
       " \n",
       "         CTOTALM XCTOTALW  CTOTALW  ... XCUNKNM  CUNKNM XCUNKNW  CUNKNW  \\\n",
       " 26539         0        R        0  ...       R       0       R       0   \n",
       " 26540         0        R        0  ...       R       0       R       0   \n",
       " 26541         0        R        0  ...       R       0       R       0   \n",
       " 26542        13        R        0  ...       R       1       R       0   \n",
       " 26543        35        R        3  ...       R       1       R       0   \n",
       " ...         ...      ...      ...  ...     ...     ...     ...     ...   \n",
       " 176353        0        R        0  ...       R       0       R       0   \n",
       " 176354        9        R        1  ...       Z       0       Z       0   \n",
       " 176355      124        R       22  ...       R      11       R       2   \n",
       " 176356      214        R       39  ...       R      17       R       3   \n",
       " 176357       22        R        5  ...       R       4       R       1   \n",
       " \n",
       "        XCNRALT  CNRALT XCNRALM  CNRALM XCNRALW  CNRALW    \n",
       " 26539        R       0       R       0       R         0  \n",
       " 26540        R       0       R       0       R         0  \n",
       " 26541        R       0       R       0       R         0  \n",
       " 26542        R       0       R       0       R         0  \n",
       " 26543        R       3       R       3       R         0  \n",
       " ...        ...     ...     ...     ...     ...       ...  \n",
       " 176353       Z       0       Z       0       Z         0  \n",
       " 176354       Z       0       Z       0       Z         0  \n",
       " 176355       Z       0       Z       0       Z         0  \n",
       " 176356       R       7       R       7       Z         0  \n",
       " 176357       Z       0       Z       0       Z         0  \n",
       " \n",
       " [317 rows x 64 columns],\n",
       "       UNITID                                             INSTNM  \\\n",
       " 384   119678                          Naval Postgraduate School   \n",
       " 565   128328                    United States Air Force Academy   \n",
       " 612   130624                  United States Coast Guard Academy   \n",
       " 1429  164155                        United States Naval Academy   \n",
       " 2335  197027              United States Merchant Marine Academy   \n",
       " 2336  197036                     United States Military Academy   \n",
       " 2500  200697  Air Force Institute of Technology-Graduate Sch...   \n",
       " \n",
       "                      IALIAS                          ADDR  \\\n",
       " 384                                   1 University Circle   \n",
       " 565                          2304 Cadet Drive, Suite 3800   \n",
       " 612                                     15 Mohegan Avenue   \n",
       " 1429  USNA, Navy, Annapolis                121 Blake Road   \n",
       " 2335      USMMA|Kings Point            300 Steamboat Road   \n",
       " 2336             West Point     646 Swift Rd (ATTN: MASG)   \n",
       " 2500                   AFIT               2950 Hobson Way   \n",
       " \n",
       "                       CITY STABBR         ZIP  FIPS  OBEREG  \\\n",
       " 384               Monterey     CA       93943     6       0   \n",
       " 565           USAF Academy     CO  80840-5002     8       0   \n",
       " 612             New London     CT  06320-4195     9       0   \n",
       " 1429             Annapolis     MD  21402-1300    24       0   \n",
       " 2335           Kings Point     NY  11024-1634    36       0   \n",
       " 2336           West  Point     NY  10996-1905    36       0   \n",
       " 2500  Wright-Patterson AFB     OH  45433-7765    39       0   \n",
       " \n",
       "                                 CHFNM  ... CBSATYPE  CSA  NECTA COUNTYCD  \\\n",
       " 384   Vice Adm. (ret.) Ann E. Rondeau  ...        1   -2     -2     6053   \n",
       " 565           Lt Gen Richard M. Clark  ...        1   -2     -2     8041   \n",
       " 612         Rear Admiral Wiliam Kelly  ...        1  278  76450     9011   \n",
       " 1429               Sean S. Buck, VADM  ...        1  548     -2    24003   \n",
       " 2335                       Jack Buono  ...        1  408     -2    36059   \n",
       " 2336             LTG  Darryl Williams  ...        1  408     -2    36071   \n",
       " 2500               Dr. Adedeji Badiru  ...        1  212     -2    39057   \n",
       " \n",
       "                  COUNTYNM  CNGDSTCD    LONGITUD   LATITUDE DFRCGID DFRCUSCG  \n",
       " 384       Monterey County       620 -121.874248  36.597159     209        2  \n",
       " 565        El Paso County       805 -104.891358  39.010957     209        1  \n",
       " 612     New London County       902  -72.101583  41.375823     209        2  \n",
       " 1429  Anne Arundel County      2403  -76.481692  38.980507     209        1  \n",
       " 2335        Nassau County      3603  -73.763004  40.813570     209        2  \n",
       " 2336        Orange County      3618  -73.956603  41.390479     209        1  \n",
       " 2500        Greene County      3910  -84.082618  39.782221      -1       -1  \n",
       " \n",
       " [7 rows x 74 columns])"
      ]
     },
     "execution_count": 818,
     "metadata": {},
     "output_type": "execute_result"
    }
   ],
   "source": [
    "def region_processing(uni_data, completion_data, region):\n",
    "    uni_boolmap = uni_data['OBEREG'] == region\n",
    "    region_unis = uni_data[uni_boolmap]\n",
    "    unitids = set(region_unis['UNITID'])\n",
    "    completion_boolmap = completion_data['UNITID'].apply(lambda x: x in unitids)\n",
    "    region_data = completion_data[completion_boolmap]\n",
    "    return region_data, region_unis\n",
    "region_processing(all_unis[2020], all_completions[2020], 0)\n",
    "        "
   ]
  },
  {
   "cell_type": "code",
   "execution_count": 819,
   "metadata": {},
   "outputs": [],
   "source": [
    "# data is the dataframe already boolmapped with the proper data\n",
    "def groupTotals(years):\n",
    "    allStateCsData  = []\n",
    "    allStateNonCsData = []\n",
    "    for year in years:\n",
    "        data, unis = years[year]\n",
    "        csMerge, nonCsMerge = csVsNonCs(data, unis)\n",
    "        stateCsTotal = csMerge.groupby('STABBR').sum().reset_index()\n",
    "        stateNonCsTotal = nonCsMerge.groupby('STABBR').sum().reset_index()\n",
    "        stateCsTotal['year'] = year\n",
    "        stateNonCsTotal['year'] = year\n",
    "        allStateCsData.append(stateCsTotal)\n",
    "        allStateNonCsData.append(stateNonCsTotal)\n",
    "    allStateCsData = pd.concat(allStateCsData)\n",
    "    allStateNonCsData = pd.concat(allStateNonCsData)\n",
    "    return allStateCsData, allStateNonCsData\n",
    "    \n",
    "        \n",
    "        \n",
    "def csVsNonCs(data, unis):\n",
    "    csBoolmap = data['CIPCODE'].apply(lambda x : x < 12 and x >= 11)\n",
    "    cs = data[csBoolmap]\n",
    "    csSum = cs.groupby('UNITID').sum()\n",
    "    csSum = csSum.reset_index()\n",
    "    uniqueIds = set(csSum['UNITID'].unique())\n",
    "    nonCs = data[data.apply(lambda x: x['UNITID'] in uniqueIds, axis = 1)]\n",
    "    nonCsSum = nonCs.groupby('UNITID').sum().reset_index()\n",
    "    cols = ['UNITID', 'CTOTALW', 'CAIANT', 'CBKAAT', 'CHISPT', 'CTOTALT']\n",
    "    csMerge = pd.merge(csSum[cols], unis[['UNITID', 'STABBR']], on = 'UNITID', how='left')\n",
    "    nonCsMerge = pd.merge(nonCsSum[cols], unis[['UNITID', 'STABBR']], on = 'UNITID', how='left')\n",
    "    return csMerge, nonCsMerge\n",
    "\n",
    "    \n"
   ]
  },
  {
   "cell_type": "code",
   "execution_count": 792,
   "metadata": {},
   "outputs": [
    {
     "data": {
      "text/html": [
       "<div>\n",
       "<style scoped>\n",
       "    .dataframe tbody tr th:only-of-type {\n",
       "        vertical-align: middle;\n",
       "    }\n",
       "\n",
       "    .dataframe tbody tr th {\n",
       "        vertical-align: top;\n",
       "    }\n",
       "\n",
       "    .dataframe thead th {\n",
       "        text-align: right;\n",
       "    }\n",
       "</style>\n",
       "<table border=\"1\" class=\"dataframe\">\n",
       "  <thead>\n",
       "    <tr style=\"text-align: right;\">\n",
       "      <th></th>\n",
       "      <th>UNITID</th>\n",
       "      <th>CIPCODE</th>\n",
       "      <th>MAJORNUM</th>\n",
       "      <th>AWLEVEL</th>\n",
       "      <th>XCNRALM</th>\n",
       "      <th>CNRALM</th>\n",
       "      <th>XCNRALW</th>\n",
       "      <th>CNRALW</th>\n",
       "      <th>XCRACE03</th>\n",
       "      <th>CRACE03</th>\n",
       "      <th>...</th>\n",
       "      <th>XDVCHSM</th>\n",
       "      <th>DVCHSM</th>\n",
       "      <th>XDVCHSW</th>\n",
       "      <th>DVCHSW</th>\n",
       "      <th>XDVCWHT</th>\n",
       "      <th>DVCWHT</th>\n",
       "      <th>XDVCWHM</th>\n",
       "      <th>DVCWHM</th>\n",
       "      <th>XDVCWHW</th>\n",
       "      <th>DVCWHW</th>\n",
       "    </tr>\n",
       "  </thead>\n",
       "  <tbody>\n",
       "    <tr>\n",
       "      <th>152821</th>\n",
       "      <td>200697</td>\n",
       "      <td>51.2206</td>\n",
       "      <td>1</td>\n",
       "      <td>7</td>\n",
       "      <td>Z</td>\n",
       "      <td>0</td>\n",
       "      <td>Z</td>\n",
       "      <td>0</td>\n",
       "      <td>Z</td>\n",
       "      <td>0.0</td>\n",
       "      <td>...</td>\n",
       "      <td>Z</td>\n",
       "      <td>0</td>\n",
       "      <td>Z</td>\n",
       "      <td>0</td>\n",
       "      <td>R</td>\n",
       "      <td>2</td>\n",
       "      <td>R</td>\n",
       "      <td>1</td>\n",
       "      <td>R</td>\n",
       "      <td>1</td>\n",
       "    </tr>\n",
       "    <tr>\n",
       "      <th>152822</th>\n",
       "      <td>200697</td>\n",
       "      <td>52.0203</td>\n",
       "      <td>1</td>\n",
       "      <td>7</td>\n",
       "      <td>Z</td>\n",
       "      <td>0</td>\n",
       "      <td>Z</td>\n",
       "      <td>0</td>\n",
       "      <td>Z</td>\n",
       "      <td>0.0</td>\n",
       "      <td>...</td>\n",
       "      <td>Z</td>\n",
       "      <td>0</td>\n",
       "      <td>Z</td>\n",
       "      <td>0</td>\n",
       "      <td>R</td>\n",
       "      <td>12</td>\n",
       "      <td>R</td>\n",
       "      <td>11</td>\n",
       "      <td>R</td>\n",
       "      <td>1</td>\n",
       "    </tr>\n",
       "    <tr>\n",
       "      <th>152823</th>\n",
       "      <td>200697</td>\n",
       "      <td>52.1201</td>\n",
       "      <td>1</td>\n",
       "      <td>7</td>\n",
       "      <td>Z</td>\n",
       "      <td>0</td>\n",
       "      <td>Z</td>\n",
       "      <td>0</td>\n",
       "      <td>R</td>\n",
       "      <td>1.0</td>\n",
       "      <td>...</td>\n",
       "      <td>Z</td>\n",
       "      <td>0</td>\n",
       "      <td>Z</td>\n",
       "      <td>0</td>\n",
       "      <td>R</td>\n",
       "      <td>24</td>\n",
       "      <td>R</td>\n",
       "      <td>23</td>\n",
       "      <td>R</td>\n",
       "      <td>1</td>\n",
       "    </tr>\n",
       "    <tr>\n",
       "      <th>152824</th>\n",
       "      <td>200697</td>\n",
       "      <td>99.0000</td>\n",
       "      <td>1</td>\n",
       "      <td>7</td>\n",
       "      <td>Z</td>\n",
       "      <td>0</td>\n",
       "      <td>Z</td>\n",
       "      <td>0</td>\n",
       "      <td>R</td>\n",
       "      <td>2.0</td>\n",
       "      <td>...</td>\n",
       "      <td>Z</td>\n",
       "      <td>0</td>\n",
       "      <td>Z</td>\n",
       "      <td>0</td>\n",
       "      <td>R</td>\n",
       "      <td>209</td>\n",
       "      <td>R</td>\n",
       "      <td>184</td>\n",
       "      <td>R</td>\n",
       "      <td>25</td>\n",
       "    </tr>\n",
       "    <tr>\n",
       "      <th>152825</th>\n",
       "      <td>200697</td>\n",
       "      <td>99.0000</td>\n",
       "      <td>1</td>\n",
       "      <td>9</td>\n",
       "      <td>Z</td>\n",
       "      <td>0</td>\n",
       "      <td>Z</td>\n",
       "      <td>0</td>\n",
       "      <td>R</td>\n",
       "      <td>1.0</td>\n",
       "      <td>...</td>\n",
       "      <td>Z</td>\n",
       "      <td>0</td>\n",
       "      <td>Z</td>\n",
       "      <td>0</td>\n",
       "      <td>R</td>\n",
       "      <td>21</td>\n",
       "      <td>R</td>\n",
       "      <td>19</td>\n",
       "      <td>R</td>\n",
       "      <td>2</td>\n",
       "    </tr>\n",
       "  </tbody>\n",
       "</table>\n",
       "<p>5 rows × 124 columns</p>\n",
       "</div>"
      ],
      "text/plain": [
       "        UNITID  CIPCODE  MAJORNUM  AWLEVEL XCNRALM  CNRALM XCNRALW  CNRALW  \\\n",
       "152821  200697  51.2206         1        7       Z       0       Z       0   \n",
       "152822  200697  52.0203         1        7       Z       0       Z       0   \n",
       "152823  200697  52.1201         1        7       Z       0       Z       0   \n",
       "152824  200697  99.0000         1        7       Z       0       Z       0   \n",
       "152825  200697  99.0000         1        9       Z       0       Z       0   \n",
       "\n",
       "       XCRACE03  CRACE03  ... XDVCHSM  DVCHSM XDVCHSW  DVCHSW XDVCWHT  DVCWHT  \\\n",
       "152821        Z      0.0  ...       Z       0       Z       0       R       2   \n",
       "152822        Z      0.0  ...       Z       0       Z       0       R      12   \n",
       "152823        R      1.0  ...       Z       0       Z       0       R      24   \n",
       "152824        R      2.0  ...       Z       0       Z       0       R     209   \n",
       "152825        R      1.0  ...       Z       0       Z       0       R      21   \n",
       "\n",
       "       XDVCWHM  DVCWHM XDVCWHW  DVCWHW    \n",
       "152821       R       1       R         1  \n",
       "152822       R      11       R         1  \n",
       "152823       R      23       R         1  \n",
       "152824       R     184       R        25  \n",
       "152825       R      19       R         2  \n",
       "\n",
       "[5 rows x 124 columns]"
      ]
     },
     "execution_count": 792,
     "metadata": {},
     "output_type": "execute_result"
    }
   ],
   "source": [
    "years = make_years(all_completions, all_unis, 0)\n",
    "years[2008][0].tail()\n"
   ]
  },
  {
   "cell_type": "code",
   "execution_count": 820,
   "metadata": {},
   "outputs": [],
   "source": [
    "def make_percents(cs, nonCs):\n",
    "    cs = cs.set_index(['UNITID', 'year', 'STABBR'])\n",
    "    nonCs = nonCs.set_index(['UNITID', 'year', 'STABBR'])\n",
    "    cs = cs.apply(lambda x: x / x['CTOTALT'], axis = 1)\n",
    "    nonCs = nonCs.apply(lambda x: x / x['CTOTALT'], axis = 1)\n",
    "    cs = cs.reset_index()\n",
    "    nonCs = nonCs.reset_index()\n",
    "    return cs, nonCs\n",
    "\n",
    "def make_years(completions, unis, region):\n",
    "    years = {}\n",
    "    for year in range(2008, 2022):\n",
    "        year_completions, year_unis = region_processing(unis[year], completions[year], region)\n",
    "        years[year] = [year_completions, year_unis]\n",
    "    return years"
   ]
  },
  {
   "cell_type": "code",
   "execution_count": 796,
   "metadata": {},
   "outputs": [
    {
     "data": {
      "text/html": [
       "<div>\n",
       "<style scoped>\n",
       "    .dataframe tbody tr th:only-of-type {\n",
       "        vertical-align: middle;\n",
       "    }\n",
       "\n",
       "    .dataframe tbody tr th {\n",
       "        vertical-align: top;\n",
       "    }\n",
       "\n",
       "    .dataframe thead th {\n",
       "        text-align: right;\n",
       "    }\n",
       "</style>\n",
       "<table border=\"1\" class=\"dataframe\">\n",
       "  <thead>\n",
       "    <tr style=\"text-align: right;\">\n",
       "      <th></th>\n",
       "      <th>STABBR</th>\n",
       "      <th>UNITID</th>\n",
       "      <th>CTOTALW</th>\n",
       "      <th>CAIANT</th>\n",
       "      <th>CBKAAT</th>\n",
       "      <th>CHISPT</th>\n",
       "      <th>CTOTALT</th>\n",
       "      <th>year</th>\n",
       "    </tr>\n",
       "  </thead>\n",
       "  <tbody>\n",
       "    <tr>\n",
       "      <th>0</th>\n",
       "      <td>CA</td>\n",
       "      <td>119678</td>\n",
       "      <td>3</td>\n",
       "      <td>0.0</td>\n",
       "      <td>0.0</td>\n",
       "      <td>0.0</td>\n",
       "      <td>92</td>\n",
       "      <td>2008</td>\n",
       "    </tr>\n",
       "    <tr>\n",
       "      <th>1</th>\n",
       "      <td>CO</td>\n",
       "      <td>128328</td>\n",
       "      <td>0</td>\n",
       "      <td>0.0</td>\n",
       "      <td>0.0</td>\n",
       "      <td>0.0</td>\n",
       "      <td>10</td>\n",
       "      <td>2008</td>\n",
       "    </tr>\n",
       "    <tr>\n",
       "      <th>2</th>\n",
       "      <td>MD</td>\n",
       "      <td>164155</td>\n",
       "      <td>5</td>\n",
       "      <td>0.0</td>\n",
       "      <td>0.0</td>\n",
       "      <td>0.0</td>\n",
       "      <td>57</td>\n",
       "      <td>2008</td>\n",
       "    </tr>\n",
       "    <tr>\n",
       "      <th>3</th>\n",
       "      <td>NY</td>\n",
       "      <td>197036</td>\n",
       "      <td>3</td>\n",
       "      <td>1.0</td>\n",
       "      <td>0.0</td>\n",
       "      <td>0.0</td>\n",
       "      <td>26</td>\n",
       "      <td>2008</td>\n",
       "    </tr>\n",
       "    <tr>\n",
       "      <th>4</th>\n",
       "      <td>OH</td>\n",
       "      <td>200697</td>\n",
       "      <td>6</td>\n",
       "      <td>0.0</td>\n",
       "      <td>0.0</td>\n",
       "      <td>0.0</td>\n",
       "      <td>48</td>\n",
       "      <td>2008</td>\n",
       "    </tr>\n",
       "    <tr>\n",
       "      <th>...</th>\n",
       "      <td>...</td>\n",
       "      <td>...</td>\n",
       "      <td>...</td>\n",
       "      <td>...</td>\n",
       "      <td>...</td>\n",
       "      <td>...</td>\n",
       "      <td>...</td>\n",
       "      <td>...</td>\n",
       "    </tr>\n",
       "    <tr>\n",
       "      <th>1</th>\n",
       "      <td>CO</td>\n",
       "      <td>128328</td>\n",
       "      <td>5</td>\n",
       "      <td>0.0</td>\n",
       "      <td>2.0</td>\n",
       "      <td>2.0</td>\n",
       "      <td>32</td>\n",
       "      <td>2021</td>\n",
       "    </tr>\n",
       "    <tr>\n",
       "      <th>2</th>\n",
       "      <td>CT</td>\n",
       "      <td>130624</td>\n",
       "      <td>0</td>\n",
       "      <td>0.0</td>\n",
       "      <td>0.0</td>\n",
       "      <td>0.0</td>\n",
       "      <td>0</td>\n",
       "      <td>2021</td>\n",
       "    </tr>\n",
       "    <tr>\n",
       "      <th>3</th>\n",
       "      <td>MD</td>\n",
       "      <td>164155</td>\n",
       "      <td>15</td>\n",
       "      <td>0.0</td>\n",
       "      <td>4.0</td>\n",
       "      <td>10.0</td>\n",
       "      <td>76</td>\n",
       "      <td>2021</td>\n",
       "    </tr>\n",
       "    <tr>\n",
       "      <th>4</th>\n",
       "      <td>NY</td>\n",
       "      <td>197036</td>\n",
       "      <td>6</td>\n",
       "      <td>0.0</td>\n",
       "      <td>2.0</td>\n",
       "      <td>6.0</td>\n",
       "      <td>43</td>\n",
       "      <td>2021</td>\n",
       "    </tr>\n",
       "    <tr>\n",
       "      <th>5</th>\n",
       "      <td>OH</td>\n",
       "      <td>200697</td>\n",
       "      <td>4</td>\n",
       "      <td>0.0</td>\n",
       "      <td>1.0</td>\n",
       "      <td>2.0</td>\n",
       "      <td>34</td>\n",
       "      <td>2021</td>\n",
       "    </tr>\n",
       "  </tbody>\n",
       "</table>\n",
       "<p>73 rows × 8 columns</p>\n",
       "</div>"
      ],
      "text/plain": [
       "   STABBR  UNITID  CTOTALW  CAIANT  CBKAAT  CHISPT  CTOTALT  year\n",
       "0      CA  119678        3     0.0     0.0     0.0       92  2008\n",
       "1      CO  128328        0     0.0     0.0     0.0       10  2008\n",
       "2      MD  164155        5     0.0     0.0     0.0       57  2008\n",
       "3      NY  197036        3     1.0     0.0     0.0       26  2008\n",
       "4      OH  200697        6     0.0     0.0     0.0       48  2008\n",
       "..    ...     ...      ...     ...     ...     ...      ...   ...\n",
       "1      CO  128328        5     0.0     2.0     2.0       32  2021\n",
       "2      CT  130624        0     0.0     0.0     0.0        0  2021\n",
       "3      MD  164155       15     0.0     4.0    10.0       76  2021\n",
       "4      NY  197036        6     0.0     2.0     6.0       43  2021\n",
       "5      OH  200697        4     0.0     1.0     2.0       34  2021\n",
       "\n",
       "[73 rows x 8 columns]"
      ]
     },
     "execution_count": 796,
     "metadata": {},
     "output_type": "execute_result"
    }
   ],
   "source": [
    "csGroupTest, nonCsGroupTest = groupTotals(years)\n",
    "csGroupTest"
   ]
  },
  {
   "cell_type": "code",
   "execution_count": 799,
   "metadata": {},
   "outputs": [
    {
     "data": {
      "text/html": [
       "<div>\n",
       "<style scoped>\n",
       "    .dataframe tbody tr th:only-of-type {\n",
       "        vertical-align: middle;\n",
       "    }\n",
       "\n",
       "    .dataframe tbody tr th {\n",
       "        vertical-align: top;\n",
       "    }\n",
       "\n",
       "    .dataframe thead th {\n",
       "        text-align: right;\n",
       "    }\n",
       "</style>\n",
       "<table border=\"1\" class=\"dataframe\">\n",
       "  <thead>\n",
       "    <tr style=\"text-align: right;\">\n",
       "      <th></th>\n",
       "      <th>UNITID</th>\n",
       "      <th>year</th>\n",
       "      <th>STABBR</th>\n",
       "      <th>CTOTALW</th>\n",
       "      <th>CAIANT</th>\n",
       "      <th>CBKAAT</th>\n",
       "      <th>CHISPT</th>\n",
       "      <th>CTOTALT</th>\n",
       "    </tr>\n",
       "  </thead>\n",
       "  <tbody>\n",
       "    <tr>\n",
       "      <th>0</th>\n",
       "      <td>119678</td>\n",
       "      <td>2008</td>\n",
       "      <td>CA</td>\n",
       "      <td>0.089812</td>\n",
       "      <td>0.000000</td>\n",
       "      <td>0.000000</td>\n",
       "      <td>0.000000</td>\n",
       "      <td>1.0</td>\n",
       "    </tr>\n",
       "    <tr>\n",
       "      <th>1</th>\n",
       "      <td>128328</td>\n",
       "      <td>2008</td>\n",
       "      <td>CO</td>\n",
       "      <td>0.184261</td>\n",
       "      <td>0.000000</td>\n",
       "      <td>0.000000</td>\n",
       "      <td>0.000000</td>\n",
       "      <td>1.0</td>\n",
       "    </tr>\n",
       "    <tr>\n",
       "      <th>2</th>\n",
       "      <td>164155</td>\n",
       "      <td>2008</td>\n",
       "      <td>MD</td>\n",
       "      <td>0.208373</td>\n",
       "      <td>0.000000</td>\n",
       "      <td>0.000000</td>\n",
       "      <td>0.000000</td>\n",
       "      <td>1.0</td>\n",
       "    </tr>\n",
       "    <tr>\n",
       "      <th>3</th>\n",
       "      <td>197036</td>\n",
       "      <td>2008</td>\n",
       "      <td>NY</td>\n",
       "      <td>0.233249</td>\n",
       "      <td>0.011026</td>\n",
       "      <td>0.052587</td>\n",
       "      <td>0.052587</td>\n",
       "      <td>1.0</td>\n",
       "    </tr>\n",
       "    <tr>\n",
       "      <th>4</th>\n",
       "      <td>200697</td>\n",
       "      <td>2008</td>\n",
       "      <td>OH</td>\n",
       "      <td>0.113350</td>\n",
       "      <td>0.000000</td>\n",
       "      <td>0.000000</td>\n",
       "      <td>0.000000</td>\n",
       "      <td>1.0</td>\n",
       "    </tr>\n",
       "    <tr>\n",
       "      <th>...</th>\n",
       "      <td>...</td>\n",
       "      <td>...</td>\n",
       "      <td>...</td>\n",
       "      <td>...</td>\n",
       "      <td>...</td>\n",
       "      <td>...</td>\n",
       "      <td>...</td>\n",
       "      <td>...</td>\n",
       "    </tr>\n",
       "    <tr>\n",
       "      <th>68</th>\n",
       "      <td>128328</td>\n",
       "      <td>2021</td>\n",
       "      <td>CO</td>\n",
       "      <td>0.281930</td>\n",
       "      <td>0.003784</td>\n",
       "      <td>0.054872</td>\n",
       "      <td>0.097446</td>\n",
       "      <td>1.0</td>\n",
       "    </tr>\n",
       "    <tr>\n",
       "      <th>69</th>\n",
       "      <td>130624</td>\n",
       "      <td>2021</td>\n",
       "      <td>CT</td>\n",
       "      <td>0.337302</td>\n",
       "      <td>0.007937</td>\n",
       "      <td>0.063492</td>\n",
       "      <td>0.126984</td>\n",
       "      <td>1.0</td>\n",
       "    </tr>\n",
       "    <tr>\n",
       "      <th>70</th>\n",
       "      <td>164155</td>\n",
       "      <td>2021</td>\n",
       "      <td>MD</td>\n",
       "      <td>0.280390</td>\n",
       "      <td>0.000887</td>\n",
       "      <td>0.055901</td>\n",
       "      <td>0.113576</td>\n",
       "      <td>1.0</td>\n",
       "    </tr>\n",
       "    <tr>\n",
       "      <th>71</th>\n",
       "      <td>197036</td>\n",
       "      <td>2021</td>\n",
       "      <td>NY</td>\n",
       "      <td>0.240076</td>\n",
       "      <td>0.010397</td>\n",
       "      <td>0.123819</td>\n",
       "      <td>0.103025</td>\n",
       "      <td>1.0</td>\n",
       "    </tr>\n",
       "    <tr>\n",
       "      <th>72</th>\n",
       "      <td>200697</td>\n",
       "      <td>2021</td>\n",
       "      <td>OH</td>\n",
       "      <td>0.150754</td>\n",
       "      <td>0.001675</td>\n",
       "      <td>0.040201</td>\n",
       "      <td>0.055276</td>\n",
       "      <td>1.0</td>\n",
       "    </tr>\n",
       "  </tbody>\n",
       "</table>\n",
       "<p>73 rows × 8 columns</p>\n",
       "</div>"
      ],
      "text/plain": [
       "    UNITID  year STABBR   CTOTALW    CAIANT    CBKAAT    CHISPT  CTOTALT\n",
       "0   119678  2008     CA  0.089812  0.000000  0.000000  0.000000      1.0\n",
       "1   128328  2008     CO  0.184261  0.000000  0.000000  0.000000      1.0\n",
       "2   164155  2008     MD  0.208373  0.000000  0.000000  0.000000      1.0\n",
       "3   197036  2008     NY  0.233249  0.011026  0.052587  0.052587      1.0\n",
       "4   200697  2008     OH  0.113350  0.000000  0.000000  0.000000      1.0\n",
       "..     ...   ...    ...       ...       ...       ...       ...      ...\n",
       "68  128328  2021     CO  0.281930  0.003784  0.054872  0.097446      1.0\n",
       "69  130624  2021     CT  0.337302  0.007937  0.063492  0.126984      1.0\n",
       "70  164155  2021     MD  0.280390  0.000887  0.055901  0.113576      1.0\n",
       "71  197036  2021     NY  0.240076  0.010397  0.123819  0.103025      1.0\n",
       "72  200697  2021     OH  0.150754  0.001675  0.040201  0.055276      1.0\n",
       "\n",
       "[73 rows x 8 columns]"
      ]
     },
     "execution_count": 799,
     "metadata": {},
     "output_type": "execute_result"
    }
   ],
   "source": [
    "csPercentTest, nonCsPercentTest = make_percents(csGroupTest, nonCsGroupTest)\n",
    "nonCsPercentTest"
   ]
  },
  {
   "cell_type": "code",
   "execution_count": 634,
   "metadata": {},
   "outputs": [
    {
     "data": {
      "text/html": [
       "<div>\n",
       "<style scoped>\n",
       "    .dataframe tbody tr th:only-of-type {\n",
       "        vertical-align: middle;\n",
       "    }\n",
       "\n",
       "    .dataframe tbody tr th {\n",
       "        vertical-align: top;\n",
       "    }\n",
       "\n",
       "    .dataframe thead th {\n",
       "        text-align: right;\n",
       "    }\n",
       "</style>\n",
       "<table border=\"1\" class=\"dataframe\">\n",
       "  <thead>\n",
       "    <tr style=\"text-align: right;\">\n",
       "      <th></th>\n",
       "      <th>STABBR</th>\n",
       "      <th>UNITID</th>\n",
       "      <th>CTOTALW</th>\n",
       "      <th>CAIANT</th>\n",
       "      <th>CBKAAT</th>\n",
       "      <th>CHISPT</th>\n",
       "      <th>CTOTALT</th>\n",
       "      <th>year</th>\n",
       "    </tr>\n",
       "  </thead>\n",
       "  <tbody>\n",
       "    <tr>\n",
       "      <th>2</th>\n",
       "      <td>AR</td>\n",
       "      <td>5816290</td>\n",
       "      <td>185</td>\n",
       "      <td>8</td>\n",
       "      <td>103</td>\n",
       "      <td>33</td>\n",
       "      <td>820</td>\n",
       "      <td>2015</td>\n",
       "    </tr>\n",
       "    <tr>\n",
       "      <th>2</th>\n",
       "      <td>AR</td>\n",
       "      <td>5616625</td>\n",
       "      <td>228</td>\n",
       "      <td>6</td>\n",
       "      <td>92</td>\n",
       "      <td>20</td>\n",
       "      <td>944</td>\n",
       "      <td>2016</td>\n",
       "    </tr>\n",
       "    <tr>\n",
       "      <th>2</th>\n",
       "      <td>AR</td>\n",
       "      <td>5831288</td>\n",
       "      <td>355</td>\n",
       "      <td>7</td>\n",
       "      <td>125</td>\n",
       "      <td>36</td>\n",
       "      <td>1675</td>\n",
       "      <td>2017</td>\n",
       "    </tr>\n",
       "    <tr>\n",
       "      <th>2</th>\n",
       "      <td>AR</td>\n",
       "      <td>5453115</td>\n",
       "      <td>373</td>\n",
       "      <td>12</td>\n",
       "      <td>125</td>\n",
       "      <td>66</td>\n",
       "      <td>1753</td>\n",
       "      <td>2018</td>\n",
       "    </tr>\n",
       "    <tr>\n",
       "      <th>2</th>\n",
       "      <td>AR</td>\n",
       "      <td>5946424</td>\n",
       "      <td>337</td>\n",
       "      <td>3</td>\n",
       "      <td>143</td>\n",
       "      <td>71</td>\n",
       "      <td>1484</td>\n",
       "      <td>2019</td>\n",
       "    </tr>\n",
       "    <tr>\n",
       "      <th>2</th>\n",
       "      <td>AR</td>\n",
       "      <td>5840151</td>\n",
       "      <td>349</td>\n",
       "      <td>3</td>\n",
       "      <td>122</td>\n",
       "      <td>84</td>\n",
       "      <td>1482</td>\n",
       "      <td>2020</td>\n",
       "    </tr>\n",
       "  </tbody>\n",
       "</table>\n",
       "</div>"
      ],
      "text/plain": [
       "  STABBR   UNITID  CTOTALW  CAIANT  CBKAAT  CHISPT  CTOTALT  year\n",
       "2     AR  5816290      185       8     103      33      820  2015\n",
       "2     AR  5616625      228       6      92      20      944  2016\n",
       "2     AR  5831288      355       7     125      36     1675  2017\n",
       "2     AR  5453115      373      12     125      66     1753  2018\n",
       "2     AR  5946424      337       3     143      71     1484  2019\n",
       "2     AR  5840151      349       3     122      84     1482  2020"
      ]
     },
     "execution_count": 634,
     "metadata": {},
     "output_type": "execute_result"
    }
   ],
   "source": [
    "arkansasBoolmap = allCsState['STABBR'] == 'AR'\n",
    "arkansas = allCsState[arkansasBoolmap]\n",
    "arkansas"
   ]
  },
  {
   "cell_type": "code",
   "execution_count": 653,
   "metadata": {},
   "outputs": [],
   "source": [
    "stateAbbr = []\n",
    "for state in set(allCsState['STABBR']):\n",
    "    stateAbbr.append(state)\n",
    "stateAbbr = sorted(stateAbbr)"
   ]
  },
  {
   "cell_type": "code",
   "execution_count": 835,
   "metadata": {},
   "outputs": [],
   "source": [
    "from matplotlib import pyplot as plt\n",
    "demos = ['women', 'native', 'black', 'hispanic']\n",
    "def statePlot(cs, nonCs, state, axs, i):\n",
    "    stateCsBoolMap = cs['STABBR'] == state\n",
    "    stateNonCsBoolMap = nonCs['STABBR'] == state\n",
    "    stateCs     = cs[stateCsBoolMap]\n",
    "    stateNonCs  = nonCs[stateNonCsBoolMap]\n",
    "    stateCs     = stateCs[['STABBR', 'CTOTALW', 'CAIANT', \\\n",
    "                    'CBKAAT', 'CHISPT', 'year']]\n",
    "    stateNonCs  = stateNonCs[['STABBR', 'CTOTALW', 'CAIANT', \\\n",
    "                    'CBKAAT', 'CHISPT', 'year']]\n",
    "    stateCs.columns = ['state', 'women', 'native', 'black', 'hispanic', 'year']\n",
    "    stateNonCs.columns = ['state', 'women', 'native', 'black', 'hispanic', 'year']\n",
    "    for j, demo in enumerate(demos):\n",
    "        plots(demo, stateCs, stateNonCs, state, axs, i, j)\n",
    "       # axs[i].set_title(state)\n",
    "    \n",
    "def plots(demo, cs, nonCs, state, axs, i, j):\n",
    "    axs[i][j].plot(cs['year'], cs[demo], label = demo + ' in ' + \\\n",
    "                                                        state + ' in CS')\n",
    "    axs[i][j].plot(nonCs['year'], nonCs[demo], label = demo + ' in ' + \\\n",
    "                                                        state + ' in NonCS')\n",
    "    #axs[i][j].suptitle(state)\n",
    "    axs[i][j].set_title(state + '\\n' + demo)\n",
    "    axs[i][j].set_xlabel('year')\n",
    "    #axs[i][j].legend()\n",
    "    # #plt.title('Total # of ' + demo + ' in ' + state)\n",
    "    # plt.figure()\n",
    "\n",
    "def regional_plotting(cs, nonCs, region):\n",
    "    fig, axs = plt.subplots(len(set(cs['STABBR'])), 4, figsize = (10, 10 * len(set(cs['STABBR']))))\n",
    "    for j, state in enumerate(set(cs['STABBR'])):\n",
    "        statePlot(cs, nonCs, state, axs, j)\n",
    "    plt.tight_layout()\n",
    "    plt.savefig('../out/Regional Line Plots/%s.png'%reg_code_to_label[region])\n",
    "    plt.close()\n",
    "\n",
    "    \n",
    "\n"
   ]
  },
  {
   "cell_type": "code",
   "execution_count": 836,
   "metadata": {},
   "outputs": [],
   "source": [
    "def plotting_regional_data():\n",
    "    for region in reg_code_to_label.keys():\n",
    "        years = make_years(all_completions, all_unis, region)\n",
    "        csGroup, nonCsGroup = groupTotals(years)\n",
    "        csPercent, nonCsPercent = make_percents(csGroup, nonCsGroup)\n",
    "        regional_plotting(csPercent, nonCsPercent, region)\n"
   ]
  },
  {
   "cell_type": "code",
   "execution_count": 837,
   "metadata": {},
   "outputs": [],
   "source": [
    "plotting_regional_data()"
   ]
  },
  {
   "cell_type": "code",
   "execution_count": null,
   "metadata": {},
   "outputs": [],
   "source": []
  }
 ],
 "metadata": {
  "interpreter": {
   "hash": "aee8b7b246df8f9039afb4144a1f6fd8d2ca17a180786b69acc140d282b71a49"
  },
  "kernelspec": {
   "display_name": "Python 3.7.9 64-bit",
   "language": "python",
   "name": "python3"
  },
  "language_info": {
   "codemirror_mode": {
    "name": "ipython",
    "version": 3
   },
   "file_extension": ".py",
   "mimetype": "text/x-python",
   "name": "python",
   "nbconvert_exporter": "python",
   "pygments_lexer": "ipython3",
   "version": "3.9.13"
  },
  "orig_nbformat": 4
 },
 "nbformat": 4,
 "nbformat_minor": 2
}
