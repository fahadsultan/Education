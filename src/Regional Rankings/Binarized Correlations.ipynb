{
 "cells": [
  {
   "cell_type": "code",
   "execution_count": 1,
   "metadata": {},
   "outputs": [],
   "source": [
    "import pandas as pd\n",
    "from matplotlib import pyplot as plt\n",
    "from glob import glob\n",
    "from scipy.stats import mannwhitneyu, ttest_ind\n",
    "from tqdm import tqdm\n",
    "import numpy as np \n",
    "import math\n",
    "import seaborn as sns\n",
    "%matplotlib inline\n",
    "def process_unis():\n",
    "    unis = pd.read_csv('../../data/IPEDS/university_info/hd2021.csv', encoding='cp1252')\n",
    "    ## Preprocessing meta-data files\n",
    "    ### Updating names to match in rankings  \n",
    "    unis.loc[unis['IALIAS']=='Virginia Tech', 'INSTNM'] = 'Virginia Tech'\n",
    "    unis.loc[unis['INSTNM']=='University of Illinois Urbana-Champaign', 'INSTNM'] = 'University of Illinois at Urbana-Champaign'\n",
    "    unis.loc[(unis['INSTNM']==\"St. John's College\") & (unis['STABBR']=='MD'), 'INSTNM'] = \"St. John's College - MD\"\n",
    "    unis.loc[(unis['INSTNM']==\"St. John's College\") & (unis['STABBR']=='NM'), 'INSTNM'] = \"St. John's College - NM\"\n",
    "    unis.loc[unis['INSTNM']==\"William & Mary\", 'INSTNM'] = \"College of William and Mary\"\n",
    "    unis.loc[(unis['INSTNM']==\"Brigham Young University\") & (unis['CITY']=='Provo'), 'INSTNM'] = \"Brigham Young University-Provo\"\n",
    "    unis.loc[(unis['INSTNM']==\"The University of the South\") & (unis['CITY']=='Sewanee'), 'INSTNM'] = \"Sewanee - The University of the South\"\n",
    "        \n",
    "    return unis\n",
    "\n",
    "def process_completions(year):\n",
    "    completions = pd.read_csv('../../data/IPEDS/completions/c%s_a.csv' % year)\n",
    "    return completions\n",
    "# hard coded it because of assignment errors"
   ]
  },
  {
   "cell_type": "code",
   "execution_count": 2,
   "metadata": {},
   "outputs": [],
   "source": [
    "def startup():\n",
    "    all_unis = {}\n",
    "    all_completions = {}\n",
    "    for year in range(2008, 2022):\n",
    "        all_unis[year] = process_unis()\n",
    "        all_completions[year] = process_completions(year)\n",
    "    cols = ['UNITID', 'CTOTALW', 'CAIANT', 'CBKAAT', 'CHISPT']\n",
    "    return all_unis, all_completions, cols"
   ]
  },
  {
   "cell_type": "code",
   "execution_count": null,
   "metadata": {},
   "outputs": [],
   "source": [
    "def binarize(data, unis, col):\n",
    "    for value in col:\n",
    "        data[value] = 0\n",
    "    merged = pd.merge(data, unis[[col, 'UNITID']] on='UNITID')\n",
    "    merged = merged.apply(lambda x: )"
   ]
  }
 ],
 "metadata": {
  "interpreter": {
   "hash": "a0445772163e85b2284d69b02b8fb9964ee49d8cb03c72e2773a428f86e13ecc"
  },
  "kernelspec": {
   "display_name": "Python 3.9.13 ('base')",
   "language": "python",
   "name": "python3"
  },
  "language_info": {
   "codemirror_mode": {
    "name": "ipython",
    "version": 3
   },
   "file_extension": ".py",
   "mimetype": "text/x-python",
   "name": "python",
   "nbconvert_exporter": "python",
   "pygments_lexer": "ipython3",
   "version": "3.9.13"
  },
  "orig_nbformat": 4
 },
 "nbformat": 4,
 "nbformat_minor": 2
}
